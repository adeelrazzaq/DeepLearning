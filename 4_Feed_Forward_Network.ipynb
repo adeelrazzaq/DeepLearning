{
  "nbformat": 4,
  "nbformat_minor": 0,
  "metadata": {
    "colab": {
      "name": "4_Feed_Forward_Network.ipynb",
      "provenance": [],
      "collapsed_sections": [],
      "include_colab_link": true
    },
    "kernelspec": {
      "name": "python3",
      "display_name": "Python 3"
    },
    "widgets": {
      "application/vnd.jupyter.widget-state+json": {
        "a8a8b89901f844a8b4733a8fa4f2d3e0": {
          "model_module": "@jupyter-widgets/controls",
          "model_name": "HBoxModel",
          "state": {
            "_view_name": "HBoxView",
            "_dom_classes": [],
            "_model_name": "HBoxModel",
            "_view_module": "@jupyter-widgets/controls",
            "_model_module_version": "1.5.0",
            "_view_count": null,
            "_view_module_version": "1.5.0",
            "box_style": "",
            "layout": "IPY_MODEL_c2dd130e463c4049abcb69db5cd8efa0",
            "_model_module": "@jupyter-widgets/controls",
            "children": [
              "IPY_MODEL_dc8bcda189e44c6780bc540b613c5e5f",
              "IPY_MODEL_9e073c5949db43ad9c08a31451505ddc"
            ]
          }
        },
        "c2dd130e463c4049abcb69db5cd8efa0": {
          "model_module": "@jupyter-widgets/base",
          "model_name": "LayoutModel",
          "state": {
            "_view_name": "LayoutView",
            "grid_template_rows": null,
            "right": null,
            "justify_content": null,
            "_view_module": "@jupyter-widgets/base",
            "overflow": null,
            "_model_module_version": "1.2.0",
            "_view_count": null,
            "flex_flow": null,
            "width": null,
            "min_width": null,
            "border": null,
            "align_items": null,
            "bottom": null,
            "_model_module": "@jupyter-widgets/base",
            "top": null,
            "grid_column": null,
            "overflow_y": null,
            "overflow_x": null,
            "grid_auto_flow": null,
            "grid_area": null,
            "grid_template_columns": null,
            "flex": null,
            "_model_name": "LayoutModel",
            "justify_items": null,
            "grid_row": null,
            "max_height": null,
            "align_content": null,
            "visibility": null,
            "align_self": null,
            "height": null,
            "min_height": null,
            "padding": null,
            "grid_auto_rows": null,
            "grid_gap": null,
            "max_width": null,
            "order": null,
            "_view_module_version": "1.2.0",
            "grid_template_areas": null,
            "object_position": null,
            "object_fit": null,
            "grid_auto_columns": null,
            "margin": null,
            "display": null,
            "left": null
          }
        },
        "dc8bcda189e44c6780bc540b613c5e5f": {
          "model_module": "@jupyter-widgets/controls",
          "model_name": "IntProgressModel",
          "state": {
            "_view_name": "ProgressView",
            "style": "IPY_MODEL_ce92b80eb1bd476abb290f065de3847e",
            "_dom_classes": [],
            "description": "",
            "_model_name": "IntProgressModel",
            "bar_style": "success",
            "max": 1000,
            "_view_module": "@jupyter-widgets/controls",
            "_model_module_version": "1.5.0",
            "value": 1000,
            "_view_count": null,
            "_view_module_version": "1.5.0",
            "orientation": "horizontal",
            "min": 0,
            "description_tooltip": null,
            "_model_module": "@jupyter-widgets/controls",
            "layout": "IPY_MODEL_65ffeb44b76b4bf2bd556f353fb51298"
          }
        },
        "9e073c5949db43ad9c08a31451505ddc": {
          "model_module": "@jupyter-widgets/controls",
          "model_name": "HTMLModel",
          "state": {
            "_view_name": "HTMLView",
            "style": "IPY_MODEL_48d635437ef54a7ab6deb66e96157333",
            "_dom_classes": [],
            "description": "",
            "_model_name": "HTMLModel",
            "placeholder": "​",
            "_view_module": "@jupyter-widgets/controls",
            "_model_module_version": "1.5.0",
            "value": "100% 1000/1000 [00:27&lt;00:00, 36.70epoch/s]",
            "_view_count": null,
            "_view_module_version": "1.5.0",
            "description_tooltip": null,
            "_model_module": "@jupyter-widgets/controls",
            "layout": "IPY_MODEL_f511faf2b43e481ca2ccae7aa2475e18"
          }
        },
        "ce92b80eb1bd476abb290f065de3847e": {
          "model_module": "@jupyter-widgets/controls",
          "model_name": "ProgressStyleModel",
          "state": {
            "_view_name": "StyleView",
            "_model_name": "ProgressStyleModel",
            "description_width": "",
            "_view_module": "@jupyter-widgets/base",
            "_model_module_version": "1.5.0",
            "_view_count": null,
            "_view_module_version": "1.2.0",
            "bar_color": null,
            "_model_module": "@jupyter-widgets/controls"
          }
        },
        "65ffeb44b76b4bf2bd556f353fb51298": {
          "model_module": "@jupyter-widgets/base",
          "model_name": "LayoutModel",
          "state": {
            "_view_name": "LayoutView",
            "grid_template_rows": null,
            "right": null,
            "justify_content": null,
            "_view_module": "@jupyter-widgets/base",
            "overflow": null,
            "_model_module_version": "1.2.0",
            "_view_count": null,
            "flex_flow": null,
            "width": null,
            "min_width": null,
            "border": null,
            "align_items": null,
            "bottom": null,
            "_model_module": "@jupyter-widgets/base",
            "top": null,
            "grid_column": null,
            "overflow_y": null,
            "overflow_x": null,
            "grid_auto_flow": null,
            "grid_area": null,
            "grid_template_columns": null,
            "flex": null,
            "_model_name": "LayoutModel",
            "justify_items": null,
            "grid_row": null,
            "max_height": null,
            "align_content": null,
            "visibility": null,
            "align_self": null,
            "height": null,
            "min_height": null,
            "padding": null,
            "grid_auto_rows": null,
            "grid_gap": null,
            "max_width": null,
            "order": null,
            "_view_module_version": "1.2.0",
            "grid_template_areas": null,
            "object_position": null,
            "object_fit": null,
            "grid_auto_columns": null,
            "margin": null,
            "display": null,
            "left": null
          }
        },
        "48d635437ef54a7ab6deb66e96157333": {
          "model_module": "@jupyter-widgets/controls",
          "model_name": "DescriptionStyleModel",
          "state": {
            "_view_name": "StyleView",
            "_model_name": "DescriptionStyleModel",
            "description_width": "",
            "_view_module": "@jupyter-widgets/base",
            "_model_module_version": "1.5.0",
            "_view_count": null,
            "_view_module_version": "1.2.0",
            "_model_module": "@jupyter-widgets/controls"
          }
        },
        "f511faf2b43e481ca2ccae7aa2475e18": {
          "model_module": "@jupyter-widgets/base",
          "model_name": "LayoutModel",
          "state": {
            "_view_name": "LayoutView",
            "grid_template_rows": null,
            "right": null,
            "justify_content": null,
            "_view_module": "@jupyter-widgets/base",
            "overflow": null,
            "_model_module_version": "1.2.0",
            "_view_count": null,
            "flex_flow": null,
            "width": null,
            "min_width": null,
            "border": null,
            "align_items": null,
            "bottom": null,
            "_model_module": "@jupyter-widgets/base",
            "top": null,
            "grid_column": null,
            "overflow_y": null,
            "overflow_x": null,
            "grid_auto_flow": null,
            "grid_area": null,
            "grid_template_columns": null,
            "flex": null,
            "_model_name": "LayoutModel",
            "justify_items": null,
            "grid_row": null,
            "max_height": null,
            "align_content": null,
            "visibility": null,
            "align_self": null,
            "height": null,
            "min_height": null,
            "padding": null,
            "grid_auto_rows": null,
            "grid_gap": null,
            "max_width": null,
            "order": null,
            "_view_module_version": "1.2.0",
            "grid_template_areas": null,
            "object_position": null,
            "object_fit": null,
            "grid_auto_columns": null,
            "margin": null,
            "display": null,
            "left": null
          }
        },
        "76c9293434954104b71134d88f85a8b5": {
          "model_module": "@jupyter-widgets/controls",
          "model_name": "HBoxModel",
          "state": {
            "_view_name": "HBoxView",
            "_dom_classes": [],
            "_model_name": "HBoxModel",
            "_view_module": "@jupyter-widgets/controls",
            "_model_module_version": "1.5.0",
            "_view_count": null,
            "_view_module_version": "1.5.0",
            "box_style": "",
            "layout": "IPY_MODEL_fd0b9d055a0445d1bde3db8470ecc79e",
            "_model_module": "@jupyter-widgets/controls",
            "children": [
              "IPY_MODEL_16024bcfa0a34568bd1b59c598086014",
              "IPY_MODEL_1ccb2fad1e64445886bff5fca546925f"
            ]
          }
        },
        "fd0b9d055a0445d1bde3db8470ecc79e": {
          "model_module": "@jupyter-widgets/base",
          "model_name": "LayoutModel",
          "state": {
            "_view_name": "LayoutView",
            "grid_template_rows": null,
            "right": null,
            "justify_content": null,
            "_view_module": "@jupyter-widgets/base",
            "overflow": null,
            "_model_module_version": "1.2.0",
            "_view_count": null,
            "flex_flow": null,
            "width": null,
            "min_width": null,
            "border": null,
            "align_items": null,
            "bottom": null,
            "_model_module": "@jupyter-widgets/base",
            "top": null,
            "grid_column": null,
            "overflow_y": null,
            "overflow_x": null,
            "grid_auto_flow": null,
            "grid_area": null,
            "grid_template_columns": null,
            "flex": null,
            "_model_name": "LayoutModel",
            "justify_items": null,
            "grid_row": null,
            "max_height": null,
            "align_content": null,
            "visibility": null,
            "align_self": null,
            "height": null,
            "min_height": null,
            "padding": null,
            "grid_auto_rows": null,
            "grid_gap": null,
            "max_width": null,
            "order": null,
            "_view_module_version": "1.2.0",
            "grid_template_areas": null,
            "object_position": null,
            "object_fit": null,
            "grid_auto_columns": null,
            "margin": null,
            "display": null,
            "left": null
          }
        },
        "16024bcfa0a34568bd1b59c598086014": {
          "model_module": "@jupyter-widgets/controls",
          "model_name": "IntProgressModel",
          "state": {
            "_view_name": "ProgressView",
            "style": "IPY_MODEL_23363478d5d94d0c9fa61f6fe10a4e90",
            "_dom_classes": [],
            "description": "",
            "_model_name": "IntProgressModel",
            "bar_style": "success",
            "max": 1000,
            "_view_module": "@jupyter-widgets/controls",
            "_model_module_version": "1.5.0",
            "value": 1000,
            "_view_count": null,
            "_view_module_version": "1.5.0",
            "orientation": "horizontal",
            "min": 0,
            "description_tooltip": null,
            "_model_module": "@jupyter-widgets/controls",
            "layout": "IPY_MODEL_428dec54c86c4698ab590d8528c7902a"
          }
        },
        "1ccb2fad1e64445886bff5fca546925f": {
          "model_module": "@jupyter-widgets/controls",
          "model_name": "HTMLModel",
          "state": {
            "_view_name": "HTMLView",
            "style": "IPY_MODEL_8ac4abb4904b4c3d9dafcff7b32af65c",
            "_dom_classes": [],
            "description": "",
            "_model_name": "HTMLModel",
            "placeholder": "​",
            "_view_module": "@jupyter-widgets/controls",
            "_model_module_version": "1.5.0",
            "value": "100% 1000/1000 [00:27&lt;00:00, 36.43epoch/s]",
            "_view_count": null,
            "_view_module_version": "1.5.0",
            "description_tooltip": null,
            "_model_module": "@jupyter-widgets/controls",
            "layout": "IPY_MODEL_a489171ee8af4d71b2a2dae12dbf531b"
          }
        },
        "23363478d5d94d0c9fa61f6fe10a4e90": {
          "model_module": "@jupyter-widgets/controls",
          "model_name": "ProgressStyleModel",
          "state": {
            "_view_name": "StyleView",
            "_model_name": "ProgressStyleModel",
            "description_width": "",
            "_view_module": "@jupyter-widgets/base",
            "_model_module_version": "1.5.0",
            "_view_count": null,
            "_view_module_version": "1.2.0",
            "bar_color": null,
            "_model_module": "@jupyter-widgets/controls"
          }
        },
        "428dec54c86c4698ab590d8528c7902a": {
          "model_module": "@jupyter-widgets/base",
          "model_name": "LayoutModel",
          "state": {
            "_view_name": "LayoutView",
            "grid_template_rows": null,
            "right": null,
            "justify_content": null,
            "_view_module": "@jupyter-widgets/base",
            "overflow": null,
            "_model_module_version": "1.2.0",
            "_view_count": null,
            "flex_flow": null,
            "width": null,
            "min_width": null,
            "border": null,
            "align_items": null,
            "bottom": null,
            "_model_module": "@jupyter-widgets/base",
            "top": null,
            "grid_column": null,
            "overflow_y": null,
            "overflow_x": null,
            "grid_auto_flow": null,
            "grid_area": null,
            "grid_template_columns": null,
            "flex": null,
            "_model_name": "LayoutModel",
            "justify_items": null,
            "grid_row": null,
            "max_height": null,
            "align_content": null,
            "visibility": null,
            "align_self": null,
            "height": null,
            "min_height": null,
            "padding": null,
            "grid_auto_rows": null,
            "grid_gap": null,
            "max_width": null,
            "order": null,
            "_view_module_version": "1.2.0",
            "grid_template_areas": null,
            "object_position": null,
            "object_fit": null,
            "grid_auto_columns": null,
            "margin": null,
            "display": null,
            "left": null
          }
        },
        "8ac4abb4904b4c3d9dafcff7b32af65c": {
          "model_module": "@jupyter-widgets/controls",
          "model_name": "DescriptionStyleModel",
          "state": {
            "_view_name": "StyleView",
            "_model_name": "DescriptionStyleModel",
            "description_width": "",
            "_view_module": "@jupyter-widgets/base",
            "_model_module_version": "1.5.0",
            "_view_count": null,
            "_view_module_version": "1.2.0",
            "_model_module": "@jupyter-widgets/controls"
          }
        },
        "a489171ee8af4d71b2a2dae12dbf531b": {
          "model_module": "@jupyter-widgets/base",
          "model_name": "LayoutModel",
          "state": {
            "_view_name": "LayoutView",
            "grid_template_rows": null,
            "right": null,
            "justify_content": null,
            "_view_module": "@jupyter-widgets/base",
            "overflow": null,
            "_model_module_version": "1.2.0",
            "_view_count": null,
            "flex_flow": null,
            "width": null,
            "min_width": null,
            "border": null,
            "align_items": null,
            "bottom": null,
            "_model_module": "@jupyter-widgets/base",
            "top": null,
            "grid_column": null,
            "overflow_y": null,
            "overflow_x": null,
            "grid_auto_flow": null,
            "grid_area": null,
            "grid_template_columns": null,
            "flex": null,
            "_model_name": "LayoutModel",
            "justify_items": null,
            "grid_row": null,
            "max_height": null,
            "align_content": null,
            "visibility": null,
            "align_self": null,
            "height": null,
            "min_height": null,
            "padding": null,
            "grid_auto_rows": null,
            "grid_gap": null,
            "max_width": null,
            "order": null,
            "_view_module_version": "1.2.0",
            "grid_template_areas": null,
            "object_position": null,
            "object_fit": null,
            "grid_auto_columns": null,
            "margin": null,
            "display": null,
            "left": null
          }
        },
        "5cc57705dc3f4463b3c5ea19ae06190c": {
          "model_module": "@jupyter-widgets/controls",
          "model_name": "HBoxModel",
          "state": {
            "_view_name": "HBoxView",
            "_dom_classes": [],
            "_model_name": "HBoxModel",
            "_view_module": "@jupyter-widgets/controls",
            "_model_module_version": "1.5.0",
            "_view_count": null,
            "_view_module_version": "1.5.0",
            "box_style": "",
            "layout": "IPY_MODEL_f43a1bb53ed8417ab72b2d217d8cb71b",
            "_model_module": "@jupyter-widgets/controls",
            "children": [
              "IPY_MODEL_6eb421e3250946759d7cc52d64ce7375",
              "IPY_MODEL_254b7c2d72644bb589de12f19d21f9cc"
            ]
          }
        },
        "f43a1bb53ed8417ab72b2d217d8cb71b": {
          "model_module": "@jupyter-widgets/base",
          "model_name": "LayoutModel",
          "state": {
            "_view_name": "LayoutView",
            "grid_template_rows": null,
            "right": null,
            "justify_content": null,
            "_view_module": "@jupyter-widgets/base",
            "overflow": null,
            "_model_module_version": "1.2.0",
            "_view_count": null,
            "flex_flow": null,
            "width": null,
            "min_width": null,
            "border": null,
            "align_items": null,
            "bottom": null,
            "_model_module": "@jupyter-widgets/base",
            "top": null,
            "grid_column": null,
            "overflow_y": null,
            "overflow_x": null,
            "grid_auto_flow": null,
            "grid_area": null,
            "grid_template_columns": null,
            "flex": null,
            "_model_name": "LayoutModel",
            "justify_items": null,
            "grid_row": null,
            "max_height": null,
            "align_content": null,
            "visibility": null,
            "align_self": null,
            "height": null,
            "min_height": null,
            "padding": null,
            "grid_auto_rows": null,
            "grid_gap": null,
            "max_width": null,
            "order": null,
            "_view_module_version": "1.2.0",
            "grid_template_areas": null,
            "object_position": null,
            "object_fit": null,
            "grid_auto_columns": null,
            "margin": null,
            "display": null,
            "left": null
          }
        },
        "6eb421e3250946759d7cc52d64ce7375": {
          "model_module": "@jupyter-widgets/controls",
          "model_name": "IntProgressModel",
          "state": {
            "_view_name": "ProgressView",
            "style": "IPY_MODEL_21ad8cc0b221414a835091b267c8f994",
            "_dom_classes": [],
            "description": "",
            "_model_name": "IntProgressModel",
            "bar_style": "success",
            "max": 1000,
            "_view_module": "@jupyter-widgets/controls",
            "_model_module_version": "1.5.0",
            "value": 1000,
            "_view_count": null,
            "_view_module_version": "1.5.0",
            "orientation": "horizontal",
            "min": 0,
            "description_tooltip": null,
            "_model_module": "@jupyter-widgets/controls",
            "layout": "IPY_MODEL_be3592edd6ee4fa69b3979dbbd386bd4"
          }
        },
        "254b7c2d72644bb589de12f19d21f9cc": {
          "model_module": "@jupyter-widgets/controls",
          "model_name": "HTMLModel",
          "state": {
            "_view_name": "HTMLView",
            "style": "IPY_MODEL_c3b5fa87a5c54cc28dbb6a1a99cbb66f",
            "_dom_classes": [],
            "description": "",
            "_model_name": "HTMLModel",
            "placeholder": "​",
            "_view_module": "@jupyter-widgets/controls",
            "_model_module_version": "1.5.0",
            "value": "100% 1000/1000 [00:28&lt;00:00, 34.55epoch/s]",
            "_view_count": null,
            "_view_module_version": "1.5.0",
            "description_tooltip": null,
            "_model_module": "@jupyter-widgets/controls",
            "layout": "IPY_MODEL_c88f858041614fad9af2224026aeae8a"
          }
        },
        "21ad8cc0b221414a835091b267c8f994": {
          "model_module": "@jupyter-widgets/controls",
          "model_name": "ProgressStyleModel",
          "state": {
            "_view_name": "StyleView",
            "_model_name": "ProgressStyleModel",
            "description_width": "",
            "_view_module": "@jupyter-widgets/base",
            "_model_module_version": "1.5.0",
            "_view_count": null,
            "_view_module_version": "1.2.0",
            "bar_color": null,
            "_model_module": "@jupyter-widgets/controls"
          }
        },
        "be3592edd6ee4fa69b3979dbbd386bd4": {
          "model_module": "@jupyter-widgets/base",
          "model_name": "LayoutModel",
          "state": {
            "_view_name": "LayoutView",
            "grid_template_rows": null,
            "right": null,
            "justify_content": null,
            "_view_module": "@jupyter-widgets/base",
            "overflow": null,
            "_model_module_version": "1.2.0",
            "_view_count": null,
            "flex_flow": null,
            "width": null,
            "min_width": null,
            "border": null,
            "align_items": null,
            "bottom": null,
            "_model_module": "@jupyter-widgets/base",
            "top": null,
            "grid_column": null,
            "overflow_y": null,
            "overflow_x": null,
            "grid_auto_flow": null,
            "grid_area": null,
            "grid_template_columns": null,
            "flex": null,
            "_model_name": "LayoutModel",
            "justify_items": null,
            "grid_row": null,
            "max_height": null,
            "align_content": null,
            "visibility": null,
            "align_self": null,
            "height": null,
            "min_height": null,
            "padding": null,
            "grid_auto_rows": null,
            "grid_gap": null,
            "max_width": null,
            "order": null,
            "_view_module_version": "1.2.0",
            "grid_template_areas": null,
            "object_position": null,
            "object_fit": null,
            "grid_auto_columns": null,
            "margin": null,
            "display": null,
            "left": null
          }
        },
        "c3b5fa87a5c54cc28dbb6a1a99cbb66f": {
          "model_module": "@jupyter-widgets/controls",
          "model_name": "DescriptionStyleModel",
          "state": {
            "_view_name": "StyleView",
            "_model_name": "DescriptionStyleModel",
            "description_width": "",
            "_view_module": "@jupyter-widgets/base",
            "_model_module_version": "1.5.0",
            "_view_count": null,
            "_view_module_version": "1.2.0",
            "_model_module": "@jupyter-widgets/controls"
          }
        },
        "c88f858041614fad9af2224026aeae8a": {
          "model_module": "@jupyter-widgets/base",
          "model_name": "LayoutModel",
          "state": {
            "_view_name": "LayoutView",
            "grid_template_rows": null,
            "right": null,
            "justify_content": null,
            "_view_module": "@jupyter-widgets/base",
            "overflow": null,
            "_model_module_version": "1.2.0",
            "_view_count": null,
            "flex_flow": null,
            "width": null,
            "min_width": null,
            "border": null,
            "align_items": null,
            "bottom": null,
            "_model_module": "@jupyter-widgets/base",
            "top": null,
            "grid_column": null,
            "overflow_y": null,
            "overflow_x": null,
            "grid_auto_flow": null,
            "grid_area": null,
            "grid_template_columns": null,
            "flex": null,
            "_model_name": "LayoutModel",
            "justify_items": null,
            "grid_row": null,
            "max_height": null,
            "align_content": null,
            "visibility": null,
            "align_self": null,
            "height": null,
            "min_height": null,
            "padding": null,
            "grid_auto_rows": null,
            "grid_gap": null,
            "max_width": null,
            "order": null,
            "_view_module_version": "1.2.0",
            "grid_template_areas": null,
            "object_position": null,
            "object_fit": null,
            "grid_auto_columns": null,
            "margin": null,
            "display": null,
            "left": null
          }
        },
        "bad9a1595b464526a4c884f4dadf4c24": {
          "model_module": "@jupyter-widgets/controls",
          "model_name": "HBoxModel",
          "state": {
            "_view_name": "HBoxView",
            "_dom_classes": [],
            "_model_name": "HBoxModel",
            "_view_module": "@jupyter-widgets/controls",
            "_model_module_version": "1.5.0",
            "_view_count": null,
            "_view_module_version": "1.5.0",
            "box_style": "",
            "layout": "IPY_MODEL_2607b2daf6754b91a279a47032bcf13c",
            "_model_module": "@jupyter-widgets/controls",
            "children": [
              "IPY_MODEL_da9365ac427945e08278ebebefbf9710",
              "IPY_MODEL_3725b52d760a499d91b49120ad09a067"
            ]
          }
        },
        "2607b2daf6754b91a279a47032bcf13c": {
          "model_module": "@jupyter-widgets/base",
          "model_name": "LayoutModel",
          "state": {
            "_view_name": "LayoutView",
            "grid_template_rows": null,
            "right": null,
            "justify_content": null,
            "_view_module": "@jupyter-widgets/base",
            "overflow": null,
            "_model_module_version": "1.2.0",
            "_view_count": null,
            "flex_flow": null,
            "width": null,
            "min_width": null,
            "border": null,
            "align_items": null,
            "bottom": null,
            "_model_module": "@jupyter-widgets/base",
            "top": null,
            "grid_column": null,
            "overflow_y": null,
            "overflow_x": null,
            "grid_auto_flow": null,
            "grid_area": null,
            "grid_template_columns": null,
            "flex": null,
            "_model_name": "LayoutModel",
            "justify_items": null,
            "grid_row": null,
            "max_height": null,
            "align_content": null,
            "visibility": null,
            "align_self": null,
            "height": null,
            "min_height": null,
            "padding": null,
            "grid_auto_rows": null,
            "grid_gap": null,
            "max_width": null,
            "order": null,
            "_view_module_version": "1.2.0",
            "grid_template_areas": null,
            "object_position": null,
            "object_fit": null,
            "grid_auto_columns": null,
            "margin": null,
            "display": null,
            "left": null
          }
        },
        "da9365ac427945e08278ebebefbf9710": {
          "model_module": "@jupyter-widgets/controls",
          "model_name": "IntProgressModel",
          "state": {
            "_view_name": "ProgressView",
            "style": "IPY_MODEL_b21b2cdc7b6c4b1487bf64544b3ed808",
            "_dom_classes": [],
            "description": "",
            "_model_name": "IntProgressModel",
            "bar_style": "success",
            "max": 1000,
            "_view_module": "@jupyter-widgets/controls",
            "_model_module_version": "1.5.0",
            "value": 1000,
            "_view_count": null,
            "_view_module_version": "1.5.0",
            "orientation": "horizontal",
            "min": 0,
            "description_tooltip": null,
            "_model_module": "@jupyter-widgets/controls",
            "layout": "IPY_MODEL_0b65c4450f3d47b2b966ece32743405f"
          }
        },
        "3725b52d760a499d91b49120ad09a067": {
          "model_module": "@jupyter-widgets/controls",
          "model_name": "HTMLModel",
          "state": {
            "_view_name": "HTMLView",
            "style": "IPY_MODEL_21266f1ce77f48a3b51ad87f273b34cb",
            "_dom_classes": [],
            "description": "",
            "_model_name": "HTMLModel",
            "placeholder": "​",
            "_view_module": "@jupyter-widgets/controls",
            "_model_module_version": "1.5.0",
            "value": "100% 1000/1000 [00:29&lt;00:00, 34.25epoch/s]",
            "_view_count": null,
            "_view_module_version": "1.5.0",
            "description_tooltip": null,
            "_model_module": "@jupyter-widgets/controls",
            "layout": "IPY_MODEL_ff69a995bfb74c6e8c998900183cc2bc"
          }
        },
        "b21b2cdc7b6c4b1487bf64544b3ed808": {
          "model_module": "@jupyter-widgets/controls",
          "model_name": "ProgressStyleModel",
          "state": {
            "_view_name": "StyleView",
            "_model_name": "ProgressStyleModel",
            "description_width": "",
            "_view_module": "@jupyter-widgets/base",
            "_model_module_version": "1.5.0",
            "_view_count": null,
            "_view_module_version": "1.2.0",
            "bar_color": null,
            "_model_module": "@jupyter-widgets/controls"
          }
        },
        "0b65c4450f3d47b2b966ece32743405f": {
          "model_module": "@jupyter-widgets/base",
          "model_name": "LayoutModel",
          "state": {
            "_view_name": "LayoutView",
            "grid_template_rows": null,
            "right": null,
            "justify_content": null,
            "_view_module": "@jupyter-widgets/base",
            "overflow": null,
            "_model_module_version": "1.2.0",
            "_view_count": null,
            "flex_flow": null,
            "width": null,
            "min_width": null,
            "border": null,
            "align_items": null,
            "bottom": null,
            "_model_module": "@jupyter-widgets/base",
            "top": null,
            "grid_column": null,
            "overflow_y": null,
            "overflow_x": null,
            "grid_auto_flow": null,
            "grid_area": null,
            "grid_template_columns": null,
            "flex": null,
            "_model_name": "LayoutModel",
            "justify_items": null,
            "grid_row": null,
            "max_height": null,
            "align_content": null,
            "visibility": null,
            "align_self": null,
            "height": null,
            "min_height": null,
            "padding": null,
            "grid_auto_rows": null,
            "grid_gap": null,
            "max_width": null,
            "order": null,
            "_view_module_version": "1.2.0",
            "grid_template_areas": null,
            "object_position": null,
            "object_fit": null,
            "grid_auto_columns": null,
            "margin": null,
            "display": null,
            "left": null
          }
        },
        "21266f1ce77f48a3b51ad87f273b34cb": {
          "model_module": "@jupyter-widgets/controls",
          "model_name": "DescriptionStyleModel",
          "state": {
            "_view_name": "StyleView",
            "_model_name": "DescriptionStyleModel",
            "description_width": "",
            "_view_module": "@jupyter-widgets/base",
            "_model_module_version": "1.5.0",
            "_view_count": null,
            "_view_module_version": "1.2.0",
            "_model_module": "@jupyter-widgets/controls"
          }
        },
        "ff69a995bfb74c6e8c998900183cc2bc": {
          "model_module": "@jupyter-widgets/base",
          "model_name": "LayoutModel",
          "state": {
            "_view_name": "LayoutView",
            "grid_template_rows": null,
            "right": null,
            "justify_content": null,
            "_view_module": "@jupyter-widgets/base",
            "overflow": null,
            "_model_module_version": "1.2.0",
            "_view_count": null,
            "flex_flow": null,
            "width": null,
            "min_width": null,
            "border": null,
            "align_items": null,
            "bottom": null,
            "_model_module": "@jupyter-widgets/base",
            "top": null,
            "grid_column": null,
            "overflow_y": null,
            "overflow_x": null,
            "grid_auto_flow": null,
            "grid_area": null,
            "grid_template_columns": null,
            "flex": null,
            "_model_name": "LayoutModel",
            "justify_items": null,
            "grid_row": null,
            "max_height": null,
            "align_content": null,
            "visibility": null,
            "align_self": null,
            "height": null,
            "min_height": null,
            "padding": null,
            "grid_auto_rows": null,
            "grid_gap": null,
            "max_width": null,
            "order": null,
            "_view_module_version": "1.2.0",
            "grid_template_areas": null,
            "object_position": null,
            "object_fit": null,
            "grid_auto_columns": null,
            "margin": null,
            "display": null,
            "left": null
          }
        },
        "2851e3018a644286bd1bb6bcfec37521": {
          "model_module": "@jupyter-widgets/controls",
          "model_name": "HBoxModel",
          "state": {
            "_view_name": "HBoxView",
            "_dom_classes": [],
            "_model_name": "HBoxModel",
            "_view_module": "@jupyter-widgets/controls",
            "_model_module_version": "1.5.0",
            "_view_count": null,
            "_view_module_version": "1.5.0",
            "box_style": "",
            "layout": "IPY_MODEL_39c55c5a37e644cbae63cb671176e374",
            "_model_module": "@jupyter-widgets/controls",
            "children": [
              "IPY_MODEL_c195729974ca41139d1f3dd9411c9c13",
              "IPY_MODEL_eb49a01790414e3fa74d3ae440624ded"
            ]
          }
        },
        "39c55c5a37e644cbae63cb671176e374": {
          "model_module": "@jupyter-widgets/base",
          "model_name": "LayoutModel",
          "state": {
            "_view_name": "LayoutView",
            "grid_template_rows": null,
            "right": null,
            "justify_content": null,
            "_view_module": "@jupyter-widgets/base",
            "overflow": null,
            "_model_module_version": "1.2.0",
            "_view_count": null,
            "flex_flow": null,
            "width": null,
            "min_width": null,
            "border": null,
            "align_items": null,
            "bottom": null,
            "_model_module": "@jupyter-widgets/base",
            "top": null,
            "grid_column": null,
            "overflow_y": null,
            "overflow_x": null,
            "grid_auto_flow": null,
            "grid_area": null,
            "grid_template_columns": null,
            "flex": null,
            "_model_name": "LayoutModel",
            "justify_items": null,
            "grid_row": null,
            "max_height": null,
            "align_content": null,
            "visibility": null,
            "align_self": null,
            "height": null,
            "min_height": null,
            "padding": null,
            "grid_auto_rows": null,
            "grid_gap": null,
            "max_width": null,
            "order": null,
            "_view_module_version": "1.2.0",
            "grid_template_areas": null,
            "object_position": null,
            "object_fit": null,
            "grid_auto_columns": null,
            "margin": null,
            "display": null,
            "left": null
          }
        },
        "c195729974ca41139d1f3dd9411c9c13": {
          "model_module": "@jupyter-widgets/controls",
          "model_name": "IntProgressModel",
          "state": {
            "_view_name": "ProgressView",
            "style": "IPY_MODEL_fefa7f4272174162b0cc180fa2eb4ea0",
            "_dom_classes": [],
            "description": "",
            "_model_name": "IntProgressModel",
            "bar_style": "success",
            "max": 5000,
            "_view_module": "@jupyter-widgets/controls",
            "_model_module_version": "1.5.0",
            "value": 5000,
            "_view_count": null,
            "_view_module_version": "1.5.0",
            "orientation": "horizontal",
            "min": 0,
            "description_tooltip": null,
            "_model_module": "@jupyter-widgets/controls",
            "layout": "IPY_MODEL_99066af42ada40399ffde83e9a16af9e"
          }
        },
        "eb49a01790414e3fa74d3ae440624ded": {
          "model_module": "@jupyter-widgets/controls",
          "model_name": "HTMLModel",
          "state": {
            "_view_name": "HTMLView",
            "style": "IPY_MODEL_0f989bdf4f7c48a4935ce9d076c52fc3",
            "_dom_classes": [],
            "description": "",
            "_model_name": "HTMLModel",
            "placeholder": "​",
            "_view_module": "@jupyter-widgets/controls",
            "_model_module_version": "1.5.0",
            "value": "100% 5000/5000 [02:26&lt;00:00, 34.12epoch/s]",
            "_view_count": null,
            "_view_module_version": "1.5.0",
            "description_tooltip": null,
            "_model_module": "@jupyter-widgets/controls",
            "layout": "IPY_MODEL_4b55907acbdd488a87a55b7d9c3d4cf0"
          }
        },
        "fefa7f4272174162b0cc180fa2eb4ea0": {
          "model_module": "@jupyter-widgets/controls",
          "model_name": "ProgressStyleModel",
          "state": {
            "_view_name": "StyleView",
            "_model_name": "ProgressStyleModel",
            "description_width": "",
            "_view_module": "@jupyter-widgets/base",
            "_model_module_version": "1.5.0",
            "_view_count": null,
            "_view_module_version": "1.2.0",
            "bar_color": null,
            "_model_module": "@jupyter-widgets/controls"
          }
        },
        "99066af42ada40399ffde83e9a16af9e": {
          "model_module": "@jupyter-widgets/base",
          "model_name": "LayoutModel",
          "state": {
            "_view_name": "LayoutView",
            "grid_template_rows": null,
            "right": null,
            "justify_content": null,
            "_view_module": "@jupyter-widgets/base",
            "overflow": null,
            "_model_module_version": "1.2.0",
            "_view_count": null,
            "flex_flow": null,
            "width": null,
            "min_width": null,
            "border": null,
            "align_items": null,
            "bottom": null,
            "_model_module": "@jupyter-widgets/base",
            "top": null,
            "grid_column": null,
            "overflow_y": null,
            "overflow_x": null,
            "grid_auto_flow": null,
            "grid_area": null,
            "grid_template_columns": null,
            "flex": null,
            "_model_name": "LayoutModel",
            "justify_items": null,
            "grid_row": null,
            "max_height": null,
            "align_content": null,
            "visibility": null,
            "align_self": null,
            "height": null,
            "min_height": null,
            "padding": null,
            "grid_auto_rows": null,
            "grid_gap": null,
            "max_width": null,
            "order": null,
            "_view_module_version": "1.2.0",
            "grid_template_areas": null,
            "object_position": null,
            "object_fit": null,
            "grid_auto_columns": null,
            "margin": null,
            "display": null,
            "left": null
          }
        },
        "0f989bdf4f7c48a4935ce9d076c52fc3": {
          "model_module": "@jupyter-widgets/controls",
          "model_name": "DescriptionStyleModel",
          "state": {
            "_view_name": "StyleView",
            "_model_name": "DescriptionStyleModel",
            "description_width": "",
            "_view_module": "@jupyter-widgets/base",
            "_model_module_version": "1.5.0",
            "_view_count": null,
            "_view_module_version": "1.2.0",
            "_model_module": "@jupyter-widgets/controls"
          }
        },
        "4b55907acbdd488a87a55b7d9c3d4cf0": {
          "model_module": "@jupyter-widgets/base",
          "model_name": "LayoutModel",
          "state": {
            "_view_name": "LayoutView",
            "grid_template_rows": null,
            "right": null,
            "justify_content": null,
            "_view_module": "@jupyter-widgets/base",
            "overflow": null,
            "_model_module_version": "1.2.0",
            "_view_count": null,
            "flex_flow": null,
            "width": null,
            "min_width": null,
            "border": null,
            "align_items": null,
            "bottom": null,
            "_model_module": "@jupyter-widgets/base",
            "top": null,
            "grid_column": null,
            "overflow_y": null,
            "overflow_x": null,
            "grid_auto_flow": null,
            "grid_area": null,
            "grid_template_columns": null,
            "flex": null,
            "_model_name": "LayoutModel",
            "justify_items": null,
            "grid_row": null,
            "max_height": null,
            "align_content": null,
            "visibility": null,
            "align_self": null,
            "height": null,
            "min_height": null,
            "padding": null,
            "grid_auto_rows": null,
            "grid_gap": null,
            "max_width": null,
            "order": null,
            "_view_module_version": "1.2.0",
            "grid_template_areas": null,
            "object_position": null,
            "object_fit": null,
            "grid_auto_columns": null,
            "margin": null,
            "display": null,
            "left": null
          }
        },
        "12ed7436140f42cfa5f55744b6abdb25": {
          "model_module": "@jupyter-widgets/controls",
          "model_name": "HBoxModel",
          "state": {
            "_view_name": "HBoxView",
            "_dom_classes": [],
            "_model_name": "HBoxModel",
            "_view_module": "@jupyter-widgets/controls",
            "_model_module_version": "1.5.0",
            "_view_count": null,
            "_view_module_version": "1.5.0",
            "box_style": "",
            "layout": "IPY_MODEL_8d7ea495b8a7452aac48e3004a067df9",
            "_model_module": "@jupyter-widgets/controls",
            "children": [
              "IPY_MODEL_b50a4c9f63f142e9a584944abb39b9a4",
              "IPY_MODEL_a58d7b04273048ffa246eeab74d90623"
            ]
          }
        },
        "8d7ea495b8a7452aac48e3004a067df9": {
          "model_module": "@jupyter-widgets/base",
          "model_name": "LayoutModel",
          "state": {
            "_view_name": "LayoutView",
            "grid_template_rows": null,
            "right": null,
            "justify_content": null,
            "_view_module": "@jupyter-widgets/base",
            "overflow": null,
            "_model_module_version": "1.2.0",
            "_view_count": null,
            "flex_flow": null,
            "width": null,
            "min_width": null,
            "border": null,
            "align_items": null,
            "bottom": null,
            "_model_module": "@jupyter-widgets/base",
            "top": null,
            "grid_column": null,
            "overflow_y": null,
            "overflow_x": null,
            "grid_auto_flow": null,
            "grid_area": null,
            "grid_template_columns": null,
            "flex": null,
            "_model_name": "LayoutModel",
            "justify_items": null,
            "grid_row": null,
            "max_height": null,
            "align_content": null,
            "visibility": null,
            "align_self": null,
            "height": null,
            "min_height": null,
            "padding": null,
            "grid_auto_rows": null,
            "grid_gap": null,
            "max_width": null,
            "order": null,
            "_view_module_version": "1.2.0",
            "grid_template_areas": null,
            "object_position": null,
            "object_fit": null,
            "grid_auto_columns": null,
            "margin": null,
            "display": null,
            "left": null
          }
        },
        "b50a4c9f63f142e9a584944abb39b9a4": {
          "model_module": "@jupyter-widgets/controls",
          "model_name": "IntProgressModel",
          "state": {
            "_view_name": "ProgressView",
            "style": "IPY_MODEL_75408a3cd67f43d2890a76c6f301adc8",
            "_dom_classes": [],
            "description": "",
            "_model_name": "IntProgressModel",
            "bar_style": "success",
            "max": 1000,
            "_view_module": "@jupyter-widgets/controls",
            "_model_module_version": "1.5.0",
            "value": 1000,
            "_view_count": null,
            "_view_module_version": "1.5.0",
            "orientation": "horizontal",
            "min": 0,
            "description_tooltip": null,
            "_model_module": "@jupyter-widgets/controls",
            "layout": "IPY_MODEL_c45dd2112e67413a835bb1fdcf5deb47"
          }
        },
        "a58d7b04273048ffa246eeab74d90623": {
          "model_module": "@jupyter-widgets/controls",
          "model_name": "HTMLModel",
          "state": {
            "_view_name": "HTMLView",
            "style": "IPY_MODEL_82109adc6cb84bb7be549191fef9b0e9",
            "_dom_classes": [],
            "description": "",
            "_model_name": "HTMLModel",
            "placeholder": "​",
            "_view_module": "@jupyter-widgets/controls",
            "_model_module_version": "1.5.0",
            "value": "100% 1000/1000 [01:09&lt;00:00, 14.35epoch/s]",
            "_view_count": null,
            "_view_module_version": "1.5.0",
            "description_tooltip": null,
            "_model_module": "@jupyter-widgets/controls",
            "layout": "IPY_MODEL_12f02faad2d64cb7988904c572e68d9e"
          }
        },
        "75408a3cd67f43d2890a76c6f301adc8": {
          "model_module": "@jupyter-widgets/controls",
          "model_name": "ProgressStyleModel",
          "state": {
            "_view_name": "StyleView",
            "_model_name": "ProgressStyleModel",
            "description_width": "",
            "_view_module": "@jupyter-widgets/base",
            "_model_module_version": "1.5.0",
            "_view_count": null,
            "_view_module_version": "1.2.0",
            "bar_color": null,
            "_model_module": "@jupyter-widgets/controls"
          }
        },
        "c45dd2112e67413a835bb1fdcf5deb47": {
          "model_module": "@jupyter-widgets/base",
          "model_name": "LayoutModel",
          "state": {
            "_view_name": "LayoutView",
            "grid_template_rows": null,
            "right": null,
            "justify_content": null,
            "_view_module": "@jupyter-widgets/base",
            "overflow": null,
            "_model_module_version": "1.2.0",
            "_view_count": null,
            "flex_flow": null,
            "width": null,
            "min_width": null,
            "border": null,
            "align_items": null,
            "bottom": null,
            "_model_module": "@jupyter-widgets/base",
            "top": null,
            "grid_column": null,
            "overflow_y": null,
            "overflow_x": null,
            "grid_auto_flow": null,
            "grid_area": null,
            "grid_template_columns": null,
            "flex": null,
            "_model_name": "LayoutModel",
            "justify_items": null,
            "grid_row": null,
            "max_height": null,
            "align_content": null,
            "visibility": null,
            "align_self": null,
            "height": null,
            "min_height": null,
            "padding": null,
            "grid_auto_rows": null,
            "grid_gap": null,
            "max_width": null,
            "order": null,
            "_view_module_version": "1.2.0",
            "grid_template_areas": null,
            "object_position": null,
            "object_fit": null,
            "grid_auto_columns": null,
            "margin": null,
            "display": null,
            "left": null
          }
        },
        "82109adc6cb84bb7be549191fef9b0e9": {
          "model_module": "@jupyter-widgets/controls",
          "model_name": "DescriptionStyleModel",
          "state": {
            "_view_name": "StyleView",
            "_model_name": "DescriptionStyleModel",
            "description_width": "",
            "_view_module": "@jupyter-widgets/base",
            "_model_module_version": "1.5.0",
            "_view_count": null,
            "_view_module_version": "1.2.0",
            "_model_module": "@jupyter-widgets/controls"
          }
        },
        "12f02faad2d64cb7988904c572e68d9e": {
          "model_module": "@jupyter-widgets/base",
          "model_name": "LayoutModel",
          "state": {
            "_view_name": "LayoutView",
            "grid_template_rows": null,
            "right": null,
            "justify_content": null,
            "_view_module": "@jupyter-widgets/base",
            "overflow": null,
            "_model_module_version": "1.2.0",
            "_view_count": null,
            "flex_flow": null,
            "width": null,
            "min_width": null,
            "border": null,
            "align_items": null,
            "bottom": null,
            "_model_module": "@jupyter-widgets/base",
            "top": null,
            "grid_column": null,
            "overflow_y": null,
            "overflow_x": null,
            "grid_auto_flow": null,
            "grid_area": null,
            "grid_template_columns": null,
            "flex": null,
            "_model_name": "LayoutModel",
            "justify_items": null,
            "grid_row": null,
            "max_height": null,
            "align_content": null,
            "visibility": null,
            "align_self": null,
            "height": null,
            "min_height": null,
            "padding": null,
            "grid_auto_rows": null,
            "grid_gap": null,
            "max_width": null,
            "order": null,
            "_view_module_version": "1.2.0",
            "grid_template_areas": null,
            "object_position": null,
            "object_fit": null,
            "grid_auto_columns": null,
            "margin": null,
            "display": null,
            "left": null
          }
        },
        "94fd32f961164608ae70bb96d4808bc4": {
          "model_module": "@jupyter-widgets/controls",
          "model_name": "HBoxModel",
          "state": {
            "_view_name": "HBoxView",
            "_dom_classes": [],
            "_model_name": "HBoxModel",
            "_view_module": "@jupyter-widgets/controls",
            "_model_module_version": "1.5.0",
            "_view_count": null,
            "_view_module_version": "1.5.0",
            "box_style": "",
            "layout": "IPY_MODEL_a3a04ad4322a4f72ab1430243d5bf4a3",
            "_model_module": "@jupyter-widgets/controls",
            "children": [
              "IPY_MODEL_7866677cf2244b7e89ca6e369bc70830",
              "IPY_MODEL_51027eb3f6194950945fd523ee809cab"
            ]
          }
        },
        "a3a04ad4322a4f72ab1430243d5bf4a3": {
          "model_module": "@jupyter-widgets/base",
          "model_name": "LayoutModel",
          "state": {
            "_view_name": "LayoutView",
            "grid_template_rows": null,
            "right": null,
            "justify_content": null,
            "_view_module": "@jupyter-widgets/base",
            "overflow": null,
            "_model_module_version": "1.2.0",
            "_view_count": null,
            "flex_flow": null,
            "width": null,
            "min_width": null,
            "border": null,
            "align_items": null,
            "bottom": null,
            "_model_module": "@jupyter-widgets/base",
            "top": null,
            "grid_column": null,
            "overflow_y": null,
            "overflow_x": null,
            "grid_auto_flow": null,
            "grid_area": null,
            "grid_template_columns": null,
            "flex": null,
            "_model_name": "LayoutModel",
            "justify_items": null,
            "grid_row": null,
            "max_height": null,
            "align_content": null,
            "visibility": null,
            "align_self": null,
            "height": null,
            "min_height": null,
            "padding": null,
            "grid_auto_rows": null,
            "grid_gap": null,
            "max_width": null,
            "order": null,
            "_view_module_version": "1.2.0",
            "grid_template_areas": null,
            "object_position": null,
            "object_fit": null,
            "grid_auto_columns": null,
            "margin": null,
            "display": null,
            "left": null
          }
        },
        "7866677cf2244b7e89ca6e369bc70830": {
          "model_module": "@jupyter-widgets/controls",
          "model_name": "IntProgressModel",
          "state": {
            "_view_name": "ProgressView",
            "style": "IPY_MODEL_234e763a7d994ddfa8878fd63bc75366",
            "_dom_classes": [],
            "description": "",
            "_model_name": "IntProgressModel",
            "bar_style": "success",
            "max": 5000,
            "_view_module": "@jupyter-widgets/controls",
            "_model_module_version": "1.5.0",
            "value": 5000,
            "_view_count": null,
            "_view_module_version": "1.5.0",
            "orientation": "horizontal",
            "min": 0,
            "description_tooltip": null,
            "_model_module": "@jupyter-widgets/controls",
            "layout": "IPY_MODEL_06de0c8a59eb48d18ebf8b735f3a7a29"
          }
        },
        "51027eb3f6194950945fd523ee809cab": {
          "model_module": "@jupyter-widgets/controls",
          "model_name": "HTMLModel",
          "state": {
            "_view_name": "HTMLView",
            "style": "IPY_MODEL_9902fab949534607bc8ebf34e3886531",
            "_dom_classes": [],
            "description": "",
            "_model_name": "HTMLModel",
            "placeholder": "​",
            "_view_module": "@jupyter-widgets/controls",
            "_model_module_version": "1.5.0",
            "value": "100% 5000/5000 [05:47&lt;00:00, 14.40epoch/s]",
            "_view_count": null,
            "_view_module_version": "1.5.0",
            "description_tooltip": null,
            "_model_module": "@jupyter-widgets/controls",
            "layout": "IPY_MODEL_dc262f78bf5f40ebbf5096e95bad4c31"
          }
        },
        "234e763a7d994ddfa8878fd63bc75366": {
          "model_module": "@jupyter-widgets/controls",
          "model_name": "ProgressStyleModel",
          "state": {
            "_view_name": "StyleView",
            "_model_name": "ProgressStyleModel",
            "description_width": "",
            "_view_module": "@jupyter-widgets/base",
            "_model_module_version": "1.5.0",
            "_view_count": null,
            "_view_module_version": "1.2.0",
            "bar_color": null,
            "_model_module": "@jupyter-widgets/controls"
          }
        },
        "06de0c8a59eb48d18ebf8b735f3a7a29": {
          "model_module": "@jupyter-widgets/base",
          "model_name": "LayoutModel",
          "state": {
            "_view_name": "LayoutView",
            "grid_template_rows": null,
            "right": null,
            "justify_content": null,
            "_view_module": "@jupyter-widgets/base",
            "overflow": null,
            "_model_module_version": "1.2.0",
            "_view_count": null,
            "flex_flow": null,
            "width": null,
            "min_width": null,
            "border": null,
            "align_items": null,
            "bottom": null,
            "_model_module": "@jupyter-widgets/base",
            "top": null,
            "grid_column": null,
            "overflow_y": null,
            "overflow_x": null,
            "grid_auto_flow": null,
            "grid_area": null,
            "grid_template_columns": null,
            "flex": null,
            "_model_name": "LayoutModel",
            "justify_items": null,
            "grid_row": null,
            "max_height": null,
            "align_content": null,
            "visibility": null,
            "align_self": null,
            "height": null,
            "min_height": null,
            "padding": null,
            "grid_auto_rows": null,
            "grid_gap": null,
            "max_width": null,
            "order": null,
            "_view_module_version": "1.2.0",
            "grid_template_areas": null,
            "object_position": null,
            "object_fit": null,
            "grid_auto_columns": null,
            "margin": null,
            "display": null,
            "left": null
          }
        },
        "9902fab949534607bc8ebf34e3886531": {
          "model_module": "@jupyter-widgets/controls",
          "model_name": "DescriptionStyleModel",
          "state": {
            "_view_name": "StyleView",
            "_model_name": "DescriptionStyleModel",
            "description_width": "",
            "_view_module": "@jupyter-widgets/base",
            "_model_module_version": "1.5.0",
            "_view_count": null,
            "_view_module_version": "1.2.0",
            "_model_module": "@jupyter-widgets/controls"
          }
        },
        "dc262f78bf5f40ebbf5096e95bad4c31": {
          "model_module": "@jupyter-widgets/base",
          "model_name": "LayoutModel",
          "state": {
            "_view_name": "LayoutView",
            "grid_template_rows": null,
            "right": null,
            "justify_content": null,
            "_view_module": "@jupyter-widgets/base",
            "overflow": null,
            "_model_module_version": "1.2.0",
            "_view_count": null,
            "flex_flow": null,
            "width": null,
            "min_width": null,
            "border": null,
            "align_items": null,
            "bottom": null,
            "_model_module": "@jupyter-widgets/base",
            "top": null,
            "grid_column": null,
            "overflow_y": null,
            "overflow_x": null,
            "grid_auto_flow": null,
            "grid_area": null,
            "grid_template_columns": null,
            "flex": null,
            "_model_name": "LayoutModel",
            "justify_items": null,
            "grid_row": null,
            "max_height": null,
            "align_content": null,
            "visibility": null,
            "align_self": null,
            "height": null,
            "min_height": null,
            "padding": null,
            "grid_auto_rows": null,
            "grid_gap": null,
            "max_width": null,
            "order": null,
            "_view_module_version": "1.2.0",
            "grid_template_areas": null,
            "object_position": null,
            "object_fit": null,
            "grid_auto_columns": null,
            "margin": null,
            "display": null,
            "left": null
          }
        },
        "1abb52d032064c9594c5b50bff16e00d": {
          "model_module": "@jupyter-widgets/controls",
          "model_name": "HBoxModel",
          "state": {
            "_view_name": "HBoxView",
            "_dom_classes": [],
            "_model_name": "HBoxModel",
            "_view_module": "@jupyter-widgets/controls",
            "_model_module_version": "1.5.0",
            "_view_count": null,
            "_view_module_version": "1.5.0",
            "box_style": "",
            "layout": "IPY_MODEL_7d02ebaa73c74e93a02206ad76a82773",
            "_model_module": "@jupyter-widgets/controls",
            "children": [
              "IPY_MODEL_b130a2e7763a430b81d0c2d4004edf6b",
              "IPY_MODEL_434d3a51fe9e400185b8d44c4f0b10f2"
            ]
          }
        },
        "7d02ebaa73c74e93a02206ad76a82773": {
          "model_module": "@jupyter-widgets/base",
          "model_name": "LayoutModel",
          "state": {
            "_view_name": "LayoutView",
            "grid_template_rows": null,
            "right": null,
            "justify_content": null,
            "_view_module": "@jupyter-widgets/base",
            "overflow": null,
            "_model_module_version": "1.2.0",
            "_view_count": null,
            "flex_flow": null,
            "width": null,
            "min_width": null,
            "border": null,
            "align_items": null,
            "bottom": null,
            "_model_module": "@jupyter-widgets/base",
            "top": null,
            "grid_column": null,
            "overflow_y": null,
            "overflow_x": null,
            "grid_auto_flow": null,
            "grid_area": null,
            "grid_template_columns": null,
            "flex": null,
            "_model_name": "LayoutModel",
            "justify_items": null,
            "grid_row": null,
            "max_height": null,
            "align_content": null,
            "visibility": null,
            "align_self": null,
            "height": null,
            "min_height": null,
            "padding": null,
            "grid_auto_rows": null,
            "grid_gap": null,
            "max_width": null,
            "order": null,
            "_view_module_version": "1.2.0",
            "grid_template_areas": null,
            "object_position": null,
            "object_fit": null,
            "grid_auto_columns": null,
            "margin": null,
            "display": null,
            "left": null
          }
        },
        "b130a2e7763a430b81d0c2d4004edf6b": {
          "model_module": "@jupyter-widgets/controls",
          "model_name": "IntProgressModel",
          "state": {
            "_view_name": "ProgressView",
            "style": "IPY_MODEL_753814750eff42ee953193fde67f3eab",
            "_dom_classes": [],
            "description": "",
            "_model_name": "IntProgressModel",
            "bar_style": "success",
            "max": 2000,
            "_view_module": "@jupyter-widgets/controls",
            "_model_module_version": "1.5.0",
            "value": 2000,
            "_view_count": null,
            "_view_module_version": "1.5.0",
            "orientation": "horizontal",
            "min": 0,
            "description_tooltip": null,
            "_model_module": "@jupyter-widgets/controls",
            "layout": "IPY_MODEL_0abd95843e27488b961201c7a861b6a7"
          }
        },
        "434d3a51fe9e400185b8d44c4f0b10f2": {
          "model_module": "@jupyter-widgets/controls",
          "model_name": "HTMLModel",
          "state": {
            "_view_name": "HTMLView",
            "style": "IPY_MODEL_d635994056f74382815d7778b97d96c8",
            "_dom_classes": [],
            "description": "",
            "_model_name": "HTMLModel",
            "placeholder": "​",
            "_view_module": "@jupyter-widgets/controls",
            "_model_module_version": "1.5.0",
            "value": "100% 2000/2000 [03:08&lt;00:00, 10.84epoch/s]",
            "_view_count": null,
            "_view_module_version": "1.5.0",
            "description_tooltip": null,
            "_model_module": "@jupyter-widgets/controls",
            "layout": "IPY_MODEL_8e21ca3361334dd5b294a4f03ce5f446"
          }
        },
        "753814750eff42ee953193fde67f3eab": {
          "model_module": "@jupyter-widgets/controls",
          "model_name": "ProgressStyleModel",
          "state": {
            "_view_name": "StyleView",
            "_model_name": "ProgressStyleModel",
            "description_width": "",
            "_view_module": "@jupyter-widgets/base",
            "_model_module_version": "1.5.0",
            "_view_count": null,
            "_view_module_version": "1.2.0",
            "bar_color": null,
            "_model_module": "@jupyter-widgets/controls"
          }
        },
        "0abd95843e27488b961201c7a861b6a7": {
          "model_module": "@jupyter-widgets/base",
          "model_name": "LayoutModel",
          "state": {
            "_view_name": "LayoutView",
            "grid_template_rows": null,
            "right": null,
            "justify_content": null,
            "_view_module": "@jupyter-widgets/base",
            "overflow": null,
            "_model_module_version": "1.2.0",
            "_view_count": null,
            "flex_flow": null,
            "width": null,
            "min_width": null,
            "border": null,
            "align_items": null,
            "bottom": null,
            "_model_module": "@jupyter-widgets/base",
            "top": null,
            "grid_column": null,
            "overflow_y": null,
            "overflow_x": null,
            "grid_auto_flow": null,
            "grid_area": null,
            "grid_template_columns": null,
            "flex": null,
            "_model_name": "LayoutModel",
            "justify_items": null,
            "grid_row": null,
            "max_height": null,
            "align_content": null,
            "visibility": null,
            "align_self": null,
            "height": null,
            "min_height": null,
            "padding": null,
            "grid_auto_rows": null,
            "grid_gap": null,
            "max_width": null,
            "order": null,
            "_view_module_version": "1.2.0",
            "grid_template_areas": null,
            "object_position": null,
            "object_fit": null,
            "grid_auto_columns": null,
            "margin": null,
            "display": null,
            "left": null
          }
        },
        "d635994056f74382815d7778b97d96c8": {
          "model_module": "@jupyter-widgets/controls",
          "model_name": "DescriptionStyleModel",
          "state": {
            "_view_name": "StyleView",
            "_model_name": "DescriptionStyleModel",
            "description_width": "",
            "_view_module": "@jupyter-widgets/base",
            "_model_module_version": "1.5.0",
            "_view_count": null,
            "_view_module_version": "1.2.0",
            "_model_module": "@jupyter-widgets/controls"
          }
        },
        "8e21ca3361334dd5b294a4f03ce5f446": {
          "model_module": "@jupyter-widgets/base",
          "model_name": "LayoutModel",
          "state": {
            "_view_name": "LayoutView",
            "grid_template_rows": null,
            "right": null,
            "justify_content": null,
            "_view_module": "@jupyter-widgets/base",
            "overflow": null,
            "_model_module_version": "1.2.0",
            "_view_count": null,
            "flex_flow": null,
            "width": null,
            "min_width": null,
            "border": null,
            "align_items": null,
            "bottom": null,
            "_model_module": "@jupyter-widgets/base",
            "top": null,
            "grid_column": null,
            "overflow_y": null,
            "overflow_x": null,
            "grid_auto_flow": null,
            "grid_area": null,
            "grid_template_columns": null,
            "flex": null,
            "_model_name": "LayoutModel",
            "justify_items": null,
            "grid_row": null,
            "max_height": null,
            "align_content": null,
            "visibility": null,
            "align_self": null,
            "height": null,
            "min_height": null,
            "padding": null,
            "grid_auto_rows": null,
            "grid_gap": null,
            "max_width": null,
            "order": null,
            "_view_module_version": "1.2.0",
            "grid_template_areas": null,
            "object_position": null,
            "object_fit": null,
            "grid_auto_columns": null,
            "margin": null,
            "display": null,
            "left": null
          }
        },
        "28e785b6c5504e958d2626b46cc1f013": {
          "model_module": "@jupyter-widgets/controls",
          "model_name": "HBoxModel",
          "state": {
            "_view_name": "HBoxView",
            "_dom_classes": [],
            "_model_name": "HBoxModel",
            "_view_module": "@jupyter-widgets/controls",
            "_model_module_version": "1.5.0",
            "_view_count": null,
            "_view_module_version": "1.5.0",
            "box_style": "",
            "layout": "IPY_MODEL_e7faa87f3e604bd59d9b73bbea9dc97b",
            "_model_module": "@jupyter-widgets/controls",
            "children": [
              "IPY_MODEL_57481b4dd8bb4e26b05dfa505e43de00",
              "IPY_MODEL_ade3b40e723f40a3ba2d2cd36e9aaae5"
            ]
          }
        },
        "e7faa87f3e604bd59d9b73bbea9dc97b": {
          "model_module": "@jupyter-widgets/base",
          "model_name": "LayoutModel",
          "state": {
            "_view_name": "LayoutView",
            "grid_template_rows": null,
            "right": null,
            "justify_content": null,
            "_view_module": "@jupyter-widgets/base",
            "overflow": null,
            "_model_module_version": "1.2.0",
            "_view_count": null,
            "flex_flow": null,
            "width": null,
            "min_width": null,
            "border": null,
            "align_items": null,
            "bottom": null,
            "_model_module": "@jupyter-widgets/base",
            "top": null,
            "grid_column": null,
            "overflow_y": null,
            "overflow_x": null,
            "grid_auto_flow": null,
            "grid_area": null,
            "grid_template_columns": null,
            "flex": null,
            "_model_name": "LayoutModel",
            "justify_items": null,
            "grid_row": null,
            "max_height": null,
            "align_content": null,
            "visibility": null,
            "align_self": null,
            "height": null,
            "min_height": null,
            "padding": null,
            "grid_auto_rows": null,
            "grid_gap": null,
            "max_width": null,
            "order": null,
            "_view_module_version": "1.2.0",
            "grid_template_areas": null,
            "object_position": null,
            "object_fit": null,
            "grid_auto_columns": null,
            "margin": null,
            "display": null,
            "left": null
          }
        },
        "57481b4dd8bb4e26b05dfa505e43de00": {
          "model_module": "@jupyter-widgets/controls",
          "model_name": "IntProgressModel",
          "state": {
            "_view_name": "ProgressView",
            "style": "IPY_MODEL_d5e6ea8f84574a0886af5ea7609ba63f",
            "_dom_classes": [],
            "description": "",
            "_model_name": "IntProgressModel",
            "bar_style": "success",
            "max": 5000,
            "_view_module": "@jupyter-widgets/controls",
            "_model_module_version": "1.5.0",
            "value": 5000,
            "_view_count": null,
            "_view_module_version": "1.5.0",
            "orientation": "horizontal",
            "min": 0,
            "description_tooltip": null,
            "_model_module": "@jupyter-widgets/controls",
            "layout": "IPY_MODEL_d1ea25b8e9b643edb4d70eb437db9bb0"
          }
        },
        "ade3b40e723f40a3ba2d2cd36e9aaae5": {
          "model_module": "@jupyter-widgets/controls",
          "model_name": "HTMLModel",
          "state": {
            "_view_name": "HTMLView",
            "style": "IPY_MODEL_4b6169f649c84c28aacd832a3308546a",
            "_dom_classes": [],
            "description": "",
            "_model_name": "HTMLModel",
            "placeholder": "​",
            "_view_module": "@jupyter-widgets/controls",
            "_model_module_version": "1.5.0",
            "value": "100% 5000/5000 [07:53&lt;00:00, 10.56epoch/s]",
            "_view_count": null,
            "_view_module_version": "1.5.0",
            "description_tooltip": null,
            "_model_module": "@jupyter-widgets/controls",
            "layout": "IPY_MODEL_975507edb236484d913a41a90c5fced6"
          }
        },
        "d5e6ea8f84574a0886af5ea7609ba63f": {
          "model_module": "@jupyter-widgets/controls",
          "model_name": "ProgressStyleModel",
          "state": {
            "_view_name": "StyleView",
            "_model_name": "ProgressStyleModel",
            "description_width": "",
            "_view_module": "@jupyter-widgets/base",
            "_model_module_version": "1.5.0",
            "_view_count": null,
            "_view_module_version": "1.2.0",
            "bar_color": null,
            "_model_module": "@jupyter-widgets/controls"
          }
        },
        "d1ea25b8e9b643edb4d70eb437db9bb0": {
          "model_module": "@jupyter-widgets/base",
          "model_name": "LayoutModel",
          "state": {
            "_view_name": "LayoutView",
            "grid_template_rows": null,
            "right": null,
            "justify_content": null,
            "_view_module": "@jupyter-widgets/base",
            "overflow": null,
            "_model_module_version": "1.2.0",
            "_view_count": null,
            "flex_flow": null,
            "width": null,
            "min_width": null,
            "border": null,
            "align_items": null,
            "bottom": null,
            "_model_module": "@jupyter-widgets/base",
            "top": null,
            "grid_column": null,
            "overflow_y": null,
            "overflow_x": null,
            "grid_auto_flow": null,
            "grid_area": null,
            "grid_template_columns": null,
            "flex": null,
            "_model_name": "LayoutModel",
            "justify_items": null,
            "grid_row": null,
            "max_height": null,
            "align_content": null,
            "visibility": null,
            "align_self": null,
            "height": null,
            "min_height": null,
            "padding": null,
            "grid_auto_rows": null,
            "grid_gap": null,
            "max_width": null,
            "order": null,
            "_view_module_version": "1.2.0",
            "grid_template_areas": null,
            "object_position": null,
            "object_fit": null,
            "grid_auto_columns": null,
            "margin": null,
            "display": null,
            "left": null
          }
        },
        "4b6169f649c84c28aacd832a3308546a": {
          "model_module": "@jupyter-widgets/controls",
          "model_name": "DescriptionStyleModel",
          "state": {
            "_view_name": "StyleView",
            "_model_name": "DescriptionStyleModel",
            "description_width": "",
            "_view_module": "@jupyter-widgets/base",
            "_model_module_version": "1.5.0",
            "_view_count": null,
            "_view_module_version": "1.2.0",
            "_model_module": "@jupyter-widgets/controls"
          }
        },
        "975507edb236484d913a41a90c5fced6": {
          "model_module": "@jupyter-widgets/base",
          "model_name": "LayoutModel",
          "state": {
            "_view_name": "LayoutView",
            "grid_template_rows": null,
            "right": null,
            "justify_content": null,
            "_view_module": "@jupyter-widgets/base",
            "overflow": null,
            "_model_module_version": "1.2.0",
            "_view_count": null,
            "flex_flow": null,
            "width": null,
            "min_width": null,
            "border": null,
            "align_items": null,
            "bottom": null,
            "_model_module": "@jupyter-widgets/base",
            "top": null,
            "grid_column": null,
            "overflow_y": null,
            "overflow_x": null,
            "grid_auto_flow": null,
            "grid_area": null,
            "grid_template_columns": null,
            "flex": null,
            "_model_name": "LayoutModel",
            "justify_items": null,
            "grid_row": null,
            "max_height": null,
            "align_content": null,
            "visibility": null,
            "align_self": null,
            "height": null,
            "min_height": null,
            "padding": null,
            "grid_auto_rows": null,
            "grid_gap": null,
            "max_width": null,
            "order": null,
            "_view_module_version": "1.2.0",
            "grid_template_areas": null,
            "object_position": null,
            "object_fit": null,
            "grid_auto_columns": null,
            "margin": null,
            "display": null,
            "left": null
          }
        }
      }
    }
  },
  "cells": [
    {
      "cell_type": "markdown",
      "metadata": {
        "id": "view-in-github",
        "colab_type": "text"
      },
      "source": [
        "<a href=\"https://colab.research.google.com/github/anubhavgupta1/DeepLearning/blob/master/4_Feed_Forward_Network.ipynb\" target=\"_parent\"><img src=\"https://colab.research.google.com/assets/colab-badge.svg\" alt=\"Open In Colab\"/></a>"
      ]
    },
    {
      "cell_type": "code",
      "metadata": {
        "id": "pyCYdE6mzelQ",
        "colab_type": "code",
        "colab": {}
      },
      "source": [
        "import numpy as np\n",
        "import matplotlib.pyplot as plt\n",
        "import matplotlib.colors\n",
        "import pandas as pd\n",
        "from sklearn.model_selection import train_test_split\n",
        "from sklearn.metrics import accuracy_score, mean_squared_error\n",
        "from tqdm import tqdm_notebook\n",
        "\n",
        "from sklearn.preprocessing import OneHotEncoder\n",
        "from sklearn.datasets import make_blobs\n",
        "# make_blob is used to generate non linear separable data\n"
      ],
      "execution_count": 0,
      "outputs": []
    },
    {
      "cell_type": "code",
      "metadata": {
        "id": "O1HlYv8m3wnv",
        "colab_type": "code",
        "colab": {}
      },
      "source": [
        "class SigmoidNeuron:\n",
        "  \n",
        "  def __init__(self):\n",
        "    self.w = None\n",
        "    self.b = None\n",
        "  \n",
        "  # Forward Pass\n",
        "  def perceptron(self, x):\n",
        "    return np.dot(x, self.w.T) + self.b\n",
        "  \n",
        "  def sigmoid(self, x):\n",
        "    return 1.0/(1.0 + np.exp(-x))\n",
        "  \n",
        "  # Gradient Computation\n",
        "\n",
        "  # weights for mean square error\n",
        "  def grad_w_mse(self, x, y):\n",
        "    y_pred = self.sigmoid(self.perceptron(x))\n",
        "    return (y_pred - y) * y_pred * (1 - y_pred) * x\n",
        "  \n",
        "  \n",
        "  # bias for mean square error\n",
        "  def grad_b_mse(self, x, y):\n",
        "    y_pred = self.sigmoid(self.perceptron(x))\n",
        "    return (y_pred - y) * y_pred * (1 - y_pred)\n",
        "  \n",
        "\n",
        "  # weights for cross-entropy loss\n",
        "  def grad_w_ce(self, x, y):\n",
        "    y_pred = self.sigmoid(self.perceptron(x))\n",
        "    if y == 0:\n",
        "      return y_pred * x\n",
        "    elif y == 1:\n",
        "      return -1 * (1-y_pred) * x\n",
        "    else :\n",
        "      raise ValueError(\"Y should be 0 or 1\")\n",
        "\n",
        "\n",
        "  # bias for cross-entropy loss\n",
        "  def grad_w_ce(self, x, y):\n",
        "    y_pred = self.sigmoid(self.perceptron(x))\n",
        "    if y == 0:\n",
        "      return y_pred\n",
        "    elif y == 1:\n",
        "      return -1 * (1-y_pred)\n",
        "    else :\n",
        "      raise ValueError(\"Y should be 0 or 1\")\n",
        "\n",
        "  \n",
        "\n",
        "\n",
        "  def fit(self, X, Y, epochs=1, learning_rate=1, initialise=True, loss_fn = \"mse\", display_loss=False):\n",
        "    \n",
        "    # initialise w, b\n",
        "    if initialise:\n",
        "      self.w = np.random.randn(1, X.shape[1])\n",
        "      self.b = 0\n",
        "      \n",
        "    if display_loss:\n",
        "      loss = {}\n",
        "    \n",
        "    for i in tqdm_notebook(range(epochs), total=epochs, unit=\"epoch\"):\n",
        "      dw = 0\n",
        "      db = 0\n",
        "      for x, y in zip(X, Y):\n",
        "        if loss_fn == \"mse\":\n",
        "          dw += self.grad_w_mse(x, y)\n",
        "          db += self.grad_b_mse(x, y) \n",
        "        elif loss_fn == \"ce\":\n",
        "          dw += self.grad_w_ce(x, y)\n",
        "          db += self.grad_b_ce(x, y) \n",
        "\n",
        "      m = X.shape[1]       \n",
        "      self.w -= learning_rate * dw/m\n",
        "      self.b -= learning_rate * db/m\n",
        "      \n",
        "      if display_loss:\n",
        "        Y_pred = self.sigmoid(self.perceptron(X))\n",
        "        if loss_fn == \"mse\":\n",
        "          loss[i] = mean_squared_error(Y_pred, Y)\n",
        "        elif loss_fn == \"ce\":\n",
        "          loss[i] = log_loss(Y_pred, Y)\n",
        "    \n",
        "    if display_loss:\n",
        "      plt.plot(list(loss.values()))\n",
        "      plt.xlabel('Epochs')\n",
        "      if loss_fn == \"mse\" :\n",
        "        plt.ylabel('Mean Squared Error')\n",
        "      elif loss_fn == \"ce\" :\n",
        "        plt.ylabel('Log Loss')\n",
        "      plt.show()\n",
        "      \n",
        "  def predict(self, X):\n",
        "    Y_pred = []\n",
        "    for x in X:\n",
        "      y_pred = self.sigmoid(self.perceptron(x))\n",
        "      Y_pred.append(y_pred)\n",
        "    return np.array(Y_pred)"
      ],
      "execution_count": 0,
      "outputs": []
    },
    {
      "cell_type": "code",
      "metadata": {
        "id": "4XtDZRszvJRJ",
        "colab_type": "code",
        "colab": {}
      },
      "source": [
        "my_cmap = matplotlib.colors.LinearSegmentedColormap.from_list(\"\",[\"red\",\"yellow\",\"green\"])"
      ],
      "execution_count": 0,
      "outputs": []
    },
    {
      "cell_type": "markdown",
      "metadata": {
        "id": "tsZhWNBtv2lP",
        "colab_type": "text"
      },
      "source": [
        "#Generate Data"
      ]
    },
    {
      "cell_type": "code",
      "metadata": {
        "id": "YmtkeYcz32Ei",
        "colab_type": "code",
        "outputId": "20a443bf-8618-40a6-90be-5a73b80e4da2",
        "colab": {
          "base_uri": "https://localhost:8080/",
          "height": 50
        }
      },
      "source": [
        "data, labels = make_blobs(n_samples=1000,n_features=2, centers=4,random_state=0)\n",
        "print(data.shape,\"\\n\", labels.shape)\n",
        "\n",
        "#centres = 4 : 0,1,2,3 it tells us how many clusters we want"
      ],
      "execution_count": 0,
      "outputs": [
        {
          "output_type": "stream",
          "text": [
            "(1000, 2) \n",
            " (1000,)\n"
          ],
          "name": "stdout"
        }
      ]
    },
    {
      "cell_type": "code",
      "metadata": {
        "id": "DV132bWWxGbZ",
        "colab_type": "code",
        "outputId": "8c56f3bc-5a85-4634-e24a-c9f7eafa81de",
        "colab": {
          "base_uri": "https://localhost:8080/",
          "height": 1000
        }
      },
      "source": [
        "#x1\n",
        "print(data[:,0])"
      ],
      "execution_count": 0,
      "outputs": [
        {
          "output_type": "stream",
          "text": [
            "[-2.50804312  0.4666179  -2.94062621 -2.89994656  2.34438803  0.87305123\n",
            "  0.84032038  1.66287852  0.85810603 -0.72183574 -2.91242876  2.5539578\n",
            " -1.80372701 -1.29336908  1.12247848 -2.89206689 -2.42327374 -1.21013777\n",
            "  0.4334086   2.6112302  -0.63762777 -0.38915158  2.42281242  0.61032732\n",
            "  0.05105181 -2.24684455  2.03184442  1.50095789  1.85237068 -2.00715305\n",
            "  2.72583797  1.13277662 -1.45654088 -0.560136    0.14227819  3.13950603\n",
            " -1.7379808   2.102906   -0.1223585  -0.84944184  1.3151742  -0.17119857\n",
            "  0.60708824 -1.566172   -1.97218448  0.62283833  1.25671178 -0.92913737\n",
            " -1.47173266  0.06750683  3.28013809  2.12860164  0.84256852 -1.31193842\n",
            " -1.51946311  1.37724174 -0.65392827 -0.18108518 -1.6051273  -0.39772509\n",
            " -0.18433654  1.52256473 -1.70036791 -2.15246105 -0.09355151  0.7185082\n",
            "  2.29540695 -1.13781004 -1.78024958 -1.30854331 -1.14302364 -1.02090982\n",
            " -0.43027817  0.13370355  0.78561658 -1.03301531  0.81860306 -0.26461958\n",
            " -2.73063921  2.99618514 -0.00924066 -1.57671974  1.55479158  0.62267052\n",
            "  1.60146348 -1.68290216  0.1631238   2.07592967 -2.63638157 -1.39499226\n",
            " -1.89120833 -2.57003351 -3.41926591 -2.02255086  0.23666982 -2.39015719\n",
            " -0.69555296 -0.00814468  1.1312175   1.7907899   2.41477192 -0.76240656\n",
            "  1.59034945  1.60710216  0.93698726 -2.1519314   0.66538391  0.49237367\n",
            " -0.79524509  1.11628595  0.17286041  1.18454506 -1.31705454 -1.39702193\n",
            " -0.75606705 -0.75813337  1.25619468 -2.38716647 -0.3089063   1.79362208\n",
            "  1.23777442 -2.288855   -1.31963327  0.2812278   0.206354    2.58431276\n",
            "  0.54111653 -0.36712468 -1.45938716  1.69366824  1.206947    1.76259804\n",
            " -1.73384872  1.6164016  -0.02394527  0.59139027 -1.36534475  0.79121641\n",
            "  2.66038761  0.17371978  2.99166606 -0.44620404  2.75464801  0.23151526\n",
            " -0.03840565  0.31302382  1.6902123   0.34818252 -1.2781119  -2.03735796\n",
            "  0.7073421   0.95924966  0.29225918  1.35269561 -1.85900629  1.83886609\n",
            "  1.25078644  0.340424    1.95357025 -0.90438487 -2.20541387  1.63060422\n",
            "  0.33883305  0.93409863  0.23670708  1.40252881 -0.14456182 -2.08738518\n",
            "  1.26261377  1.997798   -0.7527434   2.59857941  2.06749951  1.98799191\n",
            " -2.40606464  0.91546507 -1.3202135   1.39734143  2.82796236  0.37995604\n",
            " -1.85346499  0.57682105 -1.30972438 -0.35798839  1.79785579 -1.27410051\n",
            "  2.91878718  0.05791651  2.41002521  0.15458897 -1.87668619  0.19364092\n",
            "  1.45460996  2.04412191 -0.21823526 -2.21633789 -0.70234679 -1.23074016\n",
            " -0.79448    -1.10598573  0.92432571  1.66780883  0.28267658 -1.8953093\n",
            "  1.6801204   2.12985393 -2.84462136  1.33263648 -1.16564474  0.68443272\n",
            "  0.43753653 -0.99030749 -0.19685333 -2.04503108 -0.59077486  2.49626494\n",
            "  1.84523357  4.17205854  2.09227324 -0.73533893  1.43368568  0.02032508\n",
            "  1.85210284 -1.83234932 -1.27929415  0.86572942  2.10486414 -0.17886823\n",
            " -2.11711832 -1.20818432 -0.15055573  0.23436211  0.08080352  3.2460247\n",
            " -1.33417502  0.23101087 -2.00714605  0.31291132  4.64969211 -1.5602233\n",
            "  1.74952306 -2.09240182  0.10956444  2.50346281 -0.32169747 -2.01061731\n",
            " -1.39094349 -2.05697331 -1.20308992 -0.33505385  1.10318217 -1.91505821\n",
            " -1.58993387 -1.10432364 -3.68497258  3.64803828 -1.00364227 -0.33025677\n",
            " -0.54911962 -0.73000011  3.08420301 -1.30999908  0.8433895   2.08586935\n",
            " -2.1059584  -1.37223518  0.3238615  -2.09334387 -2.83970365  3.07705811\n",
            "  2.77836802  0.53534745  2.73172825 -2.30508753  0.92290917 -1.05504222\n",
            " -1.52543301 -1.23807026 -1.92813872  0.40695803  2.29008905 -2.8062543\n",
            " -0.48780757  1.67472723 -0.69425327 -0.75623096 -1.11281266  1.47001186\n",
            "  1.15366683 -1.22074607  2.29485028 -1.28775843  1.834194   -2.08788822\n",
            " -1.90154048  2.41974877 -2.08411184 -0.31431938  1.90811845 -2.35048597\n",
            "  1.32622286 -2.08344846 -3.68582013 -1.58854207 -0.23075415  0.33950575\n",
            " -0.65636445  1.07399505  0.68450754  2.47034915  0.5626511  -0.56452694\n",
            " -1.8889815   2.27911108 -2.60624718  2.20656076 -2.116133    1.15786659\n",
            "  1.5001611  -2.08044181 -0.51498751  0.90486402  2.25033722 -1.09209606\n",
            " -1.57622808  3.23557903 -0.83040207  2.49630043 -1.05855316  3.06710995\n",
            " -2.7001613   3.13346483 -1.74405127 -2.28339754 -1.43937254 -0.62480217\n",
            "  1.53368784  1.64856484  2.35200069  1.64265316 -1.64731065  0.90802847\n",
            "  0.61842737  1.35900251  2.38013714  1.39880385  0.42284422  1.6329527\n",
            "  1.60396448  2.21919609 -0.60310745  1.6706221  -1.02151707  1.58523464\n",
            "  2.89921211 -2.87457771  2.46168302 -0.95074142 -1.32906739  2.44284879\n",
            "  1.7373078   3.28018678  2.48959816 -1.22049364 -2.21942644 -0.56685627\n",
            " -2.89747275 -0.23965849 -0.78196573 -0.60666832 -1.10644914  1.81324769\n",
            "  0.29501108 -3.04542039  0.10469341  2.09503426  0.05196118  2.71514276\n",
            " -1.90819848 -0.37924943 -1.20934707  1.49733495 -1.01406756  1.20268167\n",
            "  3.42625653  2.99773564 -1.64616787 -2.7965101  -1.30265179 -2.17107909\n",
            "  0.82864586 -0.31407603  3.81025368 -1.61169355 -3.53878433 -3.42718729\n",
            " -0.09990519  2.81066322  1.96488551 -0.09448254  0.18331198 -1.42769915\n",
            " -0.78746145 -4.30426316 -1.60002366  1.25584512  0.33265168 -0.21258918\n",
            " -0.07228289 -1.2296284  -2.8753171   1.72345841 -1.24258949 -1.2759059\n",
            " -1.37946961  1.74293326  0.28422023 -0.83045519  1.83572649 -0.7818762\n",
            "  0.06344785 -1.39533005 -1.61201962 -2.72189082 -0.94954211  1.01490063\n",
            " -1.84640623 -1.03270272  0.70853654  0.32397648  0.24775455  1.04843577\n",
            " -4.52151687 -2.30572942 -1.98912248  2.34080193 -0.98429323 -0.7796205\n",
            "  3.45661235 -1.20717355  1.5227776  -1.30861827 -1.40962931  0.09115026\n",
            " -1.69511824  0.50740589  3.54462348 -0.29421492  0.47823763  2.50904929\n",
            " -0.5415865   1.24018584 -0.17991235 -3.35693256 -1.77692643  1.51999736\n",
            " -1.6829279   1.92421351 -2.24161715  0.77557835  0.89033931  0.7565808\n",
            " -1.04013655 -0.80104369 -1.34726409  2.38530264 -0.95844509 -1.67935211\n",
            " -2.25356765  1.19871821  0.25666569 -1.50151841  0.28170222  0.0157657\n",
            "  3.67249413  0.91464368  1.27450825  2.37242815 -1.82768789  1.74767603\n",
            " -2.30927098 -0.12811326  1.83831795  1.43940041  0.03155625 -1.30444085\n",
            " -2.48405149  0.09436624  0.01231307 -0.70992617 -0.19407787  2.53638265\n",
            " -1.85183897 -2.63152061 -0.79655222  4.0665242  -0.8473701   1.61958454\n",
            " -0.2573466   1.11822324  1.64896439 -1.42852611 -2.55838647 -1.58693796\n",
            "  1.0220286  -3.33504794  2.28087618 -1.05042761 -1.97912936 -1.17873478\n",
            "  3.47825102 -2.9734819   3.38172916 -2.8866794   0.72305587 -2.78117683\n",
            " -0.65594223  2.10040154  2.98567602 -1.67871769 -1.50811222  0.00948844\n",
            "  0.28843247  0.02150898 -0.05797276  0.46546494 -0.42860047  1.98059954\n",
            "  1.02576506  1.30557718  1.5528609   0.14234679  0.15326764 -1.68912246\n",
            " -2.66591221 -2.97332508 -3.04571158 -1.98454461 -2.54172992  1.37227679\n",
            " -2.97148403  1.55916519  2.06561684  2.33954719  1.54356036 -0.44779083\n",
            "  2.1151622   0.30380963 -0.64041247 -0.92419636 -2.77949735  2.29738548\n",
            "  0.37815963  0.34194798 -0.86393237 -2.67290444 -0.13097231  2.50775661\n",
            " -2.17216779 -3.16571132  3.34125153  0.87610959  0.45875104 -0.97258923\n",
            " -1.25787994 -2.34050001  0.50483818 -0.0536652   1.21758948 -1.17965655\n",
            " -2.57242857 -3.64196003 -2.97853184 -1.20212072 -0.47026462 -2.28060848\n",
            " -1.21698823 -0.83902262  1.46386485  3.13664356 -1.31234996  1.95092403\n",
            "  2.64514734  0.30193742  0.59353483 -1.08239225 -1.22151739 -1.33545314\n",
            "  2.27477708  1.37861172  2.11567076 -0.64751407 -1.21012839  1.84070628\n",
            " -0.68895679  1.34709508 -1.71899827  0.95194395 -2.4993069  -2.3406985\n",
            " -1.16207893 -1.40819556 -2.22515116 -1.59245223  1.85686862  0.87763856\n",
            "  1.74806063 -1.19637127  0.5810411  -1.41151072 -0.78867087  1.12511102\n",
            "  1.54774992  0.62835793 -0.64411903 -2.04952343  0.08848433  2.1062218\n",
            " -0.92999753 -2.31742704  1.88644899 -0.0417718   1.50955555 -1.92846156\n",
            " -2.75791738 -1.24063828  1.99991497 -2.85469546 -2.54860261 -0.57069874\n",
            "  1.35034617  2.16429987 -1.44860925 -1.41434648 -2.46112359 -2.2996759\n",
            "  1.37231807  1.12031365  1.49954674  2.40808413  2.59604111  2.58421114\n",
            " -1.36765354 -0.20254526  1.55625088  0.5126741   0.00516551 -0.31658683\n",
            "  1.37531642 -0.33963733 -1.40329158 -2.25429263 -1.24211341  0.61157653\n",
            " -0.25949236  1.13726275 -2.23892671 -1.2966004  -0.24916544  0.18540121\n",
            "  0.20755218  1.67004323 -1.25831225 -1.22639842 -1.99439719  1.60150153\n",
            "  2.74569655 -2.32681764 -0.38164184  1.70536064 -1.92820182 -1.65514599\n",
            " -0.47097881  0.16290582 -1.18867854 -1.42199685  2.77525125  1.77683488\n",
            "  1.11738729 -2.36520533  3.01596092 -4.32910681  1.28933778  0.6954868\n",
            " -3.36943222  1.17557028  1.94477812  2.26874757 -2.28236674 -1.45941176\n",
            "  0.7693664  -1.04647952 -1.06959437 -0.40326017  0.31771711 -2.52575281\n",
            " -1.61841994  1.91168801  1.83279051  1.83266184  3.23664612  1.68971643\n",
            " -1.51366425 -2.94969892  2.85942078  0.37761614 -2.62868653  2.36359877\n",
            " -1.00705181  1.92569089  1.26659827 -2.73113913  2.56250647 -0.60520123\n",
            "  2.07655442  2.95052779  2.50904943 -1.11833299  3.46643959 -0.77495743\n",
            " -0.24692476  1.9991345   0.99946423  1.83310069 -1.92784882  2.32643771\n",
            "  1.25212613  0.06688189  2.25323481 -1.64860459  3.02780331  1.42013331\n",
            " -1.09743757  0.10346342  1.26298086 -0.77291255  1.44193252  1.8971289\n",
            " -2.93277303  1.24964101  0.66471755  0.96058797  0.36703749 -0.48188064\n",
            "  1.11089903 -1.05441439 -2.23137396 -1.33404006  1.10777893 -0.9603587\n",
            " -0.48681777  2.04040982 -0.33103423  1.19629513  2.17041539  2.47075462\n",
            " -1.78286168  2.52365276  0.08161814  3.08967741 -1.98098438  2.86794156\n",
            "  1.70901807  2.06389542  3.38305022  0.58894326 -1.97567103 -1.42823656\n",
            "  2.01949945  1.38754724 -1.03566873 -0.80123162  0.70826671  1.3875548\n",
            "  3.44052907  1.81392973 -1.99621475  2.93218239  2.99171325  0.70059954\n",
            "  1.9404922   1.83100859 -1.35146853 -1.60936891  2.42111631  3.32034536\n",
            "  2.84382904 -1.71569678 -2.83272934  0.03182382  4.55246791 -0.34820153\n",
            "  0.07336381  0.37404931  4.40191455 -2.10349623  1.68456352 -1.43116076\n",
            " -1.02817705  1.14294357 -2.613014   -0.06898329 -1.58204674 -1.60420727\n",
            " -2.06353144  0.55287095  2.23919302 -1.94438136  1.35894087 -0.80540966\n",
            " -2.03783019 -0.27652528  1.12252661 -0.42288354  0.52073758  2.52143395\n",
            "  0.62881943 -1.09135785  1.92335888 -1.28703691  0.10718693  1.36796848\n",
            " -3.10939849 -2.90208849  1.3952112  -1.12024693 -0.86679947 -1.4320115\n",
            " -1.49381426 -2.53122673  2.10684246  0.83732901 -2.52723436  2.23860672\n",
            "  0.53708056  0.50942453  1.29739666 -2.05577387 -2.01904008 -0.91979234\n",
            " -1.36624282  0.9867701   0.1216      1.20353832  2.07632954  1.28956533\n",
            " -1.818546   -0.82279299 -0.99270284 -1.56264675 -2.30720842 -0.75461169\n",
            " -0.60549562 -1.7662006  -1.23450729  3.20945155  0.66715563  2.61927606\n",
            " -0.6488864   0.64930461 -1.93917577  0.49661426 -2.42271977  0.2715698\n",
            " -2.56110545  1.77883468 -2.01015356  2.62440501 -1.18784476 -0.07835839\n",
            "  2.15504965 -1.67695784 -1.53045165  2.53216589 -1.26403499  1.70730567\n",
            " -1.81590922  1.64932579 -1.24089149 -0.64171647  1.5499092   1.66839667\n",
            "  1.91931617  0.11504439  2.2826603  -1.8273828  -2.3818486  -0.96000973\n",
            "  2.07261692 -2.07640256 -2.86761576  1.29315301  2.04477948 -0.79210274\n",
            "  1.02262442 -0.71772372 -1.04926628  0.84616312  2.70899127  3.35941485\n",
            " -0.79226837 -1.98272936 -1.14767457  0.2506727   0.94808785  2.28332085\n",
            " -1.69666231  0.62227617  2.52570067 -2.90359981 -1.13653907  0.66725711\n",
            " -1.04316915  1.81790134  1.13615408 -0.81748464  1.74329141  0.57309313\n",
            "  0.21212615 -2.4465547  -1.20747218 -0.18887976 -2.13074357  2.55331993\n",
            "  1.15369622  0.90765658  0.47345338  0.87781755  1.90577519  2.87558932\n",
            "  1.99668097  2.46452227 -0.18922852  3.08570579 -1.18062154  0.93056612\n",
            " -0.91874759 -1.55543288 -3.0171694   3.38028157  0.45343147  1.40808609\n",
            "  0.79389583  0.10547293  1.0427873  -0.27951138 -0.6941282  -0.5285876\n",
            " -2.13952975 -0.13438556  2.38584428  0.06897171 -2.26002986  2.28084919\n",
            "  2.34217201 -0.37494394 -0.86093687 -1.00160682 -1.86759636  1.92352205\n",
            " -3.00814998 -1.65144408 -0.84435975 -0.29406619 -0.89255226  1.66608824\n",
            " -0.50567927 -0.4095987   0.37895401 -1.21770919  1.64407076 -1.12427848\n",
            " -1.02457577  4.06932768 -0.30551905  0.41230223  2.99200998 -0.51123873\n",
            " -0.52752911 -1.58895714  2.66719471 -1.35323548  2.81100781 -1.55420835\n",
            " -0.371529   -0.43039394 -2.8529943  -0.98678099 -1.28013799  0.63334765\n",
            " -1.09177952  2.40704763 -0.47323251  2.3308682  -0.56634679 -0.99592434\n",
            " -1.16167259 -1.13551783 -1.22933367  3.90485877]\n"
          ],
          "name": "stdout"
        }
      ]
    },
    {
      "cell_type": "code",
      "metadata": {
        "id": "qR0PVtnYxd5H",
        "colab_type": "code",
        "outputId": "35273f60-2a3c-471c-b2ef-2aacdb78aaa5",
        "colab": {
          "base_uri": "https://localhost:8080/",
          "height": 1000
        }
      },
      "source": [
        "#x2\n",
        "print(data[:,1])"
      ],
      "execution_count": 0,
      "outputs": [
        {
          "output_type": "stream",
          "text": [
            "[ 7.86408052e+00  3.86571303e+00  8.56480636e+00  1.85014025e+00\n",
            "  1.31053448e+00  4.71438583e+00  5.44067869e+00 -2.14847939e+00\n",
            "  3.62360912e+00  4.69106780e+00  7.70889068e+00  1.94563582e+00\n",
            "  4.04178757e+00  7.91458174e+00  2.14098304e+00  4.86498090e+00\n",
            "  9.55150252e-01  7.25654188e+00  4.71983737e+00  1.79013755e+00\n",
            "  4.09104705e+00  7.02583344e+00  1.08797522e+00 -3.12879334e-01\n",
            "  1.27454018e+00  2.02430786e+00  1.97685839e+00  4.27026002e-01\n",
            "  7.87780881e-01  3.85398981e+00  1.90157962e-01  4.53596836e+00\n",
            "  9.40983125e+00  3.42595017e+00  6.19411141e+00  5.64031528e+00\n",
            "  7.55616335e+00  3.22385582e+00  3.06432303e+00  2.96970265e+00\n",
            "  6.32483089e+00  3.86596728e+00  4.06440815e+00  1.96894945e+00\n",
            "  6.71583178e+00  2.68731314e+00  3.31066372e+00  8.14272480e+00\n",
            "  3.21685972e+00  3.87946971e+00  9.62519766e-01  5.38340592e+00\n",
            "  5.38153113e+00  3.01510149e+00  6.51828523e+00  2.19550945e+00\n",
            "  4.76656958e+00  3.99149508e+00  8.38111734e+00  6.99633583e+00\n",
            "  1.29916272e+00  1.98841339e+00  2.40785272e+00  3.91001909e+00\n",
            "  3.33628027e+00  7.63922605e+00  3.42136851e+00  4.08892333e+00\n",
            "  6.87920159e+00  8.11354106e+00  7.74380061e+00  9.44970956e+00\n",
            "  7.55654574e+00  1.50127878e+00  3.90893781e+00  6.82909449e+00\n",
            "  6.56051082e+00  7.74984506e+00  3.33492576e+00  1.30286774e+00\n",
            "  2.83195232e+00  4.95740592e+00  4.65344178e+00  2.82763841e+00\n",
            "  1.30092820e+00  4.91010685e+00  2.57750473e+00  4.95905106e+00\n",
            "  2.37036416e+00  9.37316670e-01  7.98557524e+00  2.06080407e+00\n",
            "  2.74006912e+00  7.56607024e+00  5.71157000e+00  6.52448965e+00\n",
            "  3.40585494e+00  1.74672180e+00  4.68194985e+00  4.36271292e+00\n",
            "  7.53096843e-01  2.64950953e+00  5.22599400e+00  2.48325732e-01\n",
            "  3.13569383e+00  2.52748957e+00  4.40118749e+00  7.54197496e+00\n",
            "  2.85239389e+00  1.91468465e+00  3.61423755e+00  5.28042636e+00\n",
            "  1.67725766e+00  7.93146422e+00  3.16105048e+00  2.49655467e+00\n",
            "  4.20563694e+00  3.24618356e+00  9.17997842e-01  7.15418876e-01\n",
            " -5.03683633e-01  7.51985689e+00  3.22561484e+00  3.35452074e+00\n",
            "  4.84303652e+00  1.32029228e+00  6.15305106e+00  8.86844921e+00\n",
            "  3.69548640e+00  1.96224880e+00  5.71994191e-01  3.83736823e+00\n",
            "  2.23978680e+00  2.68683128e+00  2.75901623e+00  4.39813892e+00\n",
            "  4.48128701e+00  3.49613884e+00  1.79321965e+00  8.29182338e+00\n",
            "  3.72023067e-01  5.98892803e+00 -1.63558628e-01  3.47734879e+00\n",
            "  6.42935524e+00  6.89518978e+00 -8.93663888e-01  3.82276021e+00\n",
            "  7.71728923e+00  7.83670847e+00  1.36090272e-01  4.68293906e+00\n",
            "  5.96333812e+00  3.20438654e+00  2.19645097e+00  1.64816823e+00\n",
            "  3.41287224e+00  4.98022062e+00  9.16943044e-01  2.28669032e+00\n",
            "  8.84943217e+00  6.76990624e-02  3.90651551e+00  4.01690014e+00\n",
            "  5.84680192e+00  4.98069536e+00  8.23599070e+00  8.82558140e+00\n",
            "  4.91263116e+00  5.06446608e-01  2.14342329e+00  1.33670662e+00\n",
            "  2.46692327e+00 -4.20732210e-01  2.68678065e+00  1.68262118e+00\n",
            "  3.44892477e+00  1.86654630e+00 -7.63934631e-01  4.25122003e+00\n",
            "  2.90967238e+00  4.67384322e+00  2.99609344e+00  2.95706982e+00\n",
            "  4.30907997e+00  2.50986755e+00  9.29099193e-02  3.56585005e+00\n",
            "  1.51455021e+00  8.17130474e+00  4.94135421e+00  4.19339803e+00\n",
            "  2.44990684e+00  9.09162560e-01  2.89208370e+00  8.31252811e+00\n",
            "  3.44906063e+00  8.15908578e+00  2.54265986e+00  3.16448445e+00\n",
            "  2.70667628e+00  4.99853647e+00  7.92790775e+00  8.00670356e+00\n",
            " -3.28532532e-01 -1.79435409e-01  3.45889048e+00  5.01036050e+00\n",
            "  7.01392550e+00  3.54229512e+00  6.18741381e+00  3.32257772e+00\n",
            "  6.24740851e+00  9.38352682e+00  3.59626236e+00  6.02337663e+00\n",
            "  4.58065923e+00 -7.13214744e-01  1.66556607e+00  5.29422121e+00\n",
            "  3.33917531e+00  3.95780555e+00  4.18867986e+00  8.17056564e+00\n",
            "  3.28128048e+00  5.32396004e+00  4.79978827e+00  3.82558106e+00\n",
            "  8.49185077e+00  7.50770510e+00  3.57310957e+00  3.67197792e+00\n",
            "  4.69068983e+00  2.84942165e+00  3.61432093e+00  1.20126756e+00\n",
            "  2.39463132e+00 -4.05579094e-01  4.93631366e-01  1.38707876e+00\n",
            "  3.11990669e+00  3.39391364e+00 -1.51198342e-02  2.59384523e+00\n",
            "  8.39354190e+00  6.38851968e+00  6.60782360e+00  6.73133603e+00\n",
            "  9.69480635e+00  1.00467643e+01  4.70577669e+00  2.85795426e+00\n",
            "  7.85975093e+00  3.46536283e+00  4.23643328e+00  6.39091028e-01\n",
            "  2.38029889e+00  5.96191801e+00  7.53670042e+00  6.25456272e+00\n",
            "  8.25376652e-01  7.38862376e+00  4.00599645e+00  8.28022081e-01\n",
            "  7.97091468e+00  3.95945065e+00  3.91283395e+00  2.61019098e+00\n",
            "  7.83868223e+00  3.45122987e-01  9.22275785e-01  4.02343183e+00\n",
            "  5.15654704e-01  4.65465722e+00  8.49753430e+00  9.13280210e+00\n",
            "  2.15117741e+00  1.00337564e+01  2.11779979e+00  4.57369168e+00\n",
            "  3.02981707e+00  7.32842525e+00  3.39697749e+00  4.30755822e+00\n",
            "  3.24494847e+00  2.78744253e+00  2.41064780e+00  4.18768339e+00\n",
            "  2.71707375e+00  1.00674764e+01  5.27862494e-01  4.31577852e+00\n",
            "  5.44488919e+00  6.46721492e+00  7.91397404e+00  2.36898562e+00\n",
            "  6.89336643e+00  1.76171596e+00  4.64375231e+00  7.81091059e+00\n",
            "  1.09422106e+00  6.88871960e+00  8.95038458e+00  1.48514677e+00\n",
            "  3.53434157e+00  7.19220241e+00  2.73601960e+00  4.88674101e+00\n",
            "  1.76331658e+00  4.09862906e+00  3.55633252e+00  4.36704932e+00\n",
            "  6.70114842e+00  1.22728664e+00  2.80365671e+00  5.50616718e+00\n",
            "  2.46941726e+00  2.21013403e+00  4.39220941e+00  8.00779915e+00\n",
            "  4.74317903e+00  8.30376492e+00 -8.83899196e-01  3.45797672e+00\n",
            "  3.15691586e+00  4.26153018e+00  7.79544129e+00  1.07645653e+00\n",
            "  9.53803017e+00  2.39712615e-01  8.21766280e+00 -1.66152101e+00\n",
            "  9.05203773e+00  3.21939632e+00  3.85662914e+00  8.72613170e+00\n",
            " -2.87022930e-01  4.71124916e+00  1.72764982e+00  3.84306754e+00\n",
            "  1.43856628e+00  6.01713005e+00  8.59292835e+00  4.26954505e+00\n",
            "  1.89478164e+00 -1.93689085e+00  8.30529505e-01  1.00237769e+00\n",
            "  1.16335163e+00  9.93985016e-01  2.78531425e+00  4.53827567e-01\n",
            "  3.27713142e+00  6.80932189e-01  5.78430212e+00  7.70063756e+00\n",
            "  7.04486958e-01  7.87948229e+00  7.13160098e+00  5.15633927e+00\n",
            "  4.42546234e+00  3.24377150e+00  4.85691939e+00  7.40991780e+00\n",
            "  9.26177688e+00  2.50138318e+00  9.23402211e+00  8.36305740e+00\n",
            "  9.55029162e+00  4.91416671e+00  9.66889538e+00  2.41592483e+00\n",
            "  2.84223179e+00  7.03320684e+00  3.29564143e+00 -6.69331051e-01\n",
            "  2.12238171e+00  5.29818172e+00  8.04847718e+00  8.01964128e+00\n",
            "  8.46202427e+00  3.72799936e+00  2.59156380e+00  9.20623416e-01\n",
            "  3.87820418e-01  6.30068914e-01  8.61803890e+00  8.36743465e+00\n",
            "  1.23919390e+00  6.38412152e+00  1.86510981e+00  6.44395475e+00\n",
            "  7.64675238e-01  8.61451124e+00  3.50758587e+00  7.20580959e+00\n",
            "  6.92460964e+00  1.76507107e+00  2.26526090e+00  5.35823905e+00\n",
            "  9.29767419e+00  4.49418123e+00  7.43447386e+00  4.06961624e+00\n",
            "  1.62050261e+00  1.13845117e+00  2.08038418e+00  3.79697097e+00\n",
            "  2.88376939e+00  8.88978499e+00  4.18286559e+00  3.11484237e+00\n",
            "  3.33328289e+00  3.97264019e+00  1.94041738e+00  4.66008014e+00\n",
            "  5.84016438e+00  6.59524368e+00 -1.86372961e-01  7.74106751e+00\n",
            "  5.42080362e+00  1.51232221e+00  2.35358123e+00  2.41747259e+00\n",
            "  8.74610569e+00  2.64707223e+00  6.31542073e+00  8.40346737e+00\n",
            "  3.17577600e+00  3.78259802e+00  2.52472907e+00  2.57924038e+00\n",
            "  3.79881982e+00  7.27947498e+00  7.22716887e+00  3.61433814e+00\n",
            "  3.63382115e+00  4.75472179e+00  4.87281866e-01  8.42892594e+00\n",
            "  1.54271893e+00  7.12441942e+00  9.62990882e+00  2.09347314e+00\n",
            "  3.29579236e+00  2.10234604e+00  1.41896741e+00  5.27318404e+00\n",
            "  6.23331938e+00  5.77314610e+00  3.68480193e+00  9.53142955e+00\n",
            "  5.08498543e+00  2.22204714e+00  7.72745618e+00  9.23068868e-01\n",
            "  3.96697545e+00  2.03074354e+00  9.87753217e+00  3.12232456e-01\n",
            "  4.49808027e+00  2.17373901e+00  3.76433269e+00  7.21933889e+00\n",
            "  6.78480618e+00  3.12360799e+00  2.58507050e+00  8.40821138e+00\n",
            "  7.93686716e+00 -6.43923740e-01  3.49079434e+00  3.52827403e+00\n",
            "  4.15415279e+00  3.51066996e+00  4.22986266e+00  4.19648205e+00\n",
            "  5.63017322e+00  1.41770427e+00  2.25727367e+00  5.33322616e+00\n",
            "  3.54300092e+00  4.35595241e+00  1.34305691e+00  4.58288309e+00\n",
            "  6.94949353e+00  2.82950674e+00  1.56945794e+00  7.09552416e+00\n",
            "  7.73506651e+00  7.69301460e+00  8.78629371e+00  3.65701877e+00\n",
            "  2.20657590e+00  2.88694600e+00  4.02246073e+00  8.53068233e-01\n",
            "  7.82580278e+00  2.73316392e+00  7.64875090e+00  3.98445891e+00\n",
            "  3.36186688e-02  3.29929852e+00  1.48789100e+00  9.87022256e+00\n",
            "  4.11660348e+00  3.32921650e+00  1.34737576e+00  7.93321082e+00\n",
            "  6.19375679e+00  3.58114035e+00  1.29375024e+00  1.33519662e+00\n",
            " -6.69427643e-02  6.05907140e+00 -1.07096103e+00  6.12348985e+00\n",
            "  2.03991164e+00  3.23728847e+00  7.22347258e-01  8.98483940e+00\n",
            "  2.32410481e+00  5.74882504e+00  3.08970992e+00  7.12560583e+00\n",
            "  4.98538185e+00  3.12315514e+00  2.78004308e+00  1.15638010e+00\n",
            "  4.79762410e+00  9.30472408e-01  4.09548857e+00  3.21987147e+00\n",
            "  7.99389386e+00  3.68731244e+00  1.70348088e+00  2.46553199e+00\n",
            "  6.77202708e+00  3.28969334e+00  2.31555041e+00  3.21072582e+00\n",
            "  9.63299940e+00  8.22858677e-01  1.61769742e+00  2.64033244e+00\n",
            "  4.08111223e+00  3.81046744e+00  6.85140615e-01  3.94423417e+00\n",
            "  2.64575051e+00  2.32323249e+00  2.33156224e+00  8.94340258e-03\n",
            "  2.90310504e+00  3.94104616e+00  8.84517187e+00  2.96494836e+00\n",
            "  6.27155538e+00  9.95559805e-01  9.24761171e+00  2.18456945e+00\n",
            " -6.09334738e-01  2.19909173e+00  3.32495747e+00  7.12707496e+00\n",
            "  3.44280012e+00  2.39624075e+00  1.31498248e+00  3.95384396e+00\n",
            "  3.06480556e-01  7.56318391e+00  1.83302620e+00  4.32324770e+00\n",
            "  8.42420242e+00  6.87708554e+00  5.10408528e+00  3.05557209e+00\n",
            "  7.74334790e+00  2.96773953e+00  2.02208284e+00  2.66287671e-01\n",
            "  4.55527174e+00 -9.03382826e-02  5.33804850e-01  4.33561789e+00\n",
            "  2.14223893e-01  9.16460130e+00  8.01891027e+00  3.79839346e+00\n",
            "  1.29072659e+00  3.61897724e+00  3.06896151e+00  3.55330679e+00\n",
            "  8.34817754e+00  3.56162231e+00  6.77176442e+00  4.44584913e+00\n",
            "  8.10825641e+00  3.56575642e+00  4.26410333e+00  1.46876465e+00\n",
            "  1.00263580e+01  7.00350252e+00  7.24588009e+00  7.58274934e+00\n",
            "  9.91855960e-01 -2.42532641e-01  5.12729148e+00  2.77260780e+00\n",
            "  3.14436681e+00  7.74900473e+00  8.11551788e+00  7.19074568e-01\n",
            " -1.54216443e-01  4.46013630e+00  6.20587641e+00  3.96085986e+00\n",
            "  2.32299086e+00 -8.96565612e-01  1.93059557e+00  2.01058214e+00\n",
            "  4.62100554e+00  4.22593257e+00 -9.86922185e-01  2.44940622e+00\n",
            "  7.55806862e+00  8.72232470e+00  6.33726311e-01  6.46240648e+00\n",
            "  7.03160961e+00  9.14264386e+00  1.57763850e+00  4.62072994e+00\n",
            "  6.12141390e+00  2.26233723e+00  8.11922957e+00  3.79993886e+00\n",
            "  7.08798684e+00  5.75806083e+00  4.13224100e+00  7.44889236e-01\n",
            " -9.20413970e-01  1.14381145e+00  9.59333306e-01  2.74568147e+00\n",
            "  9.19014884e-01  4.78526880e+00  4.61860453e+00  4.57083820e+00\n",
            "  1.53119457e+00  3.84220272e+00  7.90152028e+00  7.01391019e+00\n",
            "  2.60850467e+00  4.46049118e+00  3.41738049e+00  1.15016029e+00\n",
            "  6.83279143e+00  7.22735876e+00  5.14815030e+00  2.12576724e+00\n",
            "  7.89095224e+00  4.14421389e+00  9.07346695e+00  7.87799909e+00\n",
            "  2.05538896e+00  2.70172967e+00  1.69433577e+00  2.69780648e+00\n",
            "  3.26437670e+00  4.43277024e+00  2.60122697e+00  2.64611069e+00\n",
            "  7.54441855e+00  2.83736300e+00  3.56966352e+00  3.05179518e+00\n",
            " -2.05242553e-01  4.38204750e+00  1.33077161e+00  7.80016328e+00\n",
            "  2.22672651e+00  1.72945784e+00  3.44969159e+00  8.56262848e-01\n",
            "  5.99661341e+00  4.25318379e+00 -7.63036152e-01 -3.10909994e-01\n",
            "  1.71668074e+00  2.93422035e+00  5.18396624e+00  1.94969620e+00\n",
            "  3.88022401e+00  7.15986619e+00  3.78955336e+00  2.17774547e+00\n",
            "  6.87620462e+00  5.15638211e-01  3.87437521e-02 -1.54155581e-02\n",
            "  2.65759902e-01  1.83575620e+00  2.79593733e+00  4.84020702e+00\n",
            "  2.95602827e+00  3.18789034e+00  7.29954545e+00 -4.80419807e-01\n",
            "  8.96324365e+00  4.39133857e+00  1.99230203e+00  6.52604787e+00\n",
            "  7.81433960e-01  8.42368494e+00  5.60180930e+00  2.27262773e+00\n",
            " -9.32076751e-01  4.42750924e+00  1.68346749e+00  3.48087198e+00\n",
            "  8.43267252e+00  8.96278617e-01  4.68780365e+00  3.65276173e+00\n",
            "  7.27114211e+00  9.61667745e-02  4.33325969e-01  7.51200254e+00\n",
            "  1.97959888e+00  6.36313709e+00  3.03153191e+00  4.63746165e+00\n",
            "  7.57998923e+00  2.37771930e-01  3.66057752e-01  3.98319775e+00\n",
            "  2.76754364e+00  4.62251498e+00  8.64202378e+00 -2.20648264e-01\n",
            "  4.35995267e+00  4.46471550e+00  7.85197677e-01  3.51692179e+00\n",
            "  1.13576681e+00  6.36828019e+00  6.93713804e+00  1.76086498e+00\n",
            "  1.14210712e+00  3.06418671e+00  3.08252607e+00  1.71906960e+00\n",
            "  7.77841715e+00 -1.27849653e-03  5.18516097e-01  2.23380230e+00\n",
            "  2.56983588e+00  2.63354266e+00  2.35630351e+00 -9.85489804e-02\n",
            "  3.00383423e+00  1.48492304e+00  1.03027339e-01  1.42466787e+00\n",
            "  7.96382174e-01  4.00148458e+00  1.17369450e+00  3.11506332e+00\n",
            "  3.27840901e+00  1.22462626e+00  9.38249151e+00  7.94118001e+00\n",
            "  5.10624372e+00  2.57958540e+00  5.94565407e-01  1.94733171e-02\n",
            "  3.79357794e+00  4.69388065e+00  8.62568483e-01  3.59405936e+00\n",
            "  1.20641490e+00  5.95413929e-01  6.78406962e+00  8.44442236e+00\n",
            "  2.19548893e+00  1.10916067e+00  5.20983199e+00  6.97530663e+00\n",
            "  8.67991432e+00  3.89373763e+00 -1.34765799e+00  9.63770225e+00\n",
            "  2.72904748e+00  8.69230184e-03 -3.81497447e-01  9.09267967e+00\n",
            " -4.79521356e-02  8.73170844e+00  2.17995048e+00  4.93881876e+00\n",
            "  7.81359011e+00  5.51493262e+00  7.81533091e+00  1.03756916e+01\n",
            "  9.63667401e+00 -8.80003295e-01  5.12173900e-01  1.82038561e+00\n",
            "  6.07266559e-01  8.05385709e+00  3.69261058e+00  5.08127768e+00\n",
            " -3.65404689e-01  7.53713685e+00  4.32126649e+00  5.27421219e-01\n",
            "  3.72251885e+00  2.31865798e+00  1.30242547e+00  3.07684094e+00\n",
            "  7.43731189e+00  7.80189114e-01  5.16148416e+00  3.41887449e+00\n",
            "  1.07348261e+00  4.11958012e+00  3.82581332e+00  8.66007824e+00\n",
            "  2.06372100e+00  1.91969053e+00  1.76494029e+00  5.92700022e-01\n",
            "  4.59186797e+00  2.56860669e+00  4.48512576e+00  2.88688121e+00\n",
            "  8.47579566e-01  3.09159411e+00  7.35461467e+00  1.86971185e+00\n",
            "  1.96523731e+00  6.08965782e+00  1.36786807e+00  2.72038726e+00\n",
            "  9.97118117e-01  1.45345062e+00  1.17685945e+00  1.42220275e+00\n",
            "  3.23576736e+00  3.25389800e+00  3.18899506e+00  8.32247534e+00\n",
            "  3.37869674e+00  2.67108870e+00  5.99075885e+00  1.07016808e+00\n",
            "  4.07032067e+00 -3.86888638e-01  7.57914312e+00  3.07606014e-01\n",
            "  2.51442308e+00  4.92414563e+00  3.46621039e+00  5.24704805e+00\n",
            "  9.25033415e+00  6.38086678e-01  2.92045344e+00  4.46801508e+00\n",
            "  2.32825022e+00  5.12403516e+00  4.12386249e+00  7.19761946e+00\n",
            "  6.67725683e+00  1.04611324e+00  7.34372991e+00 -4.55725198e-01\n",
            "  9.19242786e-01  1.62203216e+00  3.89644956e+00  4.39164708e+00\n",
            "  8.18721179e-02  3.87370920e-01  1.56411016e+00  6.21385228e+00\n",
            " -1.19074989e-01  2.56285353e+00  8.83221966e+00  4.49256592e+00\n",
            "  4.06957153e+00  1.81931153e+00  7.32441955e+00  9.88352330e-03\n",
            "  3.85040152e+00  7.47788098e+00  4.60915322e-01  1.71978938e+00\n",
            "  9.82419193e+00  4.39774056e+00  4.98828843e+00  5.24826681e+00\n",
            "  4.65926912e+00  4.34404101e+00  8.37462129e+00  2.92042337e+00\n",
            "  4.73211920e+00  1.09914361e+00  2.78374948e+00  2.92883603e+00\n",
            "  1.20911073e+00  7.98910448e+00  4.50641295e+00  2.62778352e+00\n",
            "  8.99699382e+00  4.05432875e+00  1.09041751e+00  7.68556842e+00\n",
            "  5.73732645e-02  5.52623240e+00  2.86599585e+00  5.56081798e+00\n",
            "  2.78010305e+00  5.20461381e+00  1.76832820e+00  8.71471423e-01\n",
            "  3.90200639e+00  5.39549584e-01  6.71624101e+00  3.64030904e+00\n",
            "  4.88601192e+00  2.25761220e+00  5.80120566e-01  6.19967650e+00\n",
            "  6.81289562e+00 -1.14965995e+00  7.37243826e+00  4.52429498e+00\n",
            "  4.03284458e+00  2.59315200e+00  4.41402190e+00  1.10299622e+00\n",
            "  1.04827181e-02  1.36991081e+00  3.03497313e+00  3.72493766e+00\n",
            "  4.60625923e+00  7.10510292e+00  7.16533412e+00  7.58704071e+00\n",
            "  2.09505394e+00  3.95546793e+00  1.84691013e+00  4.35573272e+00\n",
            "  7.92042815e+00  2.28680898e+00 -1.42293062e+00  9.03519619e+00\n",
            "  3.83327799e-01  8.44345253e+00  1.65470935e+00  4.14877723e+00\n",
            "  1.64532413e+00  8.78486554e+00  9.77217248e+00  8.37960477e+00\n",
            "  7.35817375e+00  5.60563356e+00  3.62657753e+00  2.39898206e+00\n",
            "  4.06586560e+00  7.79857648e+00  3.10738190e+00  1.14199426e+00\n",
            "  2.05561526e+00  5.90897884e-01  2.72504043e+00  4.91591864e-01\n",
            "  2.30999137e+00  3.61892360e+00 -2.56286704e-01  4.17704939e+00\n",
            " -4.43833066e-01  9.20287500e+00  3.58531023e-01  7.39698556e+00\n",
            "  6.00854864e+00  8.07366021e+00  9.29417477e+00  5.20834933e+00\n",
            "  4.44383982e+00  2.89561974e+00  7.61911604e+00  1.27689919e+00\n",
            "  8.26829764e+00  2.33271305e+00  3.14372274e+00  7.44466202e+00\n",
            "  9.25471506e+00  8.49272771e+00  7.75342586e+00  6.83497004e-01]\n"
          ],
          "name": "stdout"
        }
      ]
    },
    {
      "cell_type": "code",
      "metadata": {
        "id": "Pku_uLVjxza4",
        "colab_type": "code",
        "outputId": "1fa115be-894a-4a54-e4e9-942fd190f4ec",
        "colab": {
          "base_uri": "https://localhost:8080/",
          "height": 487
        }
      },
      "source": [
        "#Y\n",
        "print(labels)"
      ],
      "execution_count": 0,
      "outputs": [
        {
          "output_type": "stream",
          "text": [
            "[3 0 3 2 1 0 0 1 0 0 3 1 2 3 1 2 2 3 0 1 0 3 1 1 1 2 1 1 1 2 1 0 3 2 3 0 3\n",
            " 0 2 2 0 0 0 2 3 0 0 3 2 0 1 0 0 2 3 1 0 0 3 3 1 1 2 2 2 3 0 2 3 3 3 3 3 2\n",
            " 0 3 0 3 2 1 0 0 0 2 1 0 0 0 2 2 3 2 2 3 3 3 2 2 0 0 1 2 0 1 0 2 0 3 2 1 0\n",
            " 0 2 3 2 2 0 2 1 1 1 3 2 2 0 1 0 3 2 1 1 0 2 0 0 0 2 0 1 3 1 3 1 0 3 3 1 0\n",
            " 3 3 1 0 0 0 2 0 0 0 1 2 3 1 0 0 0 0 3 3 0 1 2 1 1 1 2 1 2 1 1 0 2 0 2 0 0\n",
            " 2 1 2 1 3 2 0 1 1 2 3 2 3 2 2 2 0 3 3 1 1 2 0 3 0 3 2 0 3 2 0 0 1 1 3 0 0\n",
            " 0 3 0 0 0 2 3 3 0 2 0 0 2 1 2 1 1 2 0 2 1 1 3 3 3 3 3 3 0 2 3 2 2 1 2 0 3\n",
            " 0 1 3 0 1 3 2 0 2 3 1 1 0 1 2 3 3 2 3 2 0 1 3 2 0 2 2 2 0 2 3 1 2 0 3 3 1\n",
            " 3 1 0 3 1 3 3 2 2 3 0 0 1 0 0 0 3 1 2 0 2 1 0 3 0 3 1 2 2 0 3 1 3 1 3 1 3\n",
            " 2 2 3 1 0 1 0 2 0 3 0 1 1 1 1 1 1 2 1 2 1 0 3 1 3 3 0 0 0 0 3 3 2 3 3 3 0\n",
            " 3 1 2 3 2 1 2 0 3 3 3 0 2 1 1 1 3 3 2 3 1 3 1 3 2 3 3 1 1 0 3 2 3 2 2 1 0\n",
            " 0 0 3 2 0 2 2 2 0 0 3 1 3 0 2 2 2 3 0 3 3 0 0 2 1 2 3 3 0 2 0 1 3 1 3 3 2\n",
            " 2 0 1 0 0 0 2 3 0 2 3 1 2 1 3 1 0 1 0 3 3 1 2 3 3 1 0 2 0 0 0 0 0 1 2 0 2\n",
            " 0 1 0 3 2 2 3 3 3 3 1 2 2 2 1 3 0 3 0 1 2 2 3 0 2 1 3 3 2 1 2 1 3 1 3 2 1\n",
            " 1 3 2 3 0 3 0 0 2 1 0 1 0 2 3 2 2 2 3 2 2 0 3 1 1 1 0 0 1 0 2 2 2 1 2 0 3\n",
            " 2 3 1 3 2 1 1 0 3 2 2 1 0 1 3 2 2 3 3 0 2 3 2 1 1 0 1 1 0 1 3 3 2 1 0 0 2\n",
            " 3 0 3 0 3 0 2 2 3 3 3 3 1 1 0 2 0 3 3 1 1 0 3 2 0 1 2 2 0 0 1 2 3 3 1 3 3\n",
            " 3 1 0 3 2 3 2 3 0 0 1 1 1 2 2 1 0 0 0 0 0 3 3 2 0 2 1 3 3 0 2 3 0 3 3 2 0\n",
            " 1 2 2 0 2 2 3 0 2 2 1 0 1 3 1 2 0 1 3 0 1 1 2 2 0 2 2 3 0 2 3 1 1 1 1 1 2\n",
            " 2 0 0 3 1 3 0 1 3 1 3 0 1 1 0 1 2 3 1 2 0 3 1 1 3 1 3 1 0 3 1 1 2 0 0 3 1\n",
            " 0 0 1 2 1 0 3 2 1 2 2 1 3 1 1 0 2 1 2 1 2 1 1 1 1 0 2 2 1 1 3 3 0 1 1 1 2\n",
            " 0 1 0 1 1 3 3 1 1 0 3 3 0 1 3 2 1 1 3 1 3 2 0 3 0 3 3 3 1 1 2 1 3 2 0 1 3\n",
            " 0 1 0 2 1 2 3 1 2 2 1 2 0 3 2 2 1 1 2 1 0 0 1 2 3 2 2 0 2 1 1 1 2 2 2 2 2\n",
            " 3 2 2 3 1 0 1 3 1 2 0 2 0 3 1 2 0 2 0 0 3 3 1 3 1 2 1 2 2 1 1 0 0 1 2 3 0\n",
            " 0 2 3 1 0 3 1 2 3 0 0 0 0 2 3 0 0 1 2 0 1 3 2 0 3 0 1 3 1 0 0 2 2 0 2 1 0\n",
            " 1 0 0 0 1 1 0 3 1 3 0 2 2 2 1 1 1 2 0 0 3 3 3 2 2 1 0 3 1 1 3 2 3 2 0 2 3\n",
            " 3 3 3 0 2 2 0 3 2 2 2 1 2 1 1 2 1 2 1 3 1 3 3 3 3 2 2 1 3 1 3 1 2 3 3 3 3\n",
            " 1]\n"
          ],
          "name": "stdout"
        }
      ]
    },
    {
      "cell_type": "code",
      "metadata": {
        "id": "gt9RLSVkyBnx",
        "colab_type": "code",
        "outputId": "d95dc04e-f876-40d7-a89f-537493d1ae3e",
        "colab": {
          "base_uri": "https://localhost:8080/",
          "height": 265
        }
      },
      "source": [
        "plt.scatter(data[:,0],data[:,1], c= labels, cmap=my_cmap)\n",
        "plt.show()\n",
        "# 3d plot"
      ],
      "execution_count": 0,
      "outputs": [
        {
          "output_type": "display_data",
          "data": {
            "image/png": "[encoded data removed]",
            "text/plain": [
              "<Figure size 432x288 with 1 Axes>"
            ]
          },
          "metadata": {
            "tags": []
          }
        }
      ]
    },
    {
      "cell_type": "code",
      "metadata": {
        "id": "y4lgeBLFxgrV",
        "colab_type": "code",
        "colab": {}
      },
      "source": [
        "labels_orig = labels\n",
        "labels = np.mod(labels_orig,2)"
      ],
      "execution_count": 0,
      "outputs": []
    },
    {
      "cell_type": "code",
      "metadata": {
        "id": "utSrS2zrz--P",
        "colab_type": "code",
        "outputId": "fbd1a55c-7a7c-44b7-8adb-13e6d52a8d83",
        "colab": {
          "base_uri": "https://localhost:8080/",
          "height": 265
        }
      },
      "source": [
        "plt.scatter(data[:,0],data[:,1], c= labels, cmap=my_cmap)\n",
        "plt.show()\n",
        "# 3d plot"
      ],
      "execution_count": 0,
      "outputs": [
        {
          "output_type": "display_data",
          "data": {
            "image/png": "[encoded data removed]",
            "text/plain": [
              "<Figure size 432x288 with 1 Axes>"
            ]
          },
          "metadata": {
            "tags": []
          }
        }
      ]
    },
    {
      "cell_type": "code",
      "metadata": {
        "id": "yt23lQBy1ngd",
        "colab_type": "code",
        "colab": {}
      },
      "source": [
        "#The above graph clearly shows that it is not linearly separable"
      ],
      "execution_count": 0,
      "outputs": []
    },
    {
      "cell_type": "code",
      "metadata": {
        "id": "N1Ek_rwH0BKG",
        "colab_type": "code",
        "outputId": "8066e88d-b497-4cad-c2b3-49ed28160acb",
        "colab": {
          "base_uri": "https://localhost:8080/",
          "height": 84
        }
      },
      "source": [
        "X_train, X_val, Y_train, Y_val = train_test_split(data,labels,stratify=labels,random_state =0)\n",
        "print(\"Train data : \\n\", X_train.shape, Y_train.shape)\n",
        "print(\"\\nStratify ensures that distribution of red and green class is same in train and test data. \")"
      ],
      "execution_count": 0,
      "outputs": [
        {
          "output_type": "stream",
          "text": [
            "Train data : \n",
            " (750, 2) (750,)\n",
            "\n",
            "Stratify ensures that distribution of red and green class is same in train and test data. \n"
          ],
          "name": "stdout"
        }
      ]
    },
    {
      "cell_type": "code",
      "metadata": {
        "id": "HEx8hkvc0u3d",
        "colab_type": "code",
        "outputId": "54391272-bebf-4350-8fc1-5a5a7b2da043",
        "colab": {
          "base_uri": "https://localhost:8080/",
          "height": 50
        }
      },
      "source": [
        "print(\"Validation data : \\n\", X_val.shape, Y_val.shape)"
      ],
      "execution_count": 0,
      "outputs": [
        {
          "output_type": "stream",
          "text": [
            "Validation data : \n",
            " (250, 2) (250,)\n"
          ],
          "name": "stdout"
        }
      ]
    },
    {
      "cell_type": "code",
      "metadata": {
        "id": "mqX9iKnR3Ahp",
        "colab_type": "code",
        "colab": {}
      },
      "source": [
        "sn = SigmoidNeuron()"
      ],
      "execution_count": 0,
      "outputs": []
    },
    {
      "cell_type": "code",
      "metadata": {
        "id": "UYgP0SOI1ysW",
        "colab_type": "code",
        "outputId": "5351701b-3a5c-479b-f1b7-571c5b9a8a70",
        "colab": {
          "base_uri": "https://localhost:8080/",
          "height": 332,
          "referenced_widgets": [
            "a8a8b89901f844a8b4733a8fa4f2d3e0",
            "c2dd130e463c4049abcb69db5cd8efa0",
            "dc8bcda189e44c6780bc540b613c5e5f",
            "9e073c5949db43ad9c08a31451505ddc",
            "ce92b80eb1bd476abb290f065de3847e",
            "65ffeb44b76b4bf2bd556f353fb51298",
            "48d635437ef54a7ab6deb66e96157333",
            "f511faf2b43e481ca2ccae7aa2475e18"
          ]
        }
      },
      "source": [
        "sn.fit(X_train,Y_train,epochs=1000,learning_rate=1,display_loss=True)"
      ],
      "execution_count": 0,
      "outputs": [
        {
          "output_type": "display_data",
          "data": {
            "application/vnd.jupyter.widget-view+json": {
              "model_id": "a8a8b89901f844a8b4733a8fa4f2d3e0",
              "version_minor": 0,
              "version_major": 2
            },
            "text/plain": [
              "HBox(children=(IntProgress(value=0, max=1000), HTML(value='')))"
            ]
          },
          "metadata": {
            "tags": []
          }
        },
        {
          "output_type": "stream",
          "text": [
            "\n"
          ],
          "name": "stdout"
        },
        {
          "output_type": "display_data",
          "data": {
            "image/png": "[encoded data removed]",
            "text/plain": [
              "<Figure size 432x288 with 1 Axes>"
            ]
          },
          "metadata": {
            "tags": []
          }
        }
      ]
    },
    {
      "cell_type": "code",
      "metadata": {
        "id": "OutSwhzR3f3B",
        "colab_type": "code",
        "outputId": "9c0f2272-6451-41c2-cfe4-30b5f12979ee",
        "colab": {
          "base_uri": "https://localhost:8080/",
          "height": 332,
          "referenced_widgets": [
            "76c9293434954104b71134d88f85a8b5",
            "fd0b9d055a0445d1bde3db8470ecc79e",
            "16024bcfa0a34568bd1b59c598086014",
            "1ccb2fad1e64445886bff5fca546925f",
            "23363478d5d94d0c9fa61f6fe10a4e90",
            "428dec54c86c4698ab590d8528c7902a",
            "8ac4abb4904b4c3d9dafcff7b32af65c",
            "a489171ee8af4d71b2a2dae12dbf531b"
          ]
        }
      },
      "source": [
        "sn.fit(X_train,Y_train,epochs=1000,learning_rate=0.5,display_loss=True)"
      ],
      "execution_count": 0,
      "outputs": [
        {
          "output_type": "display_data",
          "data": {
            "application/vnd.jupyter.widget-view+json": {
              "model_id": "76c9293434954104b71134d88f85a8b5",
              "version_minor": 0,
              "version_major": 2
            },
            "text/plain": [
              "HBox(children=(IntProgress(value=0, max=1000), HTML(value='')))"
            ]
          },
          "metadata": {
            "tags": []
          }
        },
        {
          "output_type": "stream",
          "text": [
            "\n"
          ],
          "name": "stdout"
        },
        {
          "output_type": "display_data",
          "data": {
            "image/png": "[encoded data removed]",
            "text/plain": [
              "<Figure size 432x288 with 1 Axes>"
            ]
          },
          "metadata": {
            "tags": []
          }
        }
      ]
    },
    {
      "cell_type": "code",
      "metadata": {
        "id": "Xo76eZz4KhmV",
        "colab_type": "code",
        "colab": {}
      },
      "source": [
        "Y_pred_train = sn.predict(X_train)\n",
        "Y_pred_binarised_train = (Y_pred_train >= 0.5).astype(np.int).ravel()\n"
      ],
      "execution_count": 0,
      "outputs": []
    },
    {
      "cell_type": "code",
      "metadata": {
        "id": "VvL8n47wMy4s",
        "colab_type": "code",
        "colab": {}
      },
      "source": [
        "Y_pred_val = sn.predict(X_val)\n",
        "Y_pred_binarised_val = (Y_pred_val >= 0.5).astype(\"int\").ravel()"
      ],
      "execution_count": 0,
      "outputs": []
    },
    {
      "cell_type": "code",
      "metadata": {
        "id": "Aao5b53FLYzW",
        "colab_type": "code",
        "outputId": "2ff014bc-6e7f-47dc-b7c8-078bb5a24c4a",
        "colab": {
          "base_uri": "https://localhost:8080/",
          "height": 34
        }
      },
      "source": [
        "print(round(accuracy_score(Y_pred_binarised_train,Y_train),2))"
      ],
      "execution_count": 0,
      "outputs": [
        {
          "output_type": "stream",
          "text": [
            "0.73\n"
          ],
          "name": "stdout"
        }
      ]
    },
    {
      "cell_type": "code",
      "metadata": {
        "id": "3P-W7fKLMPxi",
        "colab_type": "code",
        "outputId": "407fcff8-756e-4e5d-c846-cee2ad032a70",
        "colab": {
          "base_uri": "https://localhost:8080/",
          "height": 34
        }
      },
      "source": [
        "print(round(accuracy_score(Y_pred_binarised_val,Y_val),2))"
      ],
      "execution_count": 0,
      "outputs": [
        {
          "output_type": "stream",
          "text": [
            "0.72\n"
          ],
          "name": "stdout"
        }
      ]
    },
    {
      "cell_type": "code",
      "metadata": {
        "id": "QeQ-87KcNXnE",
        "colab_type": "code",
        "outputId": "8b25e569-ce98-45e6-ee49-9955bb906bad",
        "colab": {
          "base_uri": "https://localhost:8080/",
          "height": 265
        }
      },
      "source": [
        "plt.scatter(X_train[:,0],X_train[:,1], c=Y_pred_binarised_train , cmap=my_cmap, s= 15*(np.abs(Y_pred_binarised_train - Y_train)+.2))\n",
        "plt.show()\n",
        "#size is either 3 or 18\n",
        "# 4 d plot\n",
        "# size is correct predictions"
      ],
      "execution_count": 0,
      "outputs": [
        {
          "output_type": "display_data",
          "data": {
            "image/png": "[encoded data removed]",
            "text/plain": [
              "<Figure size 432x288 with 1 Axes>"
            ]
          },
          "metadata": {
            "tags": []
          }
        }
      ]
    },
    {
      "cell_type": "markdown",
      "metadata": {
        "id": "aIJCHR9TZw5U",
        "colab_type": "text"
      },
      "source": [
        "#First Feed Forward Network"
      ]
    },
    {
      "cell_type": "code",
      "metadata": {
        "id": "QcGycTnJ12uy",
        "colab_type": "code",
        "colab": {}
      },
      "source": [
        "class FirstFFNetwork:\n",
        "  \n",
        "  def __init__(self):\n",
        "    self.w1 = np.random.randn()\n",
        "    self.w2 = np.random.randn()\n",
        "    self.w3 = np.random.randn()\n",
        "    self.w4 = np.random.randn()\n",
        "    self.w5 = np.random.randn()\n",
        "    self.w6 = np.random.randn()\n",
        "    self.b1 = 0\n",
        "    self.b2 = 0\n",
        "    self.b3 = 0\n",
        "  \n",
        "  def sigmoid(self, x):\n",
        "    return 1.0/(1.0 + np.exp(-x))\n",
        "  \n",
        "  def forward_pass(self, x):\n",
        "    self.x1, self.x2 = x\n",
        "    self.a1 = self.w1*self.x1 + self.w2*self.x2 + self.b1\n",
        "    self.h1 = self.sigmoid(self.a1)\n",
        "    self.a2 = self.w3*self.x1 + self.w4*self.x2 + self.b2\n",
        "    self.h2 = self.sigmoid(self.a2)\n",
        "    self.a3 = self.w5*self.h1 + self.w6*self.h2 + self.b3\n",
        "    self.h3 = self.sigmoid(self.a3)\n",
        "    return self.h3\n",
        "  \n",
        "  def grad(self, x, y):\n",
        "    self.forward_pass(x)\n",
        "    \n",
        "    self.dw5 = (self.h3-y) * self.h3*(1-self.h3) * self.h1\n",
        "    self.dw6 = (self.h3-y) * self.h3*(1-self.h3) * self.h2\n",
        "    self.db3 = (self.h3-y) * self.h3*(1-self.h3)\n",
        "    \n",
        "    self.dw1 = (self.h3-y) * self.h3*(1-self.h3) * self.w5 * self.h1*(1-self.h1) * self.x1\n",
        "    self.dw2 = (self.h3-y) * self.h3*(1-self.h3) * self.w5 * self.h1*(1-self.h1) * self.x2\n",
        "    self.db1 = (self.h3-y) * self.h3*(1-self.h3) * self.w5 * self.h1*(1-self.h1)\n",
        "  \n",
        "    self.dw3 = (self.h3-y) * self.h3*(1-self.h3) * self.w6 * self.h2*(1-self.h2) * self.x1\n",
        "    self.dw4 = (self.h3-y) * self.h3*(1-self.h3) * self.w6 * self.h2*(1-self.h2) * self.x2\n",
        "    self.db2 = (self.h3-y) * self.h3*(1-self.h3) * self.w6 * self.h2*(1-self.h2)\n",
        "    \n",
        "  \n",
        "  def fit(self, X, Y, epochs=1, learning_rate=1, initialise=True, display_loss=False):\n",
        "    \n",
        "    # initialise w, b\n",
        "    if initialise:\n",
        "      self.w1 = np.random.randn()\n",
        "      self.w2 = np.random.randn()\n",
        "      self.w3 = np.random.randn()\n",
        "      self.w4 = np.random.randn()\n",
        "      self.w5 = np.random.randn()\n",
        "      self.w6 = np.random.randn()\n",
        "      self.b1 = 0\n",
        "      self.b2 = 0\n",
        "      self.b3 = 0\n",
        "      \n",
        "    if display_loss:\n",
        "      loss = {}\n",
        "    \n",
        "    for i in tqdm_notebook(range(epochs), total=epochs, unit=\"epoch\"):\n",
        "      dw1, dw2, dw3, dw4, dw5, dw6, db1, db2, db3 = [0]*9\n",
        "      for x, y in zip(X, Y):\n",
        "        self.grad(x, y)\n",
        "        dw1 += self.dw1\n",
        "        dw2 += self.dw2\n",
        "        dw3 += self.dw3\n",
        "        dw4 += self.dw4\n",
        "        dw5 += self.dw5\n",
        "        dw6 += self.dw6\n",
        "        db1 += self.db1\n",
        "        db2 += self.db2\n",
        "        db3 += self.db3\n",
        "        \n",
        "      m = X.shape[1]\n",
        "      self.w1 -= learning_rate * dw1 / m\n",
        "      self.w2 -= learning_rate * dw2 / m\n",
        "      self.w3 -= learning_rate * dw3 / m\n",
        "      self.w4 -= learning_rate * dw4 / m\n",
        "      self.w5 -= learning_rate * dw5 / m\n",
        "      self.w6 -= learning_rate * dw6 / m\n",
        "      self.b1 -= learning_rate * db1 / m\n",
        "      self.b2 -= learning_rate * db2 / m\n",
        "      self.b3 -= learning_rate * db3 / m\n",
        "      \n",
        "      if display_loss:\n",
        "        Y_pred = self.predict(X)\n",
        "        loss[i] = mean_squared_error(Y_pred, Y)\n",
        "    \n",
        "    if display_loss:\n",
        "      plt.plot(list(loss.values()))\n",
        "      plt.xlabel('Epochs')\n",
        "      plt.ylabel('Mean Squared Error')\n",
        "      plt.show()\n",
        "      \n",
        "  def predict(self, X):\n",
        "    Y_pred = []\n",
        "    for x in X:\n",
        "      y_pred = self.forward_pass(x)\n",
        "      Y_pred.append(y_pred)\n",
        "    return np.array(Y_pred)"
      ],
      "execution_count": 0,
      "outputs": []
    },
    {
      "cell_type": "code",
      "metadata": {
        "id": "I8-0pJ8-dL1_",
        "colab_type": "code",
        "outputId": "fd60da94-0b62-4522-9bcb-5066857c4c6a",
        "colab": {
          "base_uri": "https://localhost:8080/",
          "height": 610,
          "referenced_widgets": [
            "5cc57705dc3f4463b3c5ea19ae06190c",
            "f43a1bb53ed8417ab72b2d217d8cb71b",
            "6eb421e3250946759d7cc52d64ce7375",
            "254b7c2d72644bb589de12f19d21f9cc",
            "21ad8cc0b221414a835091b267c8f994",
            "be3592edd6ee4fa69b3979dbbd386bd4",
            "c3b5fa87a5c54cc28dbb6a1a99cbb66f",
            "c88f858041614fad9af2224026aeae8a"
          ]
        }
      },
      "source": [
        "ffn = FirstFFNetwork()\n",
        "ffn.fit(X_train,Y_train,epochs=1000,learning_rate=0.1,display_loss=True)\n",
        "Y_pred_train = ffn.predict(X_train)\n",
        "Y_pred_binarised_train = (Y_pred_train >= 0.5).astype(np.int).ravel()\n",
        "Y_pred_val = ffn.predict(X_val)\n",
        "Y_pred_binarised_val = (Y_pred_val >= 0.5).astype(\"int\").ravel()\n",
        "print(round(accuracy_score(Y_pred_binarised_train,Y_train),2))\n",
        "print(round(accuracy_score(Y_pred_binarised_val,Y_val),2))\n",
        "plt.scatter(X_train[:,0],X_train[:,1], c=Y_pred_binarised_train , cmap=my_cmap, s= 15*(np.abs(Y_pred_binarised_train - Y_train)+.2))\n",
        "plt.show()\n",
        "#size is either 3 or 18\n",
        "# 4 d plot\n",
        "# size 3 is correct predictions"
      ],
      "execution_count": 0,
      "outputs": [
        {
          "output_type": "display_data",
          "data": {
            "application/vnd.jupyter.widget-view+json": {
              "model_id": "5cc57705dc3f4463b3c5ea19ae06190c",
              "version_minor": 0,
              "version_major": 2
            },
            "text/plain": [
              "HBox(children=(IntProgress(value=0, max=1000), HTML(value='')))"
            ]
          },
          "metadata": {
            "tags": []
          }
        },
        {
          "output_type": "stream",
          "text": [
            "\n"
          ],
          "name": "stdout"
        },
        {
          "output_type": "display_data",
          "data": {
            "image/png": "[encoded data removed]",
            "text/plain": [
              "<Figure size 432x288 with 1 Axes>"
            ]
          },
          "metadata": {
            "tags": []
          }
        },
        {
          "output_type": "stream",
          "text": [
            "0.73\n",
            "0.72\n"
          ],
          "name": "stdout"
        },
        {
          "output_type": "display_data",
          "data": {
            "image/png": "[encoded data removed]",
            "text/plain": [
              "<Figure size 432x288 with 1 Axes>"
            ]
          },
          "metadata": {
            "tags": []
          }
        }
      ]
    },
    {
      "cell_type": "code",
      "metadata": {
        "id": "3LN_MFzTedfW",
        "colab_type": "code",
        "outputId": "4fa56b3e-5607-44bf-a5db-962e44dfd2e4",
        "colab": {
          "base_uri": "https://localhost:8080/",
          "height": 610,
          "referenced_widgets": [
            "bad9a1595b464526a4c884f4dadf4c24",
            "2607b2daf6754b91a279a47032bcf13c",
            "da9365ac427945e08278ebebefbf9710",
            "3725b52d760a499d91b49120ad09a067",
            "b21b2cdc7b6c4b1487bf64544b3ed808",
            "0b65c4450f3d47b2b966ece32743405f",
            "21266f1ce77f48a3b51ad87f273b34cb",
            "ff69a995bfb74c6e8c998900183cc2bc"
          ]
        }
      },
      "source": [
        "ffn = FirstFFNetwork()\n",
        "ffn.fit(X_train,Y_train,epochs=1000,learning_rate=0.01,display_loss=True)\n",
        "Y_pred_train = ffn.predict(X_train)\n",
        "Y_pred_binarised_train = (Y_pred_train >= 0.5).astype(np.int).ravel()\n",
        "Y_pred_val = ffn.predict(X_val)\n",
        "Y_pred_binarised_val = (Y_pred_val >= 0.5).astype(\"int\").ravel()\n",
        "print(round(accuracy_score(Y_pred_binarised_train,Y_train),2))\n",
        "print(round(accuracy_score(Y_pred_binarised_val,Y_val),2))\n",
        "plt.scatter(X_train[:,0],X_train[:,1], c=Y_pred_binarised_train , cmap=my_cmap, s= 15*(np.abs(Y_pred_binarised_train - Y_train)+.2))\n",
        "plt.show()\n",
        "#size is either 3 or 18\n",
        "# 4 d plot\n",
        "# size 3 is correct predictions"
      ],
      "execution_count": 0,
      "outputs": [
        {
          "output_type": "display_data",
          "data": {
            "application/vnd.jupyter.widget-view+json": {
              "model_id": "bad9a1595b464526a4c884f4dadf4c24",
              "version_minor": 0,
              "version_major": 2
            },
            "text/plain": [
              "HBox(children=(IntProgress(value=0, max=1000), HTML(value='')))"
            ]
          },
          "metadata": {
            "tags": []
          }
        },
        {
          "output_type": "stream",
          "text": [
            "\n"
          ],
          "name": "stdout"
        },
        {
          "output_type": "display_data",
          "data": {
            "image/png": "[encoded data removed]",
            "text/plain": [
              "<Figure size 432x288 with 1 Axes>"
            ]
          },
          "metadata": {
            "tags": []
          }
        },
        {
          "output_type": "stream",
          "text": [
            "0.67\n",
            "0.66\n"
          ],
          "name": "stdout"
        },
        {
          "output_type": "display_data",
          "data": {
            "image/png": "[encoded data removed]",
            "text/plain": [
              "<Figure size 432x288 with 1 Axes>"
            ]
          },
          "metadata": {
            "tags": []
          }
        }
      ]
    },
    {
      "cell_type": "code",
      "metadata": {
        "colab_type": "code",
        "outputId": "f4edfb6f-4b57-4b60-d13a-dc643be93b3a",
        "id": "N4HPAfLggPGN",
        "colab": {
          "base_uri": "https://localhost:8080/",
          "height": 610,
          "referenced_widgets": [
            "2851e3018a644286bd1bb6bcfec37521",
            "39c55c5a37e644cbae63cb671176e374",
            "c195729974ca41139d1f3dd9411c9c13",
            "eb49a01790414e3fa74d3ae440624ded",
            "fefa7f4272174162b0cc180fa2eb4ea0",
            "99066af42ada40399ffde83e9a16af9e",
            "0f989bdf4f7c48a4935ce9d076c52fc3",
            "4b55907acbdd488a87a55b7d9c3d4cf0"
          ]
        }
      },
      "source": [
        "ffn = FirstFFNetwork()\n",
        "ffn.fit(X_train,Y_train,epochs=5000,learning_rate=0.001,display_loss=True)\n",
        "Y_pred_train = ffn.predict(X_train)\n",
        "Y_pred_binarised_train = (Y_pred_train >= 0.5).astype(np.int).ravel()\n",
        "Y_pred_val = ffn.predict(X_val)\n",
        "Y_pred_binarised_val = (Y_pred_val >= 0.5).astype(\"int\").ravel()\n",
        "print(round(accuracy_score(Y_pred_binarised_train,Y_train),2))\n",
        "print(round(accuracy_score(Y_pred_binarised_val,Y_val),2))\n",
        "plt.scatter(X_train[:,0],X_train[:,1], c=Y_pred_binarised_train , cmap=my_cmap, s= 15*(np.abs(Y_pred_binarised_train - Y_train)+.2))\n",
        "plt.show()\n",
        "#size is either 3 or 18\n",
        "# 4 d plot\n",
        "# size 3 is correct predictions"
      ],
      "execution_count": 0,
      "outputs": [
        {
          "output_type": "display_data",
          "data": {
            "application/vnd.jupyter.widget-view+json": {
              "model_id": "2851e3018a644286bd1bb6bcfec37521",
              "version_minor": 0,
              "version_major": 2
            },
            "text/plain": [
              "HBox(children=(IntProgress(value=0, max=5000), HTML(value='')))"
            ]
          },
          "metadata": {
            "tags": []
          }
        },
        {
          "output_type": "stream",
          "text": [
            "\n"
          ],
          "name": "stdout"
        },
        {
          "output_type": "display_data",
          "data": {
            "image/png": "[encoded data removed]",
            "text/plain": [
              "<Figure size 432x288 with 1 Axes>"
            ]
          },
          "metadata": {
            "tags": []
          }
        },
        {
          "output_type": "stream",
          "text": [
            "0.67\n",
            "0.66\n"
          ],
          "name": "stdout"
        },
        {
          "output_type": "display_data",
          "data": {
            "image/png": "[encoded data removed]",
            "text/plain": [
              "<Figure size 432x288 with 1 Axes>"
            ]
          },
          "metadata": {
            "tags": []
          }
        }
      ]
    },
    {
      "cell_type": "markdown",
      "metadata": {
        "id": "thcTEDVIhjQ0",
        "colab_type": "text"
      },
      "source": [
        "#  Our feed forward network performed better than our sigmoid neuron because the FFN has more capacity to learn than the sigmoid neuron, thanks to increase in number of the learnable parameters\n",
        "\n"
      ]
    },
    {
      "cell_type": "markdown",
      "metadata": {
        "id": "lymfuK7Giw3n",
        "colab_type": "text"
      },
      "source": [
        "#Feed Forward Network - Generic Class"
      ]
    },
    {
      "cell_type": "code",
      "metadata": {
        "id": "tphU2aMmgNVy",
        "colab_type": "code",
        "colab": {}
      },
      "source": [
        "class FFSNNetwork:\n",
        "  \n",
        "  def __init__(self, n_inputs, hidden_sizes=[2]):\n",
        "    self.nx = n_inputs\n",
        "    self.ny = 1\n",
        "    self.nh = len(hidden_sizes)\n",
        "    self.sizes = [self.nx] + hidden_sizes + [self.ny]\n",
        "    \n",
        "    self.W = {}\n",
        "    self.B = {}\n",
        "    for i in range(self.nh+1):\n",
        "      self.W[i+1] = np.random.randn(self.sizes[i], self.sizes[i+1])\n",
        "      self.B[i+1] = np.zeros((1, self.sizes[i+1]))\n",
        "  \n",
        "  def sigmoid(self, x):\n",
        "    return 1.0/(1.0 + np.exp(-x))\n",
        "  \n",
        "  def forward_pass(self, x):\n",
        "    self.A = {}\n",
        "    self.H = {}\n",
        "    self.H[0] = x.reshape(1, -1)\n",
        "    for i in range(self.nh+1):\n",
        "      self.A[i+1] = np.matmul(self.H[i], self.W[i+1]) + self.B[i+1]\n",
        "      self.H[i+1] = self.sigmoid(self.A[i+1])\n",
        "    return self.H[self.nh+1]\n",
        "  \n",
        "  def grad_sigmoid(self, x):\n",
        "    return x*(1-x) \n",
        "    \n",
        "  def grad(self, x, y):\n",
        "    self.forward_pass(x)\n",
        "    self.dW = {}\n",
        "    self.dB = {}\n",
        "    self.dH = {}\n",
        "    self.dA = {}\n",
        "    L = self.nh + 1\n",
        "    self.dA[L] = (self.H[L] - y)\n",
        "    for k in range(L, 0, -1):\n",
        "      self.dW[k] = np.matmul(self.H[k-1].T, self.dA[k])\n",
        "      self.dB[k] = self.dA[k]\n",
        "      self.dH[k-1] = np.matmul(self.dA[k], self.W[k].T)\n",
        "      self.dA[k-1] = np.multiply(self.dH[k-1], self.grad_sigmoid(self.H[k-1]))\n",
        "    \n",
        "  def fit(self, X, Y, epochs=1, learning_rate=1, initialise=True, display_loss=False):\n",
        "    \n",
        "    # initialise w, b\n",
        "    if initialise:\n",
        "      for i in range(self.nh+1):\n",
        "        self.W[i+1] = np.random.randn(self.sizes[i], self.sizes[i+1])\n",
        "        self.B[i+1] = np.zeros((1, self.sizes[i+1]))\n",
        "      \n",
        "    if display_loss:\n",
        "      loss = {}\n",
        "    \n",
        "    for e in tqdm_notebook(range(epochs), total=epochs, unit=\"epoch\"):\n",
        "      dW = {}\n",
        "      dB = {}\n",
        "      for i in range(self.nh+1):\n",
        "        dW[i+1] = np.zeros((self.sizes[i], self.sizes[i+1]))\n",
        "        dB[i+1] = np.zeros((1, self.sizes[i+1]))\n",
        "      for x, y in zip(X, Y):\n",
        "        self.grad(x, y)\n",
        "        for i in range(self.nh+1):\n",
        "          dW[i+1] += self.dW[i+1]\n",
        "          dB[i+1] += self.dB[i+1]\n",
        "        \n",
        "      m = X.shape[1]\n",
        "      for i in range(self.nh+1):\n",
        "        self.W[i+1] -= learning_rate * dW[i+1] / m\n",
        "        self.B[i+1] -= learning_rate * dB[i+1] / m\n",
        "      \n",
        "      if display_loss:\n",
        "        Y_pred = self.predict(X)\n",
        "        loss[e] = mean_squared_error(Y_pred, Y)\n",
        "    \n",
        "    if display_loss:\n",
        "      plt.plot(list(loss.values()))\n",
        "      plt.xlabel('Epochs')\n",
        "      plt.ylabel('Mean Squared Error')\n",
        "      plt.show()\n",
        "      \n",
        "  def predict(self, X):\n",
        "    Y_pred = []\n",
        "    for x in X:\n",
        "      y_pred = self.forward_pass(x)\n",
        "      Y_pred.append(y_pred)\n",
        "    return np.array(Y_pred).squeeze()"
      ],
      "execution_count": 0,
      "outputs": []
    },
    {
      "cell_type": "code",
      "metadata": {
        "colab_type": "code",
        "id": "sE0vGDb6t2iZ",
        "outputId": "e8c05df5-96cf-484c-f7e3-06124258051a",
        "colab": {
          "base_uri": "https://localhost:8080/",
          "height": 328,
          "referenced_widgets": [
            "12ed7436140f42cfa5f55744b6abdb25",
            "8d7ea495b8a7452aac48e3004a067df9",
            "b50a4c9f63f142e9a584944abb39b9a4",
            "a58d7b04273048ffa246eeab74d90623",
            "75408a3cd67f43d2890a76c6f301adc8",
            "c45dd2112e67413a835bb1fdcf5deb47",
            "82109adc6cb84bb7be549191fef9b0e9",
            "12f02faad2d64cb7988904c572e68d9e"
          ]
        }
      },
      "source": [
        "ffsnn = FFSNNetwork(2, [2, 3])\n",
        "ffsnn.fit(X_train, Y_train, epochs=1000, learning_rate=.001, display_loss=True)\n"
      ],
      "execution_count": 0,
      "outputs": [
        {
          "output_type": "display_data",
          "data": {
            "application/vnd.jupyter.widget-view+json": {
              "model_id": "12ed7436140f42cfa5f55744b6abdb25",
              "version_minor": 0,
              "version_major": 2
            },
            "text/plain": [
              "HBox(children=(IntProgress(value=0, max=1000), HTML(value='')))"
            ]
          },
          "metadata": {
            "tags": []
          }
        },
        {
          "output_type": "stream",
          "text": [
            "\n"
          ],
          "name": "stdout"
        },
        {
          "output_type": "display_data",
          "data": {
            "image/png": "[encoded data removed]",
            "text/plain": [
              "<Figure size 432x288 with 1 Axes>"
            ]
          },
          "metadata": {
            "tags": []
          }
        }
      ]
    },
    {
      "cell_type": "code",
      "metadata": {
        "colab_type": "code",
        "id": "Tnq4ePo6uHtv",
        "outputId": "0d4d849c-4412-49a0-dffe-c08c99376bb6",
        "colab": {
          "base_uri": "https://localhost:8080/",
          "height": 50
        }
      },
      "source": [
        "Y_pred_train = ffsnn.predict(X_train)\n",
        "Y_pred_binarised_train = (Y_pred_train >= 0.5).astype(\"int\").ravel()\n",
        "Y_pred_val = ffsnn.predict(X_val)\n",
        "Y_pred_binarised_val = (Y_pred_val >= 0.5).astype(\"int\").ravel()\n",
        "accuracy_train = accuracy_score(Y_pred_binarised_train, Y_train)\n",
        "accuracy_val = accuracy_score(Y_pred_binarised_val, Y_val)\n",
        "\n",
        "print(\"Training accuracy\", round(accuracy_train, 2))\n",
        "print(\"Validation accuracy\", round(accuracy_val, 2))"
      ],
      "execution_count": 0,
      "outputs": [
        {
          "output_type": "stream",
          "text": [
            "Training accuracy 0.73\n",
            "Validation accuracy 0.72\n"
          ],
          "name": "stdout"
        }
      ]
    },
    {
      "cell_type": "code",
      "metadata": {
        "id": "OcSe6cHL7oEy",
        "colab_type": "code",
        "outputId": "8d0625ee-a450-468f-eb87-72dbc1335cc8",
        "colab": {
          "base_uri": "https://localhost:8080/",
          "height": 362,
          "referenced_widgets": [
            "94fd32f961164608ae70bb96d4808bc4",
            "a3a04ad4322a4f72ab1430243d5bf4a3",
            "7866677cf2244b7e89ca6e369bc70830",
            "51027eb3f6194950945fd523ee809cab",
            "234e763a7d994ddfa8878fd63bc75366",
            "06de0c8a59eb48d18ebf8b735f3a7a29",
            "9902fab949534607bc8ebf34e3886531",
            "dc262f78bf5f40ebbf5096e95bad4c31"
          ]
        }
      },
      "source": [
        "ffsnn.fit(X_train, Y_train, epochs=5000, learning_rate=.001, display_loss=True)\n",
        "Y_pred_train = ffsnn.predict(X_train)\n",
        "Y_pred_binarised_train = (Y_pred_train >= 0.5).astype(\"int\").ravel()\n",
        "Y_pred_val = ffsnn.predict(X_val)\n",
        "Y_pred_binarised_val = (Y_pred_val >= 0.5).astype(\"int\").ravel()\n",
        "accuracy_train = accuracy_score(Y_pred_binarised_train, Y_train)\n",
        "accuracy_val = accuracy_score(Y_pred_binarised_val, Y_val)\n",
        "\n",
        "print(\"Training accuracy\", round(accuracy_train, 2))\n",
        "print(\"Validation accuracy\", round(accuracy_val, 2))"
      ],
      "execution_count": 0,
      "outputs": [
        {
          "output_type": "display_data",
          "data": {
            "application/vnd.jupyter.widget-view+json": {
              "model_id": "94fd32f961164608ae70bb96d4808bc4",
              "version_minor": 0,
              "version_major": 2
            },
            "text/plain": [
              "HBox(children=(IntProgress(value=0, max=5000), HTML(value='')))"
            ]
          },
          "metadata": {
            "tags": []
          }
        },
        {
          "output_type": "stream",
          "text": [
            "\n"
          ],
          "name": "stdout"
        },
        {
          "output_type": "display_data",
          "data": {
            "image/png": "[encoded data removed]",
            "text/plain": [
              "<Figure size 432x288 with 1 Axes>"
            ]
          },
          "metadata": {
            "tags": []
          }
        },
        {
          "output_type": "stream",
          "text": [
            "Training accuracy 0.97\n",
            "Validation accuracy 0.94\n"
          ],
          "name": "stdout"
        }
      ]
    },
    {
      "cell_type": "code",
      "metadata": {
        "colab_type": "code",
        "id": "7q8AaXxGvDJk",
        "outputId": "643c3035-1f7f-473f-827c-559d73a9e2ba",
        "colab": {
          "base_uri": "https://localhost:8080/",
          "height": 265
        }
      },
      "source": [
        "plt.scatter(X_train[:,0], X_train[:,1], c=Y_pred_binarised_train, cmap=my_cmap, s=15*(np.abs(Y_pred_binarised_train-Y_train)+.2))\n",
        "plt.show()"
      ],
      "execution_count": 0,
      "outputs": [
        {
          "output_type": "display_data",
          "data": {
            "image/png": "[encoded data removed]",
            "text/plain": [
              "<Figure size 432x288 with 1 Axes>"
            ]
          },
          "metadata": {
            "tags": []
          }
        }
      ]
    },
    {
      "cell_type": "code",
      "metadata": {
        "id": "Vl4D_HV0V7KZ",
        "colab_type": "code",
        "colab": {}
      },
      "source": [
        "class FFSN_MultiClass:\n",
        "  \n",
        "  def __init__(self, n_inputs, n_outputs, hidden_sizes=[3]):\n",
        "    self.nx = n_inputs\n",
        "    self.ny = n_outputs\n",
        "    self.nh = len(hidden_sizes)\n",
        "    self.sizes = [self.nx] + hidden_sizes + [self.ny] \n",
        "\n",
        "    self.W = {}\n",
        "    self.B = {}\n",
        "    for i in range(self.nh+1):\n",
        "      self.W[i+1] = np.random.randn(self.sizes[i], self.sizes[i+1])\n",
        "      self.B[i+1] = np.zeros((1, self.sizes[i+1]))\n",
        "      \n",
        "  def sigmoid(self, x):\n",
        "    return 1.0/(1.0 + np.exp(-x))\n",
        "  \n",
        "  def softmax(self, x):\n",
        "    exps = np.exp(x)\n",
        "    return exps / np.sum(exps)\n",
        "\n",
        "  def forward_pass(self, x):\n",
        "    self.A = {}\n",
        "    self.H = {}\n",
        "    self.H[0] = x.reshape(1, -1)\n",
        "    for i in range(self.nh):\n",
        "      self.A[i+1] = np.matmul(self.H[i], self.W[i+1]) + self.B[i+1]\n",
        "      self.H[i+1] = self.sigmoid(self.A[i+1])\n",
        "    self.A[self.nh+1] = np.matmul(self.H[self.nh], self.W[self.nh+1]) + self.B[self.nh+1]\n",
        "    self.H[self.nh+1] = self.softmax(self.A[self.nh+1])\n",
        "    return self.H[self.nh+1]\n",
        "  \n",
        "  def predict(self, X):\n",
        "    Y_pred = []\n",
        "    for x in X:\n",
        "      y_pred = self.forward_pass(x)\n",
        "      Y_pred.append(y_pred)\n",
        "    return np.array(Y_pred).squeeze()\n",
        " \n",
        "  def grad_sigmoid(self, x):\n",
        "    return x*(1-x) \n",
        "  \n",
        "  def cross_entropy(self,label,pred):\n",
        "    yl=np.multiply(pred,label)\n",
        "    yl=yl[yl!=0]\n",
        "    yl=-np.log(yl)\n",
        "    yl=np.mean(yl)\n",
        "    return yl\n",
        " \n",
        "  def grad(self, x, y):\n",
        "    self.forward_pass(x)\n",
        "    self.dW = {}\n",
        "    self.dB = {}\n",
        "    self.dH = {}\n",
        "    self.dA = {}\n",
        "    L = self.nh + 1\n",
        "    self.dA[L] = (self.H[L] - y)\n",
        "    for k in range(L, 0, -1):\n",
        "      self.dW[k] = np.matmul(self.H[k-1].T, self.dA[k])\n",
        "      self.dB[k] = self.dA[k]\n",
        "      self.dH[k-1] = np.matmul(self.dA[k], self.W[k].T)\n",
        "      self.dA[k-1] = np.multiply(self.dH[k-1], self.grad_sigmoid(self.H[k-1])) \n",
        "    \n",
        "  def fit(self, X, Y, epochs=100, initialize='True', learning_rate=0.01, display_loss=False):\n",
        "      \n",
        "    if display_loss:\n",
        "      loss = {}\n",
        "      \n",
        "    if initialize:\n",
        "      for i in range(self.nh+1):\n",
        "        self.W[i+1] = np.random.randn(self.sizes[i], self.sizes[i+1])\n",
        "        self.B[i+1] = np.zeros((1, self.sizes[i+1]))\n",
        "        \n",
        "    for epoch in tqdm_notebook(range(epochs), total=epochs, unit=\"epoch\"):\n",
        "      dW = {}\n",
        "      dB = {}\n",
        "      for i in range(self.nh+1):\n",
        "        dW[i+1] = np.zeros((self.sizes[i], self.sizes[i+1]))\n",
        "        dB[i+1] = np.zeros((1, self.sizes[i+1]))\n",
        "      for x, y in zip(X, Y):\n",
        "        self.grad(x, y)\n",
        "        for i in range(self.nh+1):\n",
        "          dW[i+1] += self.dW[i+1]\n",
        "          dB[i+1] += self.dB[i+1]\n",
        "                  \n",
        "      m = X.shape[1]\n",
        "      for i in range(self.nh+1):\n",
        "        self.W[i+1] -= learning_rate * (dW[i+1]/m)\n",
        "        self.B[i+1] -= learning_rate * (dB[i+1]/m)\n",
        "        \n",
        "      if display_loss:\n",
        "        Y_pred = self.predict(X) \n",
        "        loss[epoch] = self.cross_entropy(Y, Y_pred)\n",
        "    \n",
        "    if display_loss:\n",
        "      plt.plot(list(loss.values()))\n",
        "      plt.xlabel('Epochs')\n",
        "      plt.ylabel('CE')\n",
        "      plt.show()"
      ],
      "execution_count": 0,
      "outputs": []
    },
    {
      "cell_type": "code",
      "metadata": {
        "colab_type": "code",
        "id": "Oc-rmmXDusH2",
        "outputId": "be9b54ff-67f3-4b2e-eb5c-20b4fc3e9531",
        "colab": {
          "base_uri": "https://localhost:8080/",
          "height": 34
        }
      },
      "source": [
        "X_train, X_val, Y_train, Y_val = train_test_split(data, labels_orig, stratify=labels_orig, random_state=0)\n",
        "print(X_train.shape, X_val.shape, labels_orig.shape)"
      ],
      "execution_count": 0,
      "outputs": [
        {
          "output_type": "stream",
          "text": [
            "(750, 2) (250, 2) (1000,)\n"
          ],
          "name": "stdout"
        }
      ]
    },
    {
      "cell_type": "code",
      "metadata": {
        "id": "27d5s-upj2qP",
        "colab_type": "code",
        "outputId": "32205974-a5d0-495b-9154-87a75f9aafa0",
        "colab": {
          "base_uri": "https://localhost:8080/",
          "height": 188
        }
      },
      "source": [
        "enc = OneHotEncoder()\n",
        "# 0 -> (1, 0, 0, 0), 1 -> (0, 1, 0, 0), 2 -> (0, 0, 1, 0), 3 -> (0, 0, 0, 1)\n",
        "y_OH_train = enc.fit_transform(np.expand_dims(Y_train,1)).toarray()\n",
        "y_OH_val = enc.fit_transform(np.expand_dims(Y_val,1)).toarray()\n",
        "print(y_OH_train.shape, y_OH_val.shape)"
      ],
      "execution_count": 0,
      "outputs": [
        {
          "output_type": "stream",
          "text": [
            "(750, 4) (250, 4)\n"
          ],
          "name": "stdout"
        },
        {
          "output_type": "stream",
          "text": [
            "/usr/local/lib/python3.6/dist-packages/sklearn/preprocessing/_encoders.py:415: FutureWarning: The handling of integer data will change in version 0.22. Currently, the categories are determined based on the range [0, max(values)], while in the future they will be determined based on the unique values.\n",
            "If you want the future behaviour and silence this warning, you can specify \"categories='auto'\".\n",
            "In case you used a LabelEncoder before this OneHotEncoder to convert the categories to integers, then you can now use the OneHotEncoder directly.\n",
            "  warnings.warn(msg, FutureWarning)\n",
            "/usr/local/lib/python3.6/dist-packages/sklearn/preprocessing/_encoders.py:415: FutureWarning: The handling of integer data will change in version 0.22. Currently, the categories are determined based on the range [0, max(values)], while in the future they will be determined based on the unique values.\n",
            "If you want the future behaviour and silence this warning, you can specify \"categories='auto'\".\n",
            "In case you used a LabelEncoder before this OneHotEncoder to convert the categories to integers, then you can now use the OneHotEncoder directly.\n",
            "  warnings.warn(msg, FutureWarning)\n"
          ],
          "name": "stderr"
        }
      ]
    },
    {
      "cell_type": "code",
      "metadata": {
        "colab_type": "code",
        "id": "hVl50rhuusH8",
        "outputId": "81fa6a12-2173-4741-f2e6-40e41363ef96",
        "colab": {
          "base_uri": "https://localhost:8080/",
          "height": 311,
          "referenced_widgets": [
            "1abb52d032064c9594c5b50bff16e00d",
            "7d02ebaa73c74e93a02206ad76a82773",
            "b130a2e7763a430b81d0c2d4004edf6b",
            "434d3a51fe9e400185b8d44c4f0b10f2",
            "753814750eff42ee953193fde67f3eab",
            "0abd95843e27488b961201c7a861b6a7",
            "d635994056f74382815d7778b97d96c8",
            "8e21ca3361334dd5b294a4f03ce5f446"
          ]
        }
      },
      "source": [
        "ffsn_multi = FFSN_MultiClass(2,4,[2,3])\n",
        "ffsn_multi.fit(X_train,y_OH_train,epochs=2000,learning_rate=.005,display_loss=True)"
      ],
      "execution_count": 47,
      "outputs": [
        {
          "output_type": "display_data",
          "data": {
            "application/vnd.jupyter.widget-view+json": {
              "model_id": "1abb52d032064c9594c5b50bff16e00d",
              "version_minor": 0,
              "version_major": 2
            },
            "text/plain": [
              "HBox(children=(IntProgress(value=0, max=2000), HTML(value='')))"
            ]
          },
          "metadata": {
            "tags": []
          }
        },
        {
          "output_type": "display_data",
          "data": {
            "image/png": "[encoded data removed]",
            "text/plain": [
              "<Figure size 432x288 with 1 Axes>"
            ]
          },
          "metadata": {
            "tags": []
          }
        }
      ]
    },
    {
      "cell_type": "code",
      "metadata": {
        "id": "i5gliyxn4l0F",
        "colab_type": "code",
        "colab": {
          "base_uri": "https://localhost:8080/",
          "height": 50
        },
        "outputId": "e518753e-a933-45ab-c1b4-c98bd7859600"
      },
      "source": [
        "Y_pred_train = ffsn_multi.predict(X_train)\n",
        "Y_pred_train = np.argmax(Y_pred_train,1)\n",
        "\n",
        "Y_pred_val = ffsn_multi.predict(X_val)\n",
        "Y_pred_val = np.argmax(Y_pred_val,1)\n",
        "\n",
        "accuracy_train = accuracy_score(Y_pred_train, Y_train)\n",
        "accuracy_val = accuracy_score(Y_pred_val, Y_val)\n",
        "\n",
        "print(\"Training accuracy\", round(accuracy_train, 2))\n",
        "print(\"Validation accuracy\", round(accuracy_val, 2))"
      ],
      "execution_count": 45,
      "outputs": [
        {
          "output_type": "stream",
          "text": [
            "Training accuracy 0.87\n",
            "Validation accuracy 0.87\n"
          ],
          "name": "stdout"
        }
      ]
    },
    {
      "cell_type": "code",
      "metadata": {
        "id": "QDNLrDV7AvEd",
        "colab_type": "code",
        "colab": {
          "base_uri": "https://localhost:8080/",
          "height": 345,
          "referenced_widgets": [
            "28e785b6c5504e958d2626b46cc1f013",
            "e7faa87f3e604bd59d9b73bbea9dc97b",
            "57481b4dd8bb4e26b05dfa505e43de00",
            "ade3b40e723f40a3ba2d2cd36e9aaae5",
            "d5e6ea8f84574a0886af5ea7609ba63f",
            "d1ea25b8e9b643edb4d70eb437db9bb0",
            "4b6169f649c84c28aacd832a3308546a",
            "975507edb236484d913a41a90c5fced6"
          ]
        },
        "outputId": "9864dc77-fc8a-4b82-aa2f-413328b5df63"
      },
      "source": [
        "ffsn_multi.fit(X_train,y_OH_train,epochs=5000,learning_rate=.005,display_loss=True)\n",
        "\n",
        "Y_pred_train = ffsn_multi.predict(X_train)\n",
        "Y_pred_train = np.argmax(Y_pred_train,1)\n",
        "\n",
        "Y_pred_val = ffsn_multi.predict(X_val)\n",
        "Y_pred_val = np.argmax(Y_pred_val,1)\n",
        "\n",
        "accuracy_train = accuracy_score(Y_pred_train, Y_train)\n",
        "accuracy_val = accuracy_score(Y_pred_val, Y_val)\n",
        "\n",
        "print(\"Training accuracy\", round(accuracy_train, 2))\n",
        "print(\"Validation accuracy\", round(accuracy_val, 2))"
      ],
      "execution_count": 51,
      "outputs": [
        {
          "output_type": "display_data",
          "data": {
            "application/vnd.jupyter.widget-view+json": {
              "model_id": "28e785b6c5504e958d2626b46cc1f013",
              "version_minor": 0,
              "version_major": 2
            },
            "text/plain": [
              "HBox(children=(IntProgress(value=0, max=5000), HTML(value='')))"
            ]
          },
          "metadata": {
            "tags": []
          }
        },
        {
          "output_type": "display_data",
          "data": {
            "image/png": "[encoded data removed]",
            "text/plain": [
              "<Figure size 432x288 with 1 Axes>"
            ]
          },
          "metadata": {
            "tags": []
          }
        },
        {
          "output_type": "stream",
          "text": [
            "Training accuracy 0.9\n",
            "Validation accuracy 0.92\n"
          ],
          "name": "stdout"
        }
      ]
    },
    {
      "cell_type": "code",
      "metadata": {
        "id": "6jyTDEy6DmIb",
        "colab_type": "code",
        "colab": {
          "base_uri": "https://localhost:8080/",
          "height": 265
        },
        "outputId": "75d4d6d4-3639-4266-a97e-d7f9423eb544"
      },
      "source": [
        "plt.scatter(X_train[:,0], X_train[:,1], c=Y_pred_train, cmap=my_cmap, s=15*(np.abs(np.sign(Y_pred_train-Y_train))+.1))\n",
        "plt.show()"
      ],
      "execution_count": 50,
      "outputs": [
        {
          "output_type": "display_data",
          "data": {
            "image/png": "[encoded data removed]",
            "text/plain": [
              "<Figure size 432x288 with 1 Axes>"
            ]
          },
          "metadata": {
            "tags": []
          }
        }
      ]
    }
  ]
}