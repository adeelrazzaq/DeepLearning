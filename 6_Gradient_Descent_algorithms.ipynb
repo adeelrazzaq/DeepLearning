{
  "nbformat": 4,
  "nbformat_minor": 0,
  "metadata": {
    "colab": {
      "name": "6_Gradient_Descent_algorithms.ipynb",
      "provenance": [],
      "include_colab_link": true
    },
    "kernelspec": {
      "name": "python3",
      "display_name": "Python 3"
    }
  },
  "cells": [
    {
      "cell_type": "markdown",
      "metadata": {
        "id": "view-in-github",
        "colab_type": "text"
      },
      "source": [
        "<a href=\"https://colab.research.google.com/github/anubhavgupta1/DeepLearning/blob/master/6_Gradient_Descent_algorithms.ipynb\" target=\"_parent\"><img src=\"https://colab.research.google.com/assets/colab-badge.svg\" alt=\"Open In Colab\"/></a>"
      ]
    },
    {
      "cell_type": "markdown",
      "metadata": {
        "id": "_cL6TCJFYOyG",
        "colab_type": "text"
      },
      "source": [
        "Publisher : Anubhav Gupta\n",
        "Contact : anubhav.gupta62@gmail.com, +91- 90418 -28524\n",
        "\n",
        "**OUTLINE**\n",
        "\n",
        "1. Modified SN Class\n",
        "2. Overall setup - What is data, model task\n",
        "3. Plotting Functions - 3d, Contour\n",
        "4. Individual algorithms and how they perform\n",
        "\n"
      ]
    },
    {
      "cell_type": "code",
      "metadata": {
        "id": "HpCeHe-MGACZ",
        "colab_type": "code",
        "colab": {}
      },
      "source": [
        "from mpl_toolkits.mplot3d import Axes3D\n",
        "from matplotlib import cm\n",
        "import matplotlib.colors\n",
        "import seaborn as sns\n",
        "import matplotlib.pyplot as plt\n",
        "from matplotlib import animation, rc\n",
        "import numpy as np\n",
        "from IPython.display import HTML\n"
      ],
      "execution_count": 0,
      "outputs": []
    },
    {
      "cell_type": "code",
      "metadata": {
        "id": "7j5aCfZsajqW",
        "colab_type": "code",
        "colab": {}
      },
      "source": [
        "my_cmap = matplotlib.colors.LinearSegmentedColormap.from_list(\"\",[\"red\",\"yellow\",\"green\"])\n"
      ],
      "execution_count": 0,
      "outputs": []
    },
    {
      "cell_type": "code",
      "metadata": {
        "id": "7QfOTx-ValiP",
        "colab_type": "code",
        "colab": {}
      },
      "source": [
        "class SN:\n",
        "\n",
        "  def __init__(self,w_init,b_init,algo):\n",
        "    self.w = w_init\n",
        "    self.b = b_init\n",
        "    self.w_h = []\n",
        "    self.b_h = []\n",
        "    self.e_h = []\n",
        "    self.algo = algo\n",
        "\n",
        "  def sigmoid(self,x,w=None,b=None):\n",
        "    if w is None:\n",
        "      w = self.w\n",
        "    if b is None:\n",
        "      b = self.b\n",
        "    return 1.0/(1.0 + np.exp(-(w*x + b )))\n",
        "  \n",
        "  def error(self,X,Y,w=None,b=None):\n",
        "    if w is None:\n",
        "      w = self.w\n",
        "    if b is None:\n",
        "      b = self.b\n",
        "    err = 0\n",
        "    for x,y in zip(X,Y):\n",
        "      err += 0.5 * (self.sigmoid(x,w,b)-y) ** 2\n",
        "    return err\n",
        "  \n",
        "  def grad_w(self,x,y,w=None,b=None):\n",
        "    if w is None:\n",
        "      w = self.w\n",
        "    if b is None:\n",
        "      b = self.b\n",
        "    y_pred = self.sigmoid(x,w,b)\n",
        "    return (y_pred - y) * y_pred * (1-y_pred) * x\n",
        "  \n",
        "  def grad_b(self,x,y,w=None,b=None):\n",
        "    if w is None:\n",
        "      w = self.w\n",
        "    if b is None:\n",
        "      b = self.b\n",
        "    y_pred = self.sigmoid(x,w,b)\n",
        "    return (y_pred - y) * y_pred * (1-y_pred)\n",
        "  \n",
        "  def append_log(self):\n",
        "    self.w_h.append(self.w)\n",
        "    self.b_h.append(self.b)\n",
        "    self.e_h.append(self.error(self.X,self.Y)) \n",
        "  \n",
        "  def fit(self, X,Y,epochs =100, eta = 0.01,gamma = 0.9,mini_batch_size = 100, eps= 1e-8, beta = 0.9, beta1 = 0.9,beta2=0.9 ):\n",
        "    self.w_h = []\n",
        "    self.b_h = []\n",
        "    self.e_h = []\n",
        "    self.X = X\n",
        "    self.Y = Y\n",
        "\n",
        "    if self.algo == 'GD':\n",
        "      for i in range(epochs):\n",
        "        dw , db = 0 , 0\n",
        "        for x , y in zip(X,Y):\n",
        "          dw += self.grad_w(x,y)\n",
        "          db += self.grad_b(x,y)\n",
        "        \n",
        "        m = X.shape[0]\n",
        "        self.w -= eta * (dw/m)\n",
        "        self.b -= eta * (db/m)\n",
        "        self.append_log()\n",
        "\n",
        "    elif self.algo == 'MOMENTUM':\n",
        "      v_w_prev, v_b_prev = 0,0\n",
        "      for i in range(epochs):\n",
        "        dw , db = 0 , 0\n",
        "        for x , y in zip(X,Y):\n",
        "          dw += self.grad_w(x,y)\n",
        "          db += self.grad_b(x,y)\n",
        "        \n",
        "        m = X.shape[0]\n",
        "        v_w = gamma * v_w_prev + eta * (dw/m)\n",
        "        v_b = gamma * v_b_prev + eta * (db/m)\n",
        "        self.w -= v_w\n",
        "        self.b -= v_b\n",
        "        v_w_prev = v_w\n",
        "        v_b_prev = v_b\n",
        "        self.append_log()\n",
        "\n",
        "    elif self.algo == 'NAG':\n",
        "      v_w_prev, v_b_prev = 0,0\n",
        "      for i in range(epochs):\n",
        "        dw , db = 0 , 0\n",
        "        v_w = gamma * v_w_prev  \n",
        "        v_b = gamma * v_b_prev\n",
        "        for x , y in zip(X,Y):\n",
        "          dw += self.grad_w(x,y,self.w - v_w,self.b - v_b)\n",
        "          db += self.grad_b(x,y,self.w - v_w,self.b - v_b)\n",
        "        \n",
        "        m = X.shape[0]\n",
        "        v_w = gamma * v_w_prev + eta * (dw/m)\n",
        "        v_b = gamma * v_b_prev + eta * (db/m)\n",
        "        self.w -= v_w\n",
        "        self.b -= v_b\n",
        "        v_w_prev = v_w\n",
        "        v_b_prev = v_b\n",
        "        self.append_log()\n",
        "\n",
        "    elif self.algo == 'MiniBatch':\n",
        "      for i in range(epochs):\n",
        "        dw , db = 0 , 0\n",
        "        points_seen = 0 \n",
        "        for x , y in zip(X,Y):\n",
        "          dw += self.grad_w(x,y)\n",
        "          db += self.grad_b(x,y)\n",
        "          points_seen += 1\n",
        "          if points_seen % mini_batch_size == 0:\n",
        "            self.w -= eta * (dw/mini_batch_size)\n",
        "            self.b -= eta * (db/mini_batch_size)\n",
        "            self.append_log()\n",
        "            dw , db = 0 , 0\n",
        "\n",
        "    elif self.algo == 'AdaGrad':\n",
        "      v_w,v_b = 0,0\n",
        "      for i in range(epochs):\n",
        "        dw , db = 0 , 0\n",
        "        for x , y in zip(X,Y):\n",
        "          dw += self.grad_w(x,y)\n",
        "          db += self.grad_b(x,y)\n",
        "        v_w += dw ** 2\n",
        "        v_b += db ** 2\n",
        "        m_w = np.sqrt(v_w) + eps\n",
        "        m_b = np.sqrt(v_b) + eps\n",
        "        self.w -= eta * (dw/m_w)\n",
        "        self.b -= eta * (db/m_b)\n",
        "        self.append_log() \n",
        "\n",
        "    elif self.algo == 'RMSProp':\n",
        "      v_w,v_b = 0,0\n",
        "      for i in range(epochs):\n",
        "        dw , db = 0 , 0\n",
        "        for x , y in zip(X,Y):\n",
        "          dw += self.grad_w(x,y)\n",
        "          db += self.grad_b(x,y)\n",
        "        v_w = beta* v_w + (1 - beta) * (dw ** 2)\n",
        "        v_b = beta* v_b + (1 - beta) * (db ** 2)\n",
        "        m_w = np.sqrt(v_w) + eps\n",
        "        m_b = np.sqrt(v_b) + eps\n",
        "        self.w -= eta * (dw/m_w)\n",
        "        self.b -= eta * (db/m_b)\n",
        "        self.append_log()\n",
        "\n",
        "    elif self.algo == 'Adam':\n",
        "      v_w,v_b = 0,0\n",
        "      m_w,m_b = 0,0\n",
        "      num_updates = 0\n",
        "      for i in range(epochs):\n",
        "        dw , db = 0 , 0\n",
        "        for x , y in zip(X,Y):\n",
        "          dw += self.grad_w(x,y)\n",
        "          db += self.grad_b(x,y)\n",
        "          num_updates += 1\n",
        "          m_w = beta1 * m_w + (1 - beta1) * (dw)\n",
        "          m_b = beta1 * m_b + (1 - beta1) * (db)\n",
        "          v_w = beta2 * v_w + (1 - beta2) (dw ** 2)\n",
        "          v_b = beta2 * v_b + (1 - beta2) (db ** 2)\n",
        "          m_w_c = m_w / (1-np.power(beta1,num_updates))\n",
        "          m_b_c = m_b / (1-np.power(beta1,num_updates))\n",
        "          v_w_c = v_w / (1-np.power(beta2,num_updates))\n",
        "          v_b_c = v_b / (1-np.power(beta2,num_updates))\n",
        "          n_w = np.sqrt(v_w_c) + eps\n",
        "          n_b = np.sqrt(v_b_c) + eps\n",
        "          self.w -= eta * (m_w_c/n_w)\n",
        "          self.b -= eta * (m_b_c/n_b)\n",
        "          self.append_log()      \n",
        "\n"
      ],
      "execution_count": 0,
      "outputs": []
    },
    {
      "cell_type": "code",
      "metadata": {
        "id": "fti0EVuf9ssk",
        "colab_type": "code",
        "colab": {}
      },
      "source": [
        "X = np.asarray([3.5, 0.35, 3.2, -2.0, 1.5, -0.5])\n",
        "Y = np.asarray([0.5, 0.50, 0.5,  0.5, 0.1,  0.3])\n",
        "\n",
        "#algo = 'RMSProp'\n",
        "algo = 'Adam'\n",
        "\n",
        "w_init = -6\n",
        "b_init = 4.0\n",
        "\n",
        "\n",
        "epochs = 200\n",
        "eta = 0.5\n",
        "gamma = 0.9\n",
        "mini_batch_size = 6\n",
        "beta1 = 0.9\n",
        "beta2 = 0.9\n",
        "\n",
        "w_min = -7\n",
        "w_max = 5\n",
        "eps = 1e-8\n",
        "\n",
        "b_min = -5\n",
        "b_max = 5\n",
        "\n",
        "animation_frames = 20\n",
        "\n",
        "plot_2d = True\n",
        "plot_3d = False"
      ],
      "execution_count": 0,
      "outputs": []
    },
    {
      "cell_type": "markdown",
      "metadata": {
        "id": "E_Z0A76DMcvR",
        "colab_type": "text"
      },
      "source": [
        "#Adgrad and NAG\n",
        "\n",
        "\n",
        "X = np.asarray([3.5, 0.35, 3.2, -2.0, 1.5, -0.5])\n",
        "\n",
        "\n",
        "Y = np.asarray([0.5, 0.50, 0.5,  0.5, 0.1,  0.3])\n",
        "\n",
        "\n",
        "algo = 'NAG'\n",
        "\n",
        "algo = 'AdaGrad'\n",
        "\n",
        "\n",
        "w_init = -6\n",
        "b_init = 4.0\n",
        "\n",
        "epochs = 200\n",
        "epochs = 100\n",
        "eta = 0.5\n",
        "gamma = 0.9\n",
        "mini_batch_size = 6\n",
        "\n",
        "w_min = -7\n",
        "w_max = 5\n",
        "eps = 1e-8\n",
        "\n",
        "b_min = -5\n",
        "b_max = 5\n",
        "\n",
        "animation_frames = 20\n",
        "\n",
        "plot_2d = True\n",
        "plot_3d = False\n",
        "\n"
      ]
    },
    {
      "cell_type": "markdown",
      "metadata": {
        "id": "-AnyknSpOmlU",
        "colab_type": "text"
      },
      "source": [
        "#RmsProp and Adagrad\n",
        "\n",
        "\n",
        "X = np.asarray([3.5, 0.35, 3.2, -2.0, 1.5, -0.5])\n",
        "Y = np.asarray([0.5, 0.50, 0.5,  0.5, 0.1,  0.3])\n",
        "\n",
        "algo = 'AdaGrad'\n",
        "algo = 'RmsProp'\n",
        "\n",
        "\n",
        "w_init = -6\n",
        "b_init = 4.0\n",
        "\n",
        "\n",
        "epochs = 100\n",
        "eta = 0.1\n",
        "gamma = 0.9\n",
        "mini_batch_size = 6\n",
        "\n",
        "w_min = -7\n",
        "w_max = 5\n",
        "eps = 1e-8\n",
        "\n",
        "b_min = -5\n",
        "b_max = 5\n",
        "\n",
        "animation_frames = 20\n",
        "\n",
        "plot_2d = True\n",
        "plot_3\n",
        "\n",
        "RmsProp does a weighted accumulation of old and current updates"
      ]
    },
    {
      "cell_type": "markdown",
      "metadata": {
        "id": "O50BJGZBTiig",
        "colab_type": "text"
      },
      "source": [
        "#Adam and RmsProp\n",
        "X = np.asarray([3.5, 0.35, 3.2, -2.0, 1.5, -0.5])\n",
        "Y = np.asarray([0.5, 0.50, 0.5,  0.5, 0.1,  0.3])\n",
        "\n",
        "algo = 'RMSProp'\n",
        "algo = 'Adam'\n",
        "\n",
        "w_init = -6\n",
        "b_init = 4.0\n",
        "\n",
        "\n",
        "epochs = 200\n",
        "eta = 0.5\n",
        "gamma = 0.9\n",
        "mini_batch_size = 6\n",
        "beta1 = 0.9\n",
        "beta2 = 0.9\n",
        "\n",
        "w_min = -7\n",
        "w_max = 5\n",
        "eps = 1e-8\n",
        "\n",
        "b_min = -5\n",
        "b_max = 5\n",
        "\n",
        "animation_frames = 20\n",
        "\n",
        "plot_2d = True\n",
        "plot_3d = False\n",
        "\n",
        "Adam Solves the drawback of RMSProp by having momentum component"
      ]
    },
    {
      "cell_type": "code",
      "metadata": {
        "id": "efgHGdbx-siX",
        "colab_type": "code",
        "colab": {
          "base_uri": "https://localhost:8080/",
          "height": 346
        },
        "outputId": "e96555ec-541b-443e-9f6a-bfd8ee22eaeb"
      },
      "source": [
        "sn = SN(w_init,b_init,algo)\n",
        "sn.fit(X,Y,epochs = epochs, eta = eta,gamma=gamma,mini_batch_size=mini_batch_size,eps=eps,beta1=beta1,beta2=beta2)\n",
        "plt.plot(sn.e_h,'r')\n",
        "plt.plot(sn.w_h,'b')\n",
        "plt.plot(sn.b_h,'g')\n",
        "w_diff = [t - s for t, s in zip(sn.w_h, sn.w_h[1:])]\n",
        "b_diff = [t - s for t, s in zip(sn.b_h, sn.b_h[1:])]\n",
        "#plt.plot(w_diff, 'b--')\n",
        "#plt.plot(b_diff, 'g--')\n",
        "plt.show()"
      ],
      "execution_count": 124,
      "outputs": [
        {
          "output_type": "error",
          "ename": "TypeError",
          "evalue": "ignored",
          "traceback": [
            "\u001b[0;31m---------------------------------------------------------------------------\u001b[0m",
            "\u001b[0;31mTypeError\u001b[0m                                 Traceback (most recent call last)",
            "\u001b[0;32m<ipython-input-124-ddb46f4b01de>\u001b[0m in \u001b[0;36m<module>\u001b[0;34m()\u001b[0m\n\u001b[1;32m      1\u001b[0m \u001b[0msn\u001b[0m \u001b[0;34m=\u001b[0m \u001b[0mSN\u001b[0m\u001b[0;34m(\u001b[0m\u001b[0mw_init\u001b[0m\u001b[0;34m,\u001b[0m\u001b[0mb_init\u001b[0m\u001b[0;34m,\u001b[0m\u001b[0malgo\u001b[0m\u001b[0;34m)\u001b[0m\u001b[0;34m\u001b[0m\u001b[0;34m\u001b[0m\u001b[0m\n\u001b[0;32m----> 2\u001b[0;31m \u001b[0msn\u001b[0m\u001b[0;34m.\u001b[0m\u001b[0mfit\u001b[0m\u001b[0;34m(\u001b[0m\u001b[0mX\u001b[0m\u001b[0;34m,\u001b[0m\u001b[0mY\u001b[0m\u001b[0;34m,\u001b[0m\u001b[0mepochs\u001b[0m \u001b[0;34m=\u001b[0m \u001b[0mepochs\u001b[0m\u001b[0;34m,\u001b[0m \u001b[0meta\u001b[0m \u001b[0;34m=\u001b[0m \u001b[0meta\u001b[0m\u001b[0;34m,\u001b[0m\u001b[0mgamma\u001b[0m\u001b[0;34m=\u001b[0m\u001b[0mgamma\u001b[0m\u001b[0;34m,\u001b[0m\u001b[0mmini_batch_size\u001b[0m\u001b[0;34m=\u001b[0m\u001b[0mmini_batch_size\u001b[0m\u001b[0;34m,\u001b[0m\u001b[0meps\u001b[0m\u001b[0;34m=\u001b[0m\u001b[0meps\u001b[0m\u001b[0;34m,\u001b[0m\u001b[0mbeta1\u001b[0m\u001b[0;34m=\u001b[0m\u001b[0mbeta1\u001b[0m\u001b[0;34m,\u001b[0m\u001b[0mbeta2\u001b[0m\u001b[0;34m=\u001b[0m\u001b[0mbeta2\u001b[0m\u001b[0;34m)\u001b[0m\u001b[0;34m\u001b[0m\u001b[0;34m\u001b[0m\u001b[0m\n\u001b[0m\u001b[1;32m      3\u001b[0m \u001b[0mplt\u001b[0m\u001b[0;34m.\u001b[0m\u001b[0mplot\u001b[0m\u001b[0;34m(\u001b[0m\u001b[0msn\u001b[0m\u001b[0;34m.\u001b[0m\u001b[0me_h\u001b[0m\u001b[0;34m,\u001b[0m\u001b[0;34m'r'\u001b[0m\u001b[0;34m)\u001b[0m\u001b[0;34m\u001b[0m\u001b[0;34m\u001b[0m\u001b[0m\n\u001b[1;32m      4\u001b[0m \u001b[0mplt\u001b[0m\u001b[0;34m.\u001b[0m\u001b[0mplot\u001b[0m\u001b[0;34m(\u001b[0m\u001b[0msn\u001b[0m\u001b[0;34m.\u001b[0m\u001b[0mw_h\u001b[0m\u001b[0;34m,\u001b[0m\u001b[0;34m'b'\u001b[0m\u001b[0;34m)\u001b[0m\u001b[0;34m\u001b[0m\u001b[0;34m\u001b[0m\u001b[0m\n\u001b[1;32m      5\u001b[0m \u001b[0mplt\u001b[0m\u001b[0;34m.\u001b[0m\u001b[0mplot\u001b[0m\u001b[0;34m(\u001b[0m\u001b[0msn\u001b[0m\u001b[0;34m.\u001b[0m\u001b[0mb_h\u001b[0m\u001b[0;34m,\u001b[0m\u001b[0;34m'g'\u001b[0m\u001b[0;34m)\u001b[0m\u001b[0;34m\u001b[0m\u001b[0;34m\u001b[0m\u001b[0m\n",
            "\u001b[0;32m<ipython-input-122-0daa5497d170>\u001b[0m in \u001b[0;36mfit\u001b[0;34m(self, X, Y, epochs, eta, gamma, mini_batch_size, eps, beta, beta1, beta2)\u001b[0m\n\u001b[1;32m    158\u001b[0m           \u001b[0mm_w\u001b[0m \u001b[0;34m=\u001b[0m \u001b[0mbeta1\u001b[0m \u001b[0;34m*\u001b[0m \u001b[0mm_w\u001b[0m \u001b[0;34m+\u001b[0m \u001b[0;34m(\u001b[0m\u001b[0;36m1\u001b[0m \u001b[0;34m-\u001b[0m \u001b[0mbeta1\u001b[0m\u001b[0;34m)\u001b[0m \u001b[0;34m*\u001b[0m \u001b[0;34m(\u001b[0m\u001b[0mdw\u001b[0m\u001b[0;34m)\u001b[0m\u001b[0;34m\u001b[0m\u001b[0;34m\u001b[0m\u001b[0m\n\u001b[1;32m    159\u001b[0m           \u001b[0mm_b\u001b[0m \u001b[0;34m=\u001b[0m \u001b[0mbeta1\u001b[0m \u001b[0;34m*\u001b[0m \u001b[0mm_b\u001b[0m \u001b[0;34m+\u001b[0m \u001b[0;34m(\u001b[0m\u001b[0;36m1\u001b[0m \u001b[0;34m-\u001b[0m \u001b[0mbeta1\u001b[0m\u001b[0;34m)\u001b[0m \u001b[0;34m*\u001b[0m \u001b[0;34m(\u001b[0m\u001b[0mdb\u001b[0m\u001b[0;34m)\u001b[0m\u001b[0;34m\u001b[0m\u001b[0;34m\u001b[0m\u001b[0m\n\u001b[0;32m--> 160\u001b[0;31m           \u001b[0mv_w\u001b[0m \u001b[0;34m=\u001b[0m \u001b[0;34m(\u001b[0m\u001b[0;36m9\u001b[0m\u001b[0;34m/\u001b[0m\u001b[0;36m10\u001b[0m\u001b[0;34m)\u001b[0m \u001b[0;34m*\u001b[0m \u001b[0mv_w\u001b[0m \u001b[0;34m+\u001b[0m \u001b[0;34m(\u001b[0m\u001b[0;36m1\u001b[0m \u001b[0;34m-\u001b[0m \u001b[0;34m(\u001b[0m\u001b[0;36m9\u001b[0m\u001b[0;34m/\u001b[0m\u001b[0;36m10\u001b[0m\u001b[0;34m)\u001b[0m\u001b[0;34m)\u001b[0m \u001b[0;34m(\u001b[0m\u001b[0mdw\u001b[0m \u001b[0;34m**\u001b[0m \u001b[0;36m2\u001b[0m\u001b[0;34m)\u001b[0m\u001b[0;34m\u001b[0m\u001b[0;34m\u001b[0m\u001b[0m\n\u001b[0m\u001b[1;32m    161\u001b[0m           \u001b[0mv_b\u001b[0m \u001b[0;34m=\u001b[0m \u001b[0;34m(\u001b[0m\u001b[0;36m9\u001b[0m\u001b[0;34m/\u001b[0m\u001b[0;36m10\u001b[0m\u001b[0;34m)\u001b[0m \u001b[0;34m*\u001b[0m \u001b[0mv_b\u001b[0m \u001b[0;34m+\u001b[0m \u001b[0;34m(\u001b[0m\u001b[0;36m1\u001b[0m \u001b[0;34m-\u001b[0m \u001b[0;34m(\u001b[0m\u001b[0;36m9\u001b[0m\u001b[0;34m/\u001b[0m\u001b[0;36m10\u001b[0m\u001b[0;34m)\u001b[0m\u001b[0;34m)\u001b[0m \u001b[0;34m(\u001b[0m\u001b[0mdb\u001b[0m \u001b[0;34m**\u001b[0m \u001b[0;36m2\u001b[0m\u001b[0;34m)\u001b[0m\u001b[0;34m\u001b[0m\u001b[0;34m\u001b[0m\u001b[0m\n\u001b[1;32m    162\u001b[0m           \u001b[0mm_w_c\u001b[0m \u001b[0;34m=\u001b[0m \u001b[0mm_w\u001b[0m \u001b[0;34m/\u001b[0m \u001b[0;34m(\u001b[0m\u001b[0;36m1\u001b[0m\u001b[0;34m-\u001b[0m\u001b[0mnp\u001b[0m\u001b[0;34m.\u001b[0m\u001b[0mpower\u001b[0m\u001b[0;34m(\u001b[0m\u001b[0mbeta1\u001b[0m\u001b[0;34m,\u001b[0m\u001b[0mnum_updates\u001b[0m\u001b[0;34m)\u001b[0m\u001b[0;34m)\u001b[0m\u001b[0;34m\u001b[0m\u001b[0;34m\u001b[0m\u001b[0m\n",
            "\u001b[0;31mTypeError\u001b[0m: 'float' object is not callable"
          ]
        }
      ]
    },
    {
      "cell_type": "code",
      "metadata": {
        "id": "ZuppxSncDa0u",
        "colab_type": "code",
        "colab": {}
      },
      "source": [
        "def plot_animate_3d(i):\n",
        "  i = int(i*(epochs/animation_frames))\n",
        "  line1.set_data(sn.w_h[:i+1], sn.b_h[:i+1])\n",
        "  line1.set_3d_properties(sn.e_h[:i+1])\n",
        "  line2.set_data(sn.w_h[:i+1], sn.b_h[:i+1])\n",
        "  line2.set_3d_properties(np.zeros(i+1) - 1)\n",
        "  title.set_text('Epoch: {: d}, Error: {:.4f}'.format(i, sn.e_h[i]))\n",
        "  return line1, line2, title"
      ],
      "execution_count": 0,
      "outputs": []
    },
    {
      "cell_type": "code",
      "metadata": {
        "id": "fHyWF0PdDbCq",
        "colab_type": "code",
        "colab": {}
      },
      "source": [
        "if plot_3d: \n",
        "  W = np.linspace(w_min, w_max, 256)\n",
        "  b = np.linspace(b_min, b_max, 256)\n",
        "  WW, BB = np.meshgrid(W, b)\n",
        "  Z = sn.error(X, Y, WW, BB)\n",
        "\n",
        "  fig = plt.figure(dpi=100) #no. of dots in plot  \n",
        "  ax = fig.gca(projection='3d')\n",
        "  surf = ax.plot_surface(WW, BB, Z, rstride=3, cstride=3, alpha=0.5, cmap=cm.coolwarm, linewidth=0, antialiased=False)\n",
        "  cset = ax.contourf(WW, BB, Z, 25, zdir='z', offset=-1, alpha=0.6, cmap=cm.coolwarm)\n",
        "  ax.set_xlabel('w')\n",
        "  ax.set_xlim(w_min - 1, w_max + 1)\n",
        "  ax.set_ylabel('b')\n",
        "  ax.set_ylim(b_min - 1, b_max + 1)\n",
        "  ax.set_zlabel('error')\n",
        "  ax.set_zlim(-1, np.max(Z))\n",
        "  ax.view_init (elev=25, azim=-75) # azim = -20\n",
        "  ax.dist=12  \n",
        "  title = ax.set_title('Epoch 0')"
      ],
      "execution_count": 0,
      "outputs": []
    },
    {
      "cell_type": "markdown",
      "metadata": {
        "id": "0SwqxrJzU_Qy",
        "colab_type": "text"
      },
      "source": [
        "We want to move from dark red to blue valley"
      ]
    },
    {
      "cell_type": "code",
      "metadata": {
        "id": "GTBqlRUtFaja",
        "colab_type": "code",
        "colab": {}
      },
      "source": [
        "if plot_3d: \n",
        "  i = 0\n",
        "  line1, = ax.plot(sn.w_h[:i+1], sn.b_h[:i+1], sn.e_h[:i+1], color='black',marker='.')\n",
        "  line2, = ax.plot(sn.w_h[:i+1], sn.b_h[:i+1], np.zeros(i+1) - 1, color='red', marker='.')\n",
        "  anim = animation.FuncAnimation(fig, func=plot_animate_3d, frames=animation_frames)\n",
        "  rc('animation', html='jshtml')\n",
        "  anim"
      ],
      "execution_count": 0,
      "outputs": []
    },
    {
      "cell_type": "code",
      "metadata": {
        "id": "aUzt0kwbVmUu",
        "colab_type": "code",
        "colab": {}
      },
      "source": [
        "if plot_2d: \n",
        "  W = np.linspace(w_min, w_max, 256)\n",
        "  b = np.linspace(b_min, b_max, 256)\n",
        "  WW, BB = np.meshgrid(W, b)\n",
        "  Z = sn.error(X, Y, WW, BB)\n",
        "\n",
        "  fig = plt.figure(dpi=100)\n",
        "  ax = plt.subplot(111)\n",
        "  ax.set_xlabel('w')\n",
        "  ax.set_xlim(w_min - 1, w_max + 1)\n",
        "  ax.set_ylabel('b')\n",
        "  ax.set_ylim(b_min - 1, b_max + 1)\n",
        "  title = ax.set_title('Epoch 0')\n",
        "  cset = plt.contourf(WW, BB, Z, 25, alpha=0.6, cmap=cm.bwr)\n",
        "  plt.show()"
      ],
      "execution_count": 0,
      "outputs": []
    },
    {
      "cell_type": "code",
      "metadata": {
        "id": "YgZhUNESVvFB",
        "colab_type": "code",
        "colab": {}
      },
      "source": [
        "def plot_animate_2d(i):\n",
        "  i = int(i*(epochs/animation_frames))\n",
        "  line.set_data(sn.w_h[:i+1], sn.b_h[:i+1])\n",
        "  title.set_text('Epoch: {: d}, Error: {:.4f}'.format(i, sn.e_h[i]))\n",
        "  return line, title"
      ],
      "execution_count": 0,
      "outputs": []
    },
    {
      "cell_type": "code",
      "metadata": {
        "id": "iq0Iyr4vVv9e",
        "colab_type": "code",
        "colab": {}
      },
      "source": [
        "if plot_2d: \n",
        "  i = 0\n",
        "  line, = ax.plot(sn.w_h[:i+1], sn.b_h[:i+1], color='black',marker='.')\n",
        "  anim = animation.FuncAnimation(fig, func=plot_animate_2d, frames=animation_frames)\n",
        "  rc('animation', html='jshtml')\n",
        "  anim"
      ],
      "execution_count": 0,
      "outputs": []
    },
    {
      "cell_type": "code",
      "metadata": {
        "id": "RTfsajlfV0bv",
        "colab_type": "code",
        "colab": {}
      },
      "source": [
        "if algo == 'GD':\n",
        "  print('algo = {}, eta = {}'.format(algo, eta))\n",
        "elif algo == 'Momentum' or algo == 'NAG':\n",
        "  print('algo = {}, eta = {}, gamma = {}'.format(algo, eta, gamma))\n",
        "elif algo == 'MiniBatch':\n",
        "  print('algo = {}, eta = {}, batch size = {}'.format(algo, eta, mini_batch_size))\n",
        "elif algo == 'AdaGrad' or algo == 'RMSProp':\n",
        "  print('algo = {}, eta = {}, eps = {}'.format(algo, eta, eps))\n",
        "anim"
      ],
      "execution_count": 0,
      "outputs": []
    },
    {
      "cell_type": "markdown",
      "metadata": {
        "id": "sKhJ526WsXup",
        "colab_type": "text"
      },
      "source": [
        "GD and Momentum Inputs\n",
        "\n",
        "X = np.asarray([0.5,2.5])\n",
        "\n",
        "Y = np.asarray([0.2,0.9])"
      ]
    },
    {
      "cell_type": "markdown",
      "metadata": {
        "id": "ithb70ungefj",
        "colab_type": "text"
      },
      "source": [
        "Gradient descent\n",
        "#(W_init = -2, B_init = -2, epochs = 1000, algo 'GD' )\n",
        "#(W_init = -3, B_init = 4, epochs = 1000, algo 'GD' )\n",
        "#(W_init = -5, B_init = 4, epochs = 1000, algo 'GD' )\n",
        "#(W_init = -4, B_init = 0, epochs = 1000, algo 'GD' )\n",
        "#(W_init = -4, B_init = 0, epochs = 5000, algo 'GD' )\n",
        "#(W_init = -4, B_init = 0, epochs = 10000, algo 'GD' )\n",
        "Will increasing the epochs of training solve the problem of getting stuck at local optima?\n",
        "\n",
        "Case1: Surely with more epochs the solution will move out of local optima and move to global optima.\n",
        "\n",
        "Case2 : No, since the gradients are infinitesimal (very small) therefore the weights will not be updated irrespective number of epochs.\n",
        "\n",
        "Ans : Both cases are possible it entire depends upon the nature of the surface where the solution is stuck. \n",
        "\n",
        "Drawback :\n",
        "1. In regions of low gradients, its not able to reinforce the direction it should move. So, we move to momentum. \n"
      ]
    },
    {
      "cell_type": "markdown",
      "metadata": {
        "id": "itPe11JtlTH1",
        "colab_type": "text"
      },
      "source": [
        "Momentum\n",
        "\n",
        "Drawback: \n",
        "#(W_init = -4, B_init = 0, epochs = 1000, algo 'Momentum' )\n",
        "1. It causes overshooting with large and continuous increase in gradient along a direction. (overshoot and comeback)\n",
        "\n",
        "#(W_init = -4, B_init = 0, epochs = 1000, algo 'Momentum', gamma = 0.8 )\n",
        "2. It controls the speed of momentum\n",
        "\n",
        "\n",
        "#(W_init = -3, B_init = 4, epochs = 1000, algo 'GD' )\n",
        "#(W_init = -3, B_init = 4, epochs = 1000, algo 'Momentum' )\n",
        "3. Overshooting Problem. In case of too many contour lines GD works better than momentum."
      ]
    },
    {
      "cell_type": "markdown",
      "metadata": {
        "id": "5b4Ls9QErwwl",
        "colab_type": "text"
      },
      "source": [
        "NAG \n",
        "\n",
        "Inputs:\n",
        "\n",
        "X = np.asarray([3.5, 0.35, 3.2])\n",
        "\n",
        "Y = np.asarray([0.49, 0.53, 0.52])\n",
        "\n",
        "#(W_init = 2.1, B_init = 4.0, epochs = 1000, algo 'Momentum' )\n",
        "1. In valley Oscillations are very large. \n",
        "#(W_init = 2.1, B_init = 4.0, epochs = 1000, algo 'NAG' )\n",
        "2. Faster convergance and Reduced Overshoots."
      ]
    },
    {
      "cell_type": "markdown",
      "metadata": {
        "id": "pza4k9j3vUjy",
        "colab_type": "text"
      },
      "source": [
        "GD and MiniBatch GD\n",
        "\n",
        "Inputs for mini and adagrad\n",
        "\n",
        "X = np.asarray([3.5, 0.35, 3.2, -2.0, 1.5, -0.5])\n",
        "\n",
        "Y = np.asarray([0.5, 0.50, 0.5,  0.5, 0.1,  0.3])\n",
        "\n",
        "mini_batch_size = 1\n",
        "gamma = 0.9\n",
        "\n",
        "#(W_init = 2.1, B_init = 4.0, epochs = 1000, algo 'MiniBatch' )\n",
        "1. Lots of oscillations that filled color green.\n",
        "\n",
        "All same \n",
        "\n",
        "mini_batch_size = 2\n",
        "2. Lesser magnitude of oscillations or noise\n",
        "\n",
        "\n",
        "\n",
        "mini_batch_size = 3\n",
        "3. Lesser magnitude of oscillations or noise\n",
        "\n",
        "\n",
        "\n",
        "mini_batch_size = 6\n",
        "4. It becomes case of GD\n",
        "\n",
        "\n",
        "5. If we make more updates then we need fewer number of epochs.\n",
        "6. If I have large no. of data that probably may not fit, so it is better to divide data into batches. \n"
      ]
    },
    {
      "cell_type": "markdown",
      "metadata": {
        "id": "3fO6ZlD_03iX",
        "colab_type": "text"
      },
      "source": [
        "Adagrad\n",
        "\n",
        "#(W_init = -6, B_init = 4, epochs = 1000, algo 'NAG' )\n",
        "#(W_init = -6, B_init = 4, epochs = 1000, algo 'AdaGrad' )"
      ]
    }
  ]
}